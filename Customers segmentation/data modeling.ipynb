{
 "cells": [
  {
   "cell_type": "markdown",
   "id": "d73cacd2",
   "metadata": {
    "id": "d73cacd2"
   },
   "source": [
    "> Supreme Team Assignment, All rights reserved\n",
    ">\n"
   ]
  },
  {
   "cell_type": "markdown",
   "id": "dace54d7-8943-4623-8914-dc998b268c3c",
   "metadata": {
    "id": "dace54d7-8943-4623-8914-dc998b268c3c"
   },
   "source": [
    "### Authored by:\n",
    "Team Name: Team Supreme\n",
    "\n",
    "Team Members: Vellanki Sai Bharadwaja, Sri Ram Sripada, Yogesh, Revanth Reddy Sana, Aswith, Tarun."
   ]
  },
  {
   "cell_type": "markdown",
   "id": "ae9a5256-37ff-4f94-89a8-372af85d3a0e",
   "metadata": {
    "id": "ae9a5256-37ff-4f94-89a8-372af85d3a0e"
   },
   "source": [
    "### Problem Statement"
   ]
  },
  {
   "cell_type": "markdown",
   "id": "63dc7af3-2358-404a-b81e-5e69d817a380",
   "metadata": {
    "id": "63dc7af3-2358-404a-b81e-5e69d817a380"
   },
   "source": [
    "An automobile company has plans to enter new markets with their existing products (P1, P2, P3, P4 and P5). After intensive market research, they’ve deduced that the behavior of new market is similar to their existing market.\n",
    "\n",
    "In their existing market, the sales team has classified all customers into 4 segments (A, B, C, D ). Then, they performed segmented outreach and communication for different segment of customers. This strategy has work exceptionally well for them. They plan to use the same strategy on new markets and have identified 2627 new potential customers.\n",
    "\n",
    "You are required to help the manager to predict the right group of the new customers.\n",
    "\n",
    "The data set selected is “Customer Segmentation” attached is the link for easy reference – “https://www.kaggle.com/datasets/vetrirah/customer?datasetId=848479”"
   ]
  },
  {
   "cell_type": "markdown",
   "id": "0591e5fd-5b42-4126-8cae-0ea3f3052bf6",
   "metadata": {
    "id": "0591e5fd-5b42-4126-8cae-0ea3f3052bf6"
   },
   "source": [
    "### Variables Description"
   ]
  },
  {
   "cell_type": "markdown",
   "id": "b0f904e7-6c72-4057-9fad-057a9d912dc2",
   "metadata": {
    "id": "b0f904e7-6c72-4057-9fad-057a9d912dc2"
   },
   "source": [
    "Variable -> Definition\n",
    "\n",
    "ID -> Unique ID \n",
    "\n",
    "Gender -> Gender of the customer\n",
    "\n",
    "Ever_Married -> Marital status of the customer\n",
    "\n",
    "Age -> Age of the customer (Continuous)\n",
    "\n",
    "Graduated -> Is the customer a graduate?\n",
    "\n",
    "Profession -> Profession of the customer\n",
    "\n",
    "Work_Experience -> Work Experience in years (Continuous)\n",
    "\n",
    "Spending_Score -> Spending score of the customer\n",
    "\n",
    "Family_Size -> Number of family members for the customer(including the customer) (Continuous)\n",
    "\n",
    "Var_1 -> Anonymised Category for the customer\n",
    "\n",
    "Segmentation(target) -> Customer Segment of the customer"
   ]
  },
  {
   "cell_type": "markdown",
   "id": "dbaeb073-300c-4896-a53e-7c7099c33ba0",
   "metadata": {
    "id": "dbaeb073-300c-4896-a53e-7c7099c33ba0"
   },
   "source": [
    "### Multi Class Classification"
   ]
  },
  {
   "cell_type": "markdown",
   "id": "4cc1b890-4235-4b69-aaf9-a1140bfa156f",
   "metadata": {
    "id": "4cc1b890-4235-4b69-aaf9-a1140bfa156f"
   },
   "source": [
    "A classification task with more than two classes; e.g., classify a set of segmentation of customers which is A,B,C,orD. \n",
    "\n",
    "Multi-class classification makes the assumption that each sample is assigned to one and only one label: a fruit can be either an apple or a pear but not both at the same time.\n",
    "\n",
    "Common examples include image classification (is it a cat, dog, human, etc) or handwritten digit recognition (classifying an image of a handwritten number into a digit from 0 to 9).\n",
    "\n",
    "In machine learning, multiclass or multinomial classification is the problem of classifying instances into one of three or more classes (classifying instances into one of two classes is called binary classification).\n",
    "\n",
    "Multiclass classification should not be confused with multi-label classification, where multiple labels are to be predicted for each instance."
   ]
  },
  {
   "cell_type": "markdown",
   "id": "c57883c3-73c4-4028-ba03-560bd85e9aad",
   "metadata": {
    "id": "c57883c3-73c4-4028-ba03-560bd85e9aad"
   },
   "source": [
    "### Steps that we have followed in this notebook"
   ]
  },
  {
   "cell_type": "markdown",
   "id": "c7c9881d",
   "metadata": {
    "id": "c7c9881d"
   },
   "source": [
    "1. Understand the Problem Statement & Import Packages and Datasets.\n",
    "\n",
    "2. Perform EDA (Exploratory Data Analysis) - Understanding the Datasets :\n",
    "\n",
    "3. Explore Train and Test Data and get to know what each Column / Feature denotes.\n",
    "\n",
    "4. Check for Imbalance of Target Column in Datasets.\n",
    "5. Visualize Count Plots & Unique Values to infer from Datasets.\n",
    "6. Remove Duplicate Rows from Train Data if present.\n",
    "\n",
    "7. Fill/Impute Missing Values Continuous - Mean/Median/Any Specific Value & Categorical - Others/ForwardFill/BackFill.\n",
    "\n",
    "8. Split Train Data into Train and Validation Data with Predictors(Independent) & Target(Dependent).\n",
    "\n",
    "9. Data Encoding - Label Encoding, OneHot Encoding and Data Scaling - MinMaxScaler, StandardScaler, RobustScaler\n",
    "\n",
    "10. Create Baseline ML Model for Multi Class Classification Problem\n",
    "\n",
    "11. Improve ML Model,Fine Tune with MODEL Evaluation METRIC - \"Accuracy\" and Predict Traget \"Outcome\"\n",
    "\n",
    "12. Result Submission, Check Leaderboard & Improve \"Accuracy\" Score"
   ]
  },
  {
   "cell_type": "markdown",
   "id": "e273ca7f",
   "metadata": {
    "id": "e273ca7f"
   },
   "source": [
    "### Step1: Import all required libraries"
   ]
  },
  {
   "cell_type": "code",
   "execution_count": 160,
   "id": "b4cbcaca",
   "metadata": {
    "id": "b4cbcaca"
   },
   "outputs": [],
   "source": [
    "import pandas as pd\n",
    "from sklearn import *\n",
    "from sklearn import preprocessing \n",
    "import numpy as np\n",
    "import matplotlib.pyplot as plt\n",
    "from sklearn.neighbors import KNeighborsClassifier\n",
    "from sklearn.metrics import confusion_matrix\n",
    "from sklearn.utils import resample\n",
    "from sklearn.preprocessing import OrdinalEncoder\n",
    "from sklearn.preprocessing import LabelEncoder\n",
    "from sklearn.tree import DecisionTreeClassifier\n",
    "from sklearn.metrics import confusion_matrix, accuracy_score, precision_score, recall_score, classification_report\n",
    "from sklearn.metrics import f1_score\n",
    "import seaborn as sns\n",
    "from sklearn.model_selection import train_test_split, cross_val_score, GridSearchCV\n",
    "from sklearn.tree import plot_tree\n",
    "\n",
    "np.random.seed(1)\n",
    "\n",
    "from sklearn.model_selection import RepeatedStratifiedKFold\n",
    "\n",
    "\n",
    "# import packages\n",
    "import pandas as pd\n",
    "from sklearn.model_selection import train_test_split\n",
    "from sklearn.tree import DecisionTreeClassifier\n",
    "from sklearn.metrics import confusion_matrix, accuracy_score, precision_score, recall_score, f1_score\n",
    "from sklearn.model_selection import GridSearchCV, RandomizedSearchCV\n",
    "import numpy as np\n",
    "\n",
    "\n",
    "\n",
    "# import packages\n",
    "import pandas as pd\n",
    "import numpy as np\n",
    "from sklearn.model_selection import train_test_split\n",
    "from sklearn.tree import DecisionTreeClassifier\n",
    "from sklearn.ensemble import RandomForestClassifier, GradientBoostingClassifier, AdaBoostClassifier\n",
    "from sklearn.metrics import confusion_matrix, accuracy_score, precision_score, recall_score, f1_score\n",
    "from sklearn.model_selection import GridSearchCV, RandomizedSearchCV\n",
    "from xgboost import XGBClassifier\n",
    "\n",
    "\n",
    "\n",
    "\n",
    "\n",
    "# import packages\n",
    "import pandas as pd\n",
    "import numpy as np\n",
    "from sklearn.model_selection import train_test_split\n",
    "from sklearn.tree import DecisionTreeClassifier\n",
    "from xgboost import XGBClassifier\n",
    "from sklearn.ensemble import RandomForestClassifier, GradientBoostingClassifier, AdaBoostClassifier\n",
    "from sklearn.metrics import classification_report, confusion_matrix\n",
    "\n",
    "from sklearn.metrics import confusion_matrix, accuracy_score, precision_score, recall_score, f1_score\n",
    "from sklearn.model_selection import GridSearchCV, RandomizedSearchCV\n",
    "from sklearn.model_selection import RepeatedStratifiedKFold\n",
    "from xgboost import XGBClassifier\n",
    "import matplotlib.pyplot as plt\n",
    "import seaborn as sns\n",
    "\n",
    "import warnings\n",
    "warnings.filterwarnings('ignore')"
   ]
  },
  {
   "cell_type": "markdown",
   "id": "994eebeb",
   "metadata": {
    "id": "994eebeb"
   },
   "source": [
    "### Step2: Load the data, clean and prepare data for analysis"
   ]
  },
  {
   "cell_type": "code",
   "execution_count": 2,
   "id": "_JzQaRTnFWBK",
   "metadata": {
    "colab": {
     "base_uri": "https://localhost:8080/",
     "height": 73
    },
    "id": "_JzQaRTnFWBK",
    "outputId": "e1e3a04d-d8e6-4055-aacc-52c9509b008b"
   },
   "outputs": [
    {
     "data": {
      "text/html": [
       "\n",
       "     <input type=\"file\" id=\"files-75fd8a29-73d6-40b2-8d56-3c0114e861d6\" name=\"files[]\" multiple disabled\n",
       "        style=\"border:none\" />\n",
       "     <output id=\"result-75fd8a29-73d6-40b2-8d56-3c0114e861d6\">\n",
       "      Upload widget is only available when the cell has been executed in the\n",
       "      current browser session. Please rerun this cell to enable.\n",
       "      </output>\n",
       "      <script>// Copyright 2017 Google LLC\n",
       "//\n",
       "// Licensed under the Apache License, Version 2.0 (the \"License\");\n",
       "// you may not use this file except in compliance with the License.\n",
       "// You may obtain a copy of the License at\n",
       "//\n",
       "//      http://www.apache.org/licenses/LICENSE-2.0\n",
       "//\n",
       "// Unless required by applicable law or agreed to in writing, software\n",
       "// distributed under the License is distributed on an \"AS IS\" BASIS,\n",
       "// WITHOUT WARRANTIES OR CONDITIONS OF ANY KIND, either express or implied.\n",
       "// See the License for the specific language governing permissions and\n",
       "// limitations under the License.\n",
       "\n",
       "/**\n",
       " * @fileoverview Helpers for google.colab Python module.\n",
       " */\n",
       "(function(scope) {\n",
       "function span(text, styleAttributes = {}) {\n",
       "  const element = document.createElement('span');\n",
       "  element.textContent = text;\n",
       "  for (const key of Object.keys(styleAttributes)) {\n",
       "    element.style[key] = styleAttributes[key];\n",
       "  }\n",
       "  return element;\n",
       "}\n",
       "\n",
       "// Max number of bytes which will be uploaded at a time.\n",
       "const MAX_PAYLOAD_SIZE = 100 * 1024;\n",
       "\n",
       "function _uploadFiles(inputId, outputId) {\n",
       "  const steps = uploadFilesStep(inputId, outputId);\n",
       "  const outputElement = document.getElementById(outputId);\n",
       "  // Cache steps on the outputElement to make it available for the next call\n",
       "  // to uploadFilesContinue from Python.\n",
       "  outputElement.steps = steps;\n",
       "\n",
       "  return _uploadFilesContinue(outputId);\n",
       "}\n",
       "\n",
       "// This is roughly an async generator (not supported in the browser yet),\n",
       "// where there are multiple asynchronous steps and the Python side is going\n",
       "// to poll for completion of each step.\n",
       "// This uses a Promise to block the python side on completion of each step,\n",
       "// then passes the result of the previous step as the input to the next step.\n",
       "function _uploadFilesContinue(outputId) {\n",
       "  const outputElement = document.getElementById(outputId);\n",
       "  const steps = outputElement.steps;\n",
       "\n",
       "  const next = steps.next(outputElement.lastPromiseValue);\n",
       "  return Promise.resolve(next.value.promise).then((value) => {\n",
       "    // Cache the last promise value to make it available to the next\n",
       "    // step of the generator.\n",
       "    outputElement.lastPromiseValue = value;\n",
       "    return next.value.response;\n",
       "  });\n",
       "}\n",
       "\n",
       "/**\n",
       " * Generator function which is called between each async step of the upload\n",
       " * process.\n",
       " * @param {string} inputId Element ID of the input file picker element.\n",
       " * @param {string} outputId Element ID of the output display.\n",
       " * @return {!Iterable<!Object>} Iterable of next steps.\n",
       " */\n",
       "function* uploadFilesStep(inputId, outputId) {\n",
       "  const inputElement = document.getElementById(inputId);\n",
       "  inputElement.disabled = false;\n",
       "\n",
       "  const outputElement = document.getElementById(outputId);\n",
       "  outputElement.innerHTML = '';\n",
       "\n",
       "  const pickedPromise = new Promise((resolve) => {\n",
       "    inputElement.addEventListener('change', (e) => {\n",
       "      resolve(e.target.files);\n",
       "    });\n",
       "  });\n",
       "\n",
       "  const cancel = document.createElement('button');\n",
       "  inputElement.parentElement.appendChild(cancel);\n",
       "  cancel.textContent = 'Cancel upload';\n",
       "  const cancelPromise = new Promise((resolve) => {\n",
       "    cancel.onclick = () => {\n",
       "      resolve(null);\n",
       "    };\n",
       "  });\n",
       "\n",
       "  // Wait for the user to pick the files.\n",
       "  const files = yield {\n",
       "    promise: Promise.race([pickedPromise, cancelPromise]),\n",
       "    response: {\n",
       "      action: 'starting',\n",
       "    }\n",
       "  };\n",
       "\n",
       "  cancel.remove();\n",
       "\n",
       "  // Disable the input element since further picks are not allowed.\n",
       "  inputElement.disabled = true;\n",
       "\n",
       "  if (!files) {\n",
       "    return {\n",
       "      response: {\n",
       "        action: 'complete',\n",
       "      }\n",
       "    };\n",
       "  }\n",
       "\n",
       "  for (const file of files) {\n",
       "    const li = document.createElement('li');\n",
       "    li.append(span(file.name, {fontWeight: 'bold'}));\n",
       "    li.append(span(\n",
       "        `(${file.type || 'n/a'}) - ${file.size} bytes, ` +\n",
       "        `last modified: ${\n",
       "            file.lastModifiedDate ? file.lastModifiedDate.toLocaleDateString() :\n",
       "                                    'n/a'} - `));\n",
       "    const percent = span('0% done');\n",
       "    li.appendChild(percent);\n",
       "\n",
       "    outputElement.appendChild(li);\n",
       "\n",
       "    const fileDataPromise = new Promise((resolve) => {\n",
       "      const reader = new FileReader();\n",
       "      reader.onload = (e) => {\n",
       "        resolve(e.target.result);\n",
       "      };\n",
       "      reader.readAsArrayBuffer(file);\n",
       "    });\n",
       "    // Wait for the data to be ready.\n",
       "    let fileData = yield {\n",
       "      promise: fileDataPromise,\n",
       "      response: {\n",
       "        action: 'continue',\n",
       "      }\n",
       "    };\n",
       "\n",
       "    // Use a chunked sending to avoid message size limits. See b/62115660.\n",
       "    let position = 0;\n",
       "    do {\n",
       "      const length = Math.min(fileData.byteLength - position, MAX_PAYLOAD_SIZE);\n",
       "      const chunk = new Uint8Array(fileData, position, length);\n",
       "      position += length;\n",
       "\n",
       "      const base64 = btoa(String.fromCharCode.apply(null, chunk));\n",
       "      yield {\n",
       "        response: {\n",
       "          action: 'append',\n",
       "          file: file.name,\n",
       "          data: base64,\n",
       "        },\n",
       "      };\n",
       "\n",
       "      let percentDone = fileData.byteLength === 0 ?\n",
       "          100 :\n",
       "          Math.round((position / fileData.byteLength) * 100);\n",
       "      percent.textContent = `${percentDone}% done`;\n",
       "\n",
       "    } while (position < fileData.byteLength);\n",
       "  }\n",
       "\n",
       "  // All done.\n",
       "  yield {\n",
       "    response: {\n",
       "      action: 'complete',\n",
       "    }\n",
       "  };\n",
       "}\n",
       "\n",
       "scope.google = scope.google || {};\n",
       "scope.google.colab = scope.google.colab || {};\n",
       "scope.google.colab._files = {\n",
       "  _uploadFiles,\n",
       "  _uploadFilesContinue,\n",
       "};\n",
       "})(self);\n",
       "</script> "
      ],
      "text/plain": [
       "<IPython.core.display.HTML object>"
      ]
     },
     "metadata": {},
     "output_type": "display_data"
    },
    {
     "name": "stdout",
     "output_type": "stream",
     "text": [
      "Saving Train.csv to Train.csv\n"
     ]
    }
   ],
   "source": [
    "from google.colab import files\n",
    "uploaded = files.upload()"
   ]
  },
  {
   "cell_type": "code",
   "execution_count": 4,
   "id": "R8u5nDGZFWNw",
   "metadata": {
    "colab": {
     "base_uri": "https://localhost:8080/",
     "height": 73
    },
    "id": "R8u5nDGZFWNw",
    "outputId": "021a8b51-5a67-4671-e8a0-e7bdd839810f"
   },
   "outputs": [
    {
     "data": {
      "text/html": [
       "\n",
       "     <input type=\"file\" id=\"files-bbce53b1-7bdb-42a2-9ca6-825c2c3f9f10\" name=\"files[]\" multiple disabled\n",
       "        style=\"border:none\" />\n",
       "     <output id=\"result-bbce53b1-7bdb-42a2-9ca6-825c2c3f9f10\">\n",
       "      Upload widget is only available when the cell has been executed in the\n",
       "      current browser session. Please rerun this cell to enable.\n",
       "      </output>\n",
       "      <script>// Copyright 2017 Google LLC\n",
       "//\n",
       "// Licensed under the Apache License, Version 2.0 (the \"License\");\n",
       "// you may not use this file except in compliance with the License.\n",
       "// You may obtain a copy of the License at\n",
       "//\n",
       "//      http://www.apache.org/licenses/LICENSE-2.0\n",
       "//\n",
       "// Unless required by applicable law or agreed to in writing, software\n",
       "// distributed under the License is distributed on an \"AS IS\" BASIS,\n",
       "// WITHOUT WARRANTIES OR CONDITIONS OF ANY KIND, either express or implied.\n",
       "// See the License for the specific language governing permissions and\n",
       "// limitations under the License.\n",
       "\n",
       "/**\n",
       " * @fileoverview Helpers for google.colab Python module.\n",
       " */\n",
       "(function(scope) {\n",
       "function span(text, styleAttributes = {}) {\n",
       "  const element = document.createElement('span');\n",
       "  element.textContent = text;\n",
       "  for (const key of Object.keys(styleAttributes)) {\n",
       "    element.style[key] = styleAttributes[key];\n",
       "  }\n",
       "  return element;\n",
       "}\n",
       "\n",
       "// Max number of bytes which will be uploaded at a time.\n",
       "const MAX_PAYLOAD_SIZE = 100 * 1024;\n",
       "\n",
       "function _uploadFiles(inputId, outputId) {\n",
       "  const steps = uploadFilesStep(inputId, outputId);\n",
       "  const outputElement = document.getElementById(outputId);\n",
       "  // Cache steps on the outputElement to make it available for the next call\n",
       "  // to uploadFilesContinue from Python.\n",
       "  outputElement.steps = steps;\n",
       "\n",
       "  return _uploadFilesContinue(outputId);\n",
       "}\n",
       "\n",
       "// This is roughly an async generator (not supported in the browser yet),\n",
       "// where there are multiple asynchronous steps and the Python side is going\n",
       "// to poll for completion of each step.\n",
       "// This uses a Promise to block the python side on completion of each step,\n",
       "// then passes the result of the previous step as the input to the next step.\n",
       "function _uploadFilesContinue(outputId) {\n",
       "  const outputElement = document.getElementById(outputId);\n",
       "  const steps = outputElement.steps;\n",
       "\n",
       "  const next = steps.next(outputElement.lastPromiseValue);\n",
       "  return Promise.resolve(next.value.promise).then((value) => {\n",
       "    // Cache the last promise value to make it available to the next\n",
       "    // step of the generator.\n",
       "    outputElement.lastPromiseValue = value;\n",
       "    return next.value.response;\n",
       "  });\n",
       "}\n",
       "\n",
       "/**\n",
       " * Generator function which is called between each async step of the upload\n",
       " * process.\n",
       " * @param {string} inputId Element ID of the input file picker element.\n",
       " * @param {string} outputId Element ID of the output display.\n",
       " * @return {!Iterable<!Object>} Iterable of next steps.\n",
       " */\n",
       "function* uploadFilesStep(inputId, outputId) {\n",
       "  const inputElement = document.getElementById(inputId);\n",
       "  inputElement.disabled = false;\n",
       "\n",
       "  const outputElement = document.getElementById(outputId);\n",
       "  outputElement.innerHTML = '';\n",
       "\n",
       "  const pickedPromise = new Promise((resolve) => {\n",
       "    inputElement.addEventListener('change', (e) => {\n",
       "      resolve(e.target.files);\n",
       "    });\n",
       "  });\n",
       "\n",
       "  const cancel = document.createElement('button');\n",
       "  inputElement.parentElement.appendChild(cancel);\n",
       "  cancel.textContent = 'Cancel upload';\n",
       "  const cancelPromise = new Promise((resolve) => {\n",
       "    cancel.onclick = () => {\n",
       "      resolve(null);\n",
       "    };\n",
       "  });\n",
       "\n",
       "  // Wait for the user to pick the files.\n",
       "  const files = yield {\n",
       "    promise: Promise.race([pickedPromise, cancelPromise]),\n",
       "    response: {\n",
       "      action: 'starting',\n",
       "    }\n",
       "  };\n",
       "\n",
       "  cancel.remove();\n",
       "\n",
       "  // Disable the input element since further picks are not allowed.\n",
       "  inputElement.disabled = true;\n",
       "\n",
       "  if (!files) {\n",
       "    return {\n",
       "      response: {\n",
       "        action: 'complete',\n",
       "      }\n",
       "    };\n",
       "  }\n",
       "\n",
       "  for (const file of files) {\n",
       "    const li = document.createElement('li');\n",
       "    li.append(span(file.name, {fontWeight: 'bold'}));\n",
       "    li.append(span(\n",
       "        `(${file.type || 'n/a'}) - ${file.size} bytes, ` +\n",
       "        `last modified: ${\n",
       "            file.lastModifiedDate ? file.lastModifiedDate.toLocaleDateString() :\n",
       "                                    'n/a'} - `));\n",
       "    const percent = span('0% done');\n",
       "    li.appendChild(percent);\n",
       "\n",
       "    outputElement.appendChild(li);\n",
       "\n",
       "    const fileDataPromise = new Promise((resolve) => {\n",
       "      const reader = new FileReader();\n",
       "      reader.onload = (e) => {\n",
       "        resolve(e.target.result);\n",
       "      };\n",
       "      reader.readAsArrayBuffer(file);\n",
       "    });\n",
       "    // Wait for the data to be ready.\n",
       "    let fileData = yield {\n",
       "      promise: fileDataPromise,\n",
       "      response: {\n",
       "        action: 'continue',\n",
       "      }\n",
       "    };\n",
       "\n",
       "    // Use a chunked sending to avoid message size limits. See b/62115660.\n",
       "    let position = 0;\n",
       "    do {\n",
       "      const length = Math.min(fileData.byteLength - position, MAX_PAYLOAD_SIZE);\n",
       "      const chunk = new Uint8Array(fileData, position, length);\n",
       "      position += length;\n",
       "\n",
       "      const base64 = btoa(String.fromCharCode.apply(null, chunk));\n",
       "      yield {\n",
       "        response: {\n",
       "          action: 'append',\n",
       "          file: file.name,\n",
       "          data: base64,\n",
       "        },\n",
       "      };\n",
       "\n",
       "      let percentDone = fileData.byteLength === 0 ?\n",
       "          100 :\n",
       "          Math.round((position / fileData.byteLength) * 100);\n",
       "      percent.textContent = `${percentDone}% done`;\n",
       "\n",
       "    } while (position < fileData.byteLength);\n",
       "  }\n",
       "\n",
       "  // All done.\n",
       "  yield {\n",
       "    response: {\n",
       "      action: 'complete',\n",
       "    }\n",
       "  };\n",
       "}\n",
       "\n",
       "scope.google = scope.google || {};\n",
       "scope.google.colab = scope.google.colab || {};\n",
       "scope.google.colab._files = {\n",
       "  _uploadFiles,\n",
       "  _uploadFilesContinue,\n",
       "};\n",
       "})(self);\n",
       "</script> "
      ],
      "text/plain": [
       "<IPython.core.display.HTML object>"
      ]
     },
     "metadata": {},
     "output_type": "display_data"
    },
    {
     "name": "stdout",
     "output_type": "stream",
     "text": [
      "Saving Test.csv to Test.csv\n"
     ]
    }
   ],
   "source": [
    "uploaded1 = files.upload()"
   ]
  },
  {
   "cell_type": "code",
   "execution_count": 6,
   "id": "eT0u87tmFnt0",
   "metadata": {
    "id": "eT0u87tmFnt0"
   },
   "outputs": [],
   "source": [
    "import io\n",
    "customer_df = pd.read_csv(io.BytesIO(uploaded['Train.csv']))\n",
    "customer_test_df = pd.read_csv(io.BytesIO(uploaded1['Test.csv']))"
   ]
  },
  {
   "cell_type": "code",
   "execution_count": 7,
   "id": "9db75714-43a3-430a-8f86-a9564d701fb1",
   "metadata": {
    "id": "9db75714-43a3-430a-8f86-a9564d701fb1"
   },
   "outputs": [],
   "source": [
    "#customer_test_df = pd.read_csv(\"C:/Users/vella/ism6136/Test.csv\")"
   ]
  },
  {
   "cell_type": "code",
   "execution_count": 8,
   "id": "46148eb0",
   "metadata": {
    "colab": {
     "base_uri": "https://localhost:8080/",
     "height": 206
    },
    "id": "46148eb0",
    "outputId": "020bc914-c3f7-4c15-9c2e-db4effe5e4c7"
   },
   "outputs": [
    {
     "data": {
      "text/html": [
       "\n",
       "  <div id=\"df-4a0d7caf-5151-44c7-855e-e1fb73890c48\">\n",
       "    <div class=\"colab-df-container\">\n",
       "      <div>\n",
       "<style scoped>\n",
       "    .dataframe tbody tr th:only-of-type {\n",
       "        vertical-align: middle;\n",
       "    }\n",
       "\n",
       "    .dataframe tbody tr th {\n",
       "        vertical-align: top;\n",
       "    }\n",
       "\n",
       "    .dataframe thead th {\n",
       "        text-align: right;\n",
       "    }\n",
       "</style>\n",
       "<table border=\"1\" class=\"dataframe\">\n",
       "  <thead>\n",
       "    <tr style=\"text-align: right;\">\n",
       "      <th></th>\n",
       "      <th>ID</th>\n",
       "      <th>Gender</th>\n",
       "      <th>Ever_Married</th>\n",
       "      <th>Age</th>\n",
       "      <th>Graduated</th>\n",
       "      <th>Profession</th>\n",
       "      <th>Work_Experience</th>\n",
       "      <th>Spending_Score</th>\n",
       "      <th>Family_Size</th>\n",
       "      <th>Var_1</th>\n",
       "      <th>Segmentation</th>\n",
       "    </tr>\n",
       "  </thead>\n",
       "  <tbody>\n",
       "    <tr>\n",
       "      <th>0</th>\n",
       "      <td>462809</td>\n",
       "      <td>Male</td>\n",
       "      <td>No</td>\n",
       "      <td>22</td>\n",
       "      <td>No</td>\n",
       "      <td>Healthcare</td>\n",
       "      <td>1.0</td>\n",
       "      <td>Low</td>\n",
       "      <td>4.0</td>\n",
       "      <td>Cat_4</td>\n",
       "      <td>D</td>\n",
       "    </tr>\n",
       "    <tr>\n",
       "      <th>1</th>\n",
       "      <td>462643</td>\n",
       "      <td>Female</td>\n",
       "      <td>Yes</td>\n",
       "      <td>38</td>\n",
       "      <td>Yes</td>\n",
       "      <td>Engineer</td>\n",
       "      <td>NaN</td>\n",
       "      <td>Average</td>\n",
       "      <td>3.0</td>\n",
       "      <td>Cat_4</td>\n",
       "      <td>A</td>\n",
       "    </tr>\n",
       "    <tr>\n",
       "      <th>2</th>\n",
       "      <td>466315</td>\n",
       "      <td>Female</td>\n",
       "      <td>Yes</td>\n",
       "      <td>67</td>\n",
       "      <td>Yes</td>\n",
       "      <td>Engineer</td>\n",
       "      <td>1.0</td>\n",
       "      <td>Low</td>\n",
       "      <td>1.0</td>\n",
       "      <td>Cat_6</td>\n",
       "      <td>B</td>\n",
       "    </tr>\n",
       "    <tr>\n",
       "      <th>3</th>\n",
       "      <td>461735</td>\n",
       "      <td>Male</td>\n",
       "      <td>Yes</td>\n",
       "      <td>67</td>\n",
       "      <td>Yes</td>\n",
       "      <td>Lawyer</td>\n",
       "      <td>0.0</td>\n",
       "      <td>High</td>\n",
       "      <td>2.0</td>\n",
       "      <td>Cat_6</td>\n",
       "      <td>B</td>\n",
       "    </tr>\n",
       "    <tr>\n",
       "      <th>4</th>\n",
       "      <td>462669</td>\n",
       "      <td>Female</td>\n",
       "      <td>Yes</td>\n",
       "      <td>40</td>\n",
       "      <td>Yes</td>\n",
       "      <td>Entertainment</td>\n",
       "      <td>NaN</td>\n",
       "      <td>High</td>\n",
       "      <td>6.0</td>\n",
       "      <td>Cat_6</td>\n",
       "      <td>A</td>\n",
       "    </tr>\n",
       "  </tbody>\n",
       "</table>\n",
       "</div>\n",
       "      <button class=\"colab-df-convert\" onclick=\"convertToInteractive('df-4a0d7caf-5151-44c7-855e-e1fb73890c48')\"\n",
       "              title=\"Convert this dataframe to an interactive table.\"\n",
       "              style=\"display:none;\">\n",
       "        \n",
       "  <svg xmlns=\"http://www.w3.org/2000/svg\" height=\"24px\"viewBox=\"0 0 24 24\"\n",
       "       width=\"24px\">\n",
       "    <path d=\"M0 0h24v24H0V0z\" fill=\"none\"/>\n",
       "    <path d=\"M18.56 5.44l.94 2.06.94-2.06 2.06-.94-2.06-.94-.94-2.06-.94 2.06-2.06.94zm-11 1L8.5 8.5l.94-2.06 2.06-.94-2.06-.94L8.5 2.5l-.94 2.06-2.06.94zm10 10l.94 2.06.94-2.06 2.06-.94-2.06-.94-.94-2.06-.94 2.06-2.06.94z\"/><path d=\"M17.41 7.96l-1.37-1.37c-.4-.4-.92-.59-1.43-.59-.52 0-1.04.2-1.43.59L10.3 9.45l-7.72 7.72c-.78.78-.78 2.05 0 2.83L4 21.41c.39.39.9.59 1.41.59.51 0 1.02-.2 1.41-.59l7.78-7.78 2.81-2.81c.8-.78.8-2.07 0-2.86zM5.41 20L4 18.59l7.72-7.72 1.47 1.35L5.41 20z\"/>\n",
       "  </svg>\n",
       "      </button>\n",
       "      \n",
       "  <style>\n",
       "    .colab-df-container {\n",
       "      display:flex;\n",
       "      flex-wrap:wrap;\n",
       "      gap: 12px;\n",
       "    }\n",
       "\n",
       "    .colab-df-convert {\n",
       "      background-color: #E8F0FE;\n",
       "      border: none;\n",
       "      border-radius: 50%;\n",
       "      cursor: pointer;\n",
       "      display: none;\n",
       "      fill: #1967D2;\n",
       "      height: 32px;\n",
       "      padding: 0 0 0 0;\n",
       "      width: 32px;\n",
       "    }\n",
       "\n",
       "    .colab-df-convert:hover {\n",
       "      background-color: #E2EBFA;\n",
       "      box-shadow: 0px 1px 2px rgba(60, 64, 67, 0.3), 0px 1px 3px 1px rgba(60, 64, 67, 0.15);\n",
       "      fill: #174EA6;\n",
       "    }\n",
       "\n",
       "    [theme=dark] .colab-df-convert {\n",
       "      background-color: #3B4455;\n",
       "      fill: #D2E3FC;\n",
       "    }\n",
       "\n",
       "    [theme=dark] .colab-df-convert:hover {\n",
       "      background-color: #434B5C;\n",
       "      box-shadow: 0px 1px 3px 1px rgba(0, 0, 0, 0.15);\n",
       "      filter: drop-shadow(0px 1px 2px rgba(0, 0, 0, 0.3));\n",
       "      fill: #FFFFFF;\n",
       "    }\n",
       "  </style>\n",
       "\n",
       "      <script>\n",
       "        const buttonEl =\n",
       "          document.querySelector('#df-4a0d7caf-5151-44c7-855e-e1fb73890c48 button.colab-df-convert');\n",
       "        buttonEl.style.display =\n",
       "          google.colab.kernel.accessAllowed ? 'block' : 'none';\n",
       "\n",
       "        async function convertToInteractive(key) {\n",
       "          const element = document.querySelector('#df-4a0d7caf-5151-44c7-855e-e1fb73890c48');\n",
       "          const dataTable =\n",
       "            await google.colab.kernel.invokeFunction('convertToInteractive',\n",
       "                                                     [key], {});\n",
       "          if (!dataTable) return;\n",
       "\n",
       "          const docLinkHtml = 'Like what you see? Visit the ' +\n",
       "            '<a target=\"_blank\" href=https://colab.research.google.com/notebooks/data_table.ipynb>data table notebook</a>'\n",
       "            + ' to learn more about interactive tables.';\n",
       "          element.innerHTML = '';\n",
       "          dataTable['output_type'] = 'display_data';\n",
       "          await google.colab.output.renderOutput(dataTable, element);\n",
       "          const docLink = document.createElement('div');\n",
       "          docLink.innerHTML = docLinkHtml;\n",
       "          element.appendChild(docLink);\n",
       "        }\n",
       "      </script>\n",
       "    </div>\n",
       "  </div>\n",
       "  "
      ],
      "text/plain": [
       "       ID  Gender Ever_Married  Age Graduated     Profession  Work_Experience  \\\n",
       "0  462809    Male           No   22        No     Healthcare              1.0   \n",
       "1  462643  Female          Yes   38       Yes       Engineer              NaN   \n",
       "2  466315  Female          Yes   67       Yes       Engineer              1.0   \n",
       "3  461735    Male          Yes   67       Yes         Lawyer              0.0   \n",
       "4  462669  Female          Yes   40       Yes  Entertainment              NaN   \n",
       "\n",
       "  Spending_Score  Family_Size  Var_1 Segmentation  \n",
       "0            Low          4.0  Cat_4            D  \n",
       "1        Average          3.0  Cat_4            A  \n",
       "2            Low          1.0  Cat_6            B  \n",
       "3           High          2.0  Cat_6            B  \n",
       "4           High          6.0  Cat_6            A  "
      ]
     },
     "execution_count": 8,
     "metadata": {},
     "output_type": "execute_result"
    }
   ],
   "source": [
    "customer_df.head(5)"
   ]
  },
  {
   "cell_type": "code",
   "execution_count": 9,
   "id": "b6af33e7",
   "metadata": {
    "colab": {
     "base_uri": "https://localhost:8080/"
    },
    "id": "b6af33e7",
    "outputId": "b3bc3103-7907-418e-eb01-6b6efc460f3c"
   },
   "outputs": [
    {
     "data": {
      "text/plain": [
       "(8068, 11)"
      ]
     },
     "execution_count": 9,
     "metadata": {},
     "output_type": "execute_result"
    }
   ],
   "source": [
    "customer_df.shape"
   ]
  },
  {
   "cell_type": "markdown",
   "id": "ccbb5cf1-27d0-4cf0-95b3-2c5d34fe7bf3",
   "metadata": {
    "id": "ccbb5cf1-27d0-4cf0-95b3-2c5d34fe7bf3"
   },
   "source": [
    "Checking the number of rows and columns in the data set selected"
   ]
  },
  {
   "cell_type": "code",
   "execution_count": 10,
   "id": "86c3ba97",
   "metadata": {
    "colab": {
     "base_uri": "https://localhost:8080/",
     "height": 300
    },
    "id": "86c3ba97",
    "outputId": "ecdcded8-990d-491f-b67d-899ab8908c3c"
   },
   "outputs": [
    {
     "data": {
      "text/html": [
       "\n",
       "  <div id=\"df-16aa605a-adbd-4783-8089-57dd5d522b96\">\n",
       "    <div class=\"colab-df-container\">\n",
       "      <div>\n",
       "<style scoped>\n",
       "    .dataframe tbody tr th:only-of-type {\n",
       "        vertical-align: middle;\n",
       "    }\n",
       "\n",
       "    .dataframe tbody tr th {\n",
       "        vertical-align: top;\n",
       "    }\n",
       "\n",
       "    .dataframe thead th {\n",
       "        text-align: right;\n",
       "    }\n",
       "</style>\n",
       "<table border=\"1\" class=\"dataframe\">\n",
       "  <thead>\n",
       "    <tr style=\"text-align: right;\">\n",
       "      <th></th>\n",
       "      <th>ID</th>\n",
       "      <th>Age</th>\n",
       "      <th>Work_Experience</th>\n",
       "      <th>Family_Size</th>\n",
       "    </tr>\n",
       "  </thead>\n",
       "  <tbody>\n",
       "    <tr>\n",
       "      <th>count</th>\n",
       "      <td>8068.000000</td>\n",
       "      <td>8068.000000</td>\n",
       "      <td>7239.000000</td>\n",
       "      <td>7733.000000</td>\n",
       "    </tr>\n",
       "    <tr>\n",
       "      <th>mean</th>\n",
       "      <td>463479.214551</td>\n",
       "      <td>43.466906</td>\n",
       "      <td>2.641663</td>\n",
       "      <td>2.850123</td>\n",
       "    </tr>\n",
       "    <tr>\n",
       "      <th>std</th>\n",
       "      <td>2595.381232</td>\n",
       "      <td>16.711696</td>\n",
       "      <td>3.406763</td>\n",
       "      <td>1.531413</td>\n",
       "    </tr>\n",
       "    <tr>\n",
       "      <th>min</th>\n",
       "      <td>458982.000000</td>\n",
       "      <td>18.000000</td>\n",
       "      <td>0.000000</td>\n",
       "      <td>1.000000</td>\n",
       "    </tr>\n",
       "    <tr>\n",
       "      <th>25%</th>\n",
       "      <td>461240.750000</td>\n",
       "      <td>30.000000</td>\n",
       "      <td>0.000000</td>\n",
       "      <td>2.000000</td>\n",
       "    </tr>\n",
       "    <tr>\n",
       "      <th>50%</th>\n",
       "      <td>463472.500000</td>\n",
       "      <td>40.000000</td>\n",
       "      <td>1.000000</td>\n",
       "      <td>3.000000</td>\n",
       "    </tr>\n",
       "    <tr>\n",
       "      <th>75%</th>\n",
       "      <td>465744.250000</td>\n",
       "      <td>53.000000</td>\n",
       "      <td>4.000000</td>\n",
       "      <td>4.000000</td>\n",
       "    </tr>\n",
       "    <tr>\n",
       "      <th>max</th>\n",
       "      <td>467974.000000</td>\n",
       "      <td>89.000000</td>\n",
       "      <td>14.000000</td>\n",
       "      <td>9.000000</td>\n",
       "    </tr>\n",
       "  </tbody>\n",
       "</table>\n",
       "</div>\n",
       "      <button class=\"colab-df-convert\" onclick=\"convertToInteractive('df-16aa605a-adbd-4783-8089-57dd5d522b96')\"\n",
       "              title=\"Convert this dataframe to an interactive table.\"\n",
       "              style=\"display:none;\">\n",
       "        \n",
       "  <svg xmlns=\"http://www.w3.org/2000/svg\" height=\"24px\"viewBox=\"0 0 24 24\"\n",
       "       width=\"24px\">\n",
       "    <path d=\"M0 0h24v24H0V0z\" fill=\"none\"/>\n",
       "    <path d=\"M18.56 5.44l.94 2.06.94-2.06 2.06-.94-2.06-.94-.94-2.06-.94 2.06-2.06.94zm-11 1L8.5 8.5l.94-2.06 2.06-.94-2.06-.94L8.5 2.5l-.94 2.06-2.06.94zm10 10l.94 2.06.94-2.06 2.06-.94-2.06-.94-.94-2.06-.94 2.06-2.06.94z\"/><path d=\"M17.41 7.96l-1.37-1.37c-.4-.4-.92-.59-1.43-.59-.52 0-1.04.2-1.43.59L10.3 9.45l-7.72 7.72c-.78.78-.78 2.05 0 2.83L4 21.41c.39.39.9.59 1.41.59.51 0 1.02-.2 1.41-.59l7.78-7.78 2.81-2.81c.8-.78.8-2.07 0-2.86zM5.41 20L4 18.59l7.72-7.72 1.47 1.35L5.41 20z\"/>\n",
       "  </svg>\n",
       "      </button>\n",
       "      \n",
       "  <style>\n",
       "    .colab-df-container {\n",
       "      display:flex;\n",
       "      flex-wrap:wrap;\n",
       "      gap: 12px;\n",
       "    }\n",
       "\n",
       "    .colab-df-convert {\n",
       "      background-color: #E8F0FE;\n",
       "      border: none;\n",
       "      border-radius: 50%;\n",
       "      cursor: pointer;\n",
       "      display: none;\n",
       "      fill: #1967D2;\n",
       "      height: 32px;\n",
       "      padding: 0 0 0 0;\n",
       "      width: 32px;\n",
       "    }\n",
       "\n",
       "    .colab-df-convert:hover {\n",
       "      background-color: #E2EBFA;\n",
       "      box-shadow: 0px 1px 2px rgba(60, 64, 67, 0.3), 0px 1px 3px 1px rgba(60, 64, 67, 0.15);\n",
       "      fill: #174EA6;\n",
       "    }\n",
       "\n",
       "    [theme=dark] .colab-df-convert {\n",
       "      background-color: #3B4455;\n",
       "      fill: #D2E3FC;\n",
       "    }\n",
       "\n",
       "    [theme=dark] .colab-df-convert:hover {\n",
       "      background-color: #434B5C;\n",
       "      box-shadow: 0px 1px 3px 1px rgba(0, 0, 0, 0.15);\n",
       "      filter: drop-shadow(0px 1px 2px rgba(0, 0, 0, 0.3));\n",
       "      fill: #FFFFFF;\n",
       "    }\n",
       "  </style>\n",
       "\n",
       "      <script>\n",
       "        const buttonEl =\n",
       "          document.querySelector('#df-16aa605a-adbd-4783-8089-57dd5d522b96 button.colab-df-convert');\n",
       "        buttonEl.style.display =\n",
       "          google.colab.kernel.accessAllowed ? 'block' : 'none';\n",
       "\n",
       "        async function convertToInteractive(key) {\n",
       "          const element = document.querySelector('#df-16aa605a-adbd-4783-8089-57dd5d522b96');\n",
       "          const dataTable =\n",
       "            await google.colab.kernel.invokeFunction('convertToInteractive',\n",
       "                                                     [key], {});\n",
       "          if (!dataTable) return;\n",
       "\n",
       "          const docLinkHtml = 'Like what you see? Visit the ' +\n",
       "            '<a target=\"_blank\" href=https://colab.research.google.com/notebooks/data_table.ipynb>data table notebook</a>'\n",
       "            + ' to learn more about interactive tables.';\n",
       "          element.innerHTML = '';\n",
       "          dataTable['output_type'] = 'display_data';\n",
       "          await google.colab.output.renderOutput(dataTable, element);\n",
       "          const docLink = document.createElement('div');\n",
       "          docLink.innerHTML = docLinkHtml;\n",
       "          element.appendChild(docLink);\n",
       "        }\n",
       "      </script>\n",
       "    </div>\n",
       "  </div>\n",
       "  "
      ],
      "text/plain": [
       "                  ID          Age  Work_Experience  Family_Size\n",
       "count    8068.000000  8068.000000      7239.000000  7733.000000\n",
       "mean   463479.214551    43.466906         2.641663     2.850123\n",
       "std      2595.381232    16.711696         3.406763     1.531413\n",
       "min    458982.000000    18.000000         0.000000     1.000000\n",
       "25%    461240.750000    30.000000         0.000000     2.000000\n",
       "50%    463472.500000    40.000000         1.000000     3.000000\n",
       "75%    465744.250000    53.000000         4.000000     4.000000\n",
       "max    467974.000000    89.000000        14.000000     9.000000"
      ]
     },
     "execution_count": 10,
     "metadata": {},
     "output_type": "execute_result"
    }
   ],
   "source": [
    "customer_df.describe()"
   ]
  },
  {
   "cell_type": "markdown",
   "id": "34fd6c4f",
   "metadata": {
    "id": "34fd6c4f"
   },
   "source": [
    "Check column names, and for our convenience, let's remove whitespaces and '.' if any..."
   ]
  },
  {
   "cell_type": "code",
   "execution_count": 11,
   "id": "9f4370c0",
   "metadata": {
    "colab": {
     "base_uri": "https://localhost:8080/"
    },
    "id": "9f4370c0",
    "outputId": "ce957f49-9578-48b8-e1f1-66124a9b74a2"
   },
   "outputs": [
    {
     "data": {
      "text/plain": [
       "Index(['ID', 'Gender', 'Ever_Married', 'Age', 'Graduated', 'Profession',\n",
       "       'Work_Experience', 'Spending_Score', 'Family_Size', 'Var_1',\n",
       "       'Segmentation'],\n",
       "      dtype='object')"
      ]
     },
     "execution_count": 11,
     "metadata": {},
     "output_type": "execute_result"
    }
   ],
   "source": [
    "customer_df.columns"
   ]
  },
  {
   "cell_type": "markdown",
   "id": "12f65b6b",
   "metadata": {
    "id": "12f65b6b"
   },
   "source": [
    "### Step3: Clean up Column names - Removing whitespaces and '.' and replacing it with '_' and converting them to uppercase headers in all columns"
   ]
  },
  {
   "cell_type": "code",
   "execution_count": 12,
   "id": "9c184674",
   "metadata": {
    "id": "9c184674"
   },
   "outputs": [],
   "source": [
    "customer_df.columns = [s.strip().upper().replace('.', '_') for s in customer_df.columns] \n",
    "customer_df.columns = [s.strip().upper().replace(' ', '_') for s in customer_df.columns] "
   ]
  },
  {
   "cell_type": "code",
   "execution_count": 13,
   "id": "d58b8748",
   "metadata": {
    "colab": {
     "base_uri": "https://localhost:8080/"
    },
    "id": "d58b8748",
    "outputId": "852559de-437c-4f98-8384-9c831453c9bd"
   },
   "outputs": [
    {
     "data": {
      "text/plain": [
       "Index(['ID', 'GENDER', 'EVER_MARRIED', 'AGE', 'GRADUATED', 'PROFESSION',\n",
       "       'WORK_EXPERIENCE', 'SPENDING_SCORE', 'FAMILY_SIZE', 'VAR_1',\n",
       "       'SEGMENTATION'],\n",
       "      dtype='object')"
      ]
     },
     "execution_count": 13,
     "metadata": {},
     "output_type": "execute_result"
    }
   ],
   "source": [
    "customer_df.columns"
   ]
  },
  {
   "cell_type": "markdown",
   "id": "7fe84fd1",
   "metadata": {
    "id": "7fe84fd1"
   },
   "source": [
    "#### Exploring the datatypes of all the variables"
   ]
  },
  {
   "cell_type": "code",
   "execution_count": 14,
   "id": "1b75cf99",
   "metadata": {
    "colab": {
     "base_uri": "https://localhost:8080/"
    },
    "id": "1b75cf99",
    "outputId": "56d82e07-f987-46c4-e7e9-83f99e280763"
   },
   "outputs": [
    {
     "data": {
      "text/plain": [
       "ID                   int64\n",
       "GENDER              object\n",
       "EVER_MARRIED        object\n",
       "AGE                  int64\n",
       "GRADUATED           object\n",
       "PROFESSION          object\n",
       "WORK_EXPERIENCE    float64\n",
       "SPENDING_SCORE      object\n",
       "FAMILY_SIZE        float64\n",
       "VAR_1               object\n",
       "SEGMENTATION        object\n",
       "dtype: object"
      ]
     },
     "execution_count": 14,
     "metadata": {},
     "output_type": "execute_result"
    }
   ],
   "source": [
    "customer_df.dtypes"
   ]
  },
  {
   "cell_type": "markdown",
   "id": "2677dc46",
   "metadata": {
    "id": "2677dc46"
   },
   "source": [
    "#### We are now replacing all the 'object' datatypes to 'category' datatypes by converting them to categorical datatypes"
   ]
  },
  {
   "cell_type": "code",
   "execution_count": 15,
   "id": "32250129",
   "metadata": {
    "id": "32250129"
   },
   "outputs": [],
   "source": [
    "customer_df.GENDER = customer_df.GENDER.astype('category')\n",
    "customer_df.EVER_MARRIED = customer_df.EVER_MARRIED.astype('category')\n",
    "customer_df.GRADUATED = customer_df.GRADUATED.astype('category')\n",
    "customer_df.PROFESSION = customer_df.PROFESSION.astype('category')\n",
    "customer_df.SPENDING_SCORE = customer_df.SPENDING_SCORE.astype('category')\n",
    "customer_df.VAR_1 = customer_df.VAR_1.astype('category')\n",
    "customer_df.SEGMENTATION = customer_df.SEGMENTATION.astype('category')"
   ]
  },
  {
   "cell_type": "markdown",
   "id": "969b7a14",
   "metadata": {
    "id": "969b7a14"
   },
   "source": [
    "#### Now we have converted all our 'object' datatypes to 'categorical' datatypes"
   ]
  },
  {
   "cell_type": "code",
   "execution_count": 16,
   "id": "09b361ce",
   "metadata": {
    "colab": {
     "base_uri": "https://localhost:8080/"
    },
    "id": "09b361ce",
    "outputId": "578c1b03-d767-4e6c-d865-56e871c85f61"
   },
   "outputs": [
    {
     "data": {
      "text/plain": [
       "ID                    int64\n",
       "GENDER             category\n",
       "EVER_MARRIED       category\n",
       "AGE                   int64\n",
       "GRADUATED          category\n",
       "PROFESSION         category\n",
       "WORK_EXPERIENCE     float64\n",
       "SPENDING_SCORE     category\n",
       "FAMILY_SIZE         float64\n",
       "VAR_1              category\n",
       "SEGMENTATION       category\n",
       "dtype: object"
      ]
     },
     "execution_count": 16,
     "metadata": {},
     "output_type": "execute_result"
    }
   ],
   "source": [
    "customer_df.dtypes"
   ]
  },
  {
   "cell_type": "markdown",
   "id": "ab4c3b30",
   "metadata": {
    "id": "ab4c3b30"
   },
   "source": [
    "### check for missing values"
   ]
  },
  {
   "cell_type": "code",
   "execution_count": 17,
   "id": "a37cd64e",
   "metadata": {
    "colab": {
     "base_uri": "https://localhost:8080/"
    },
    "id": "a37cd64e",
    "outputId": "1bd72175-2ca7-47c2-826f-2453c8c26aff"
   },
   "outputs": [
    {
     "data": {
      "text/plain": [
       "ID                   0\n",
       "GENDER               0\n",
       "EVER_MARRIED       140\n",
       "AGE                  0\n",
       "GRADUATED           78\n",
       "PROFESSION         124\n",
       "WORK_EXPERIENCE    829\n",
       "SPENDING_SCORE       0\n",
       "FAMILY_SIZE        335\n",
       "VAR_1               76\n",
       "SEGMENTATION         0\n",
       "dtype: int64"
      ]
     },
     "execution_count": 17,
     "metadata": {},
     "output_type": "execute_result"
    }
   ],
   "source": [
    "customer_df.isnull().sum()"
   ]
  },
  {
   "cell_type": "markdown",
   "id": "6956aa30-4f67-48e6-aa3c-7a5288ed9bac",
   "metadata": {
    "id": "6956aa30-4f67-48e6-aa3c-7a5288ed9bac"
   },
   "source": [
    "### Exploring All unique values of all the integer and float variables using **unique()** "
   ]
  },
  {
   "cell_type": "code",
   "execution_count": 18,
   "id": "700e223e-265b-4090-8ada-57fc84f169a9",
   "metadata": {
    "colab": {
     "base_uri": "https://localhost:8080/"
    },
    "id": "700e223e-265b-4090-8ada-57fc84f169a9",
    "outputId": "058a94bb-7c6b-44ae-cd99-823dcf169dcc"
   },
   "outputs": [
    {
     "name": "stdout",
     "output_type": "stream",
     "text": [
      "[ 4.  3.  1.  2.  6. nan  5.  8.  7.  9.]\n",
      "---------------------------------------------------------------------------------------------------------------------------\n",
      "[ 1. nan  0.  4.  9. 12.  3. 13.  5.  8. 14.  7.  2.  6. 10. 11.]\n",
      "---------------------------------------------------------------------------------------------------------------------------\n"
     ]
    }
   ],
   "source": [
    "print(customer_df['FAMILY_SIZE'].unique())\n",
    "print('---------------------------------------------------------------------------------------------------------------------------')\n",
    "print(customer_df['WORK_EXPERIENCE'].unique())\n",
    "print('---------------------------------------------------------------------------------------------------------------------------')"
   ]
  },
  {
   "cell_type": "markdown",
   "id": "1c89a1ed",
   "metadata": {
    "id": "1c89a1ed"
   },
   "source": [
    "### Exploring All unique values of all the categorical variables using **unique()** "
   ]
  },
  {
   "cell_type": "code",
   "execution_count": 19,
   "id": "b34601f5",
   "metadata": {
    "colab": {
     "base_uri": "https://localhost:8080/"
    },
    "id": "b34601f5",
    "outputId": "7df1bf93-6d26-44e3-e8b9-e90561888f58"
   },
   "outputs": [
    {
     "name": "stdout",
     "output_type": "stream",
     "text": [
      "['Male', 'Female']\n",
      "Categories (2, object): ['Female', 'Male']\n",
      "---------------------------------------------------------------------------------------------------------------------------\n",
      "['No', 'Yes', NaN]\n",
      "Categories (2, object): ['No', 'Yes']\n",
      "---------------------------------------------------------------------------------------------------------------------------\n",
      "['No', 'Yes', NaN]\n",
      "Categories (2, object): ['No', 'Yes']\n",
      "---------------------------------------------------------------------------------------------------------------------------\n",
      "['Healthcare', 'Engineer', 'Lawyer', 'Entertainment', 'Artist', 'Executive', 'Doctor', 'Homemaker', 'Marketing', NaN]\n",
      "Categories (9, object): ['Artist', 'Doctor', 'Engineer', 'Entertainment', ..., 'Healthcare',\n",
      "                         'Homemaker', 'Lawyer', 'Marketing']\n",
      "---------------------------------------------------------------------------------------------------------------------------\n",
      "['Low', 'Average', 'High']\n",
      "Categories (3, object): ['Average', 'High', 'Low']\n",
      "---------------------------------------------------------------------------------------------------------------------------\n",
      "['Cat_4', 'Cat_6', 'Cat_7', 'Cat_3', 'Cat_1', 'Cat_2', NaN, 'Cat_5']\n",
      "Categories (7, object): ['Cat_1', 'Cat_2', 'Cat_3', 'Cat_4', 'Cat_5', 'Cat_6', 'Cat_7']\n",
      "---------------------------------------------------------------------------------------------------------------------------\n",
      "['D', 'A', 'B', 'C']\n",
      "Categories (4, object): ['A', 'B', 'C', 'D']\n"
     ]
    }
   ],
   "source": [
    "print(customer_df['GENDER'].unique())\n",
    "print('---------------------------------------------------------------------------------------------------------------------------')\n",
    "print(customer_df['EVER_MARRIED'].unique())\n",
    "print('---------------------------------------------------------------------------------------------------------------------------')\n",
    "print(customer_df['GRADUATED'].unique())\n",
    "print('---------------------------------------------------------------------------------------------------------------------------')\n",
    "print(customer_df['PROFESSION'].unique())\n",
    "print('---------------------------------------------------------------------------------------------------------------------------')\n",
    "print(customer_df['SPENDING_SCORE'].unique())\n",
    "print('---------------------------------------------------------------------------------------------------------------------------')\n",
    "print(customer_df['VAR_1'].unique())\n",
    "print('---------------------------------------------------------------------------------------------------------------------------')\n",
    "print(customer_df['SEGMENTATION'].unique())"
   ]
  },
  {
   "cell_type": "markdown",
   "id": "f41ae7fa",
   "metadata": {
    "id": "f41ae7fa"
   },
   "source": [
    "#### We can clearly observe that some of the categorical variables and integer/float variables (like 'EVER_MARRIED','GRADUATED','PROFESSION','VAR_1','WORK_EXPERIENCE', and 'FAMILY_SIZE') have 'nan' as unique value "
   ]
  },
  {
   "cell_type": "code",
   "execution_count": 20,
   "id": "3ddc59d1",
   "metadata": {
    "colab": {
     "base_uri": "https://localhost:8080/"
    },
    "id": "3ddc59d1",
    "outputId": "ff7bf293-1869-49ee-89fd-708dea91c50a"
   },
   "outputs": [
    {
     "data": {
      "text/plain": [
       "ID                   0\n",
       "GENDER               0\n",
       "EVER_MARRIED       140\n",
       "AGE                  0\n",
       "GRADUATED           78\n",
       "PROFESSION         124\n",
       "WORK_EXPERIENCE    829\n",
       "SPENDING_SCORE       0\n",
       "FAMILY_SIZE        335\n",
       "VAR_1               76\n",
       "SEGMENTATION         0\n",
       "dtype: int64"
      ]
     },
     "execution_count": 20,
     "metadata": {},
     "output_type": "execute_result"
    }
   ],
   "source": [
    "customer_df.isnull().sum()"
   ]
  },
  {
   "cell_type": "markdown",
   "id": "cae8aaad",
   "metadata": {
    "id": "cae8aaad"
   },
   "source": [
    "### Filling NaN values in 'EVER_MARRIED' variable with Most repeated element 'Yes' (MODE)"
   ]
  },
  {
   "cell_type": "code",
   "execution_count": 21,
   "id": "4cc48a9c",
   "metadata": {
    "colab": {
     "base_uri": "https://localhost:8080/"
    },
    "id": "4cc48a9c",
    "outputId": "77386bb6-ad86-47ff-d27f-5beaf4f4853d"
   },
   "outputs": [
    {
     "data": {
      "text/plain": [
       "count     7928\n",
       "unique       2\n",
       "top        Yes\n",
       "freq      4643\n",
       "Name: EVER_MARRIED, dtype: object"
      ]
     },
     "execution_count": 21,
     "metadata": {},
     "output_type": "execute_result"
    }
   ],
   "source": [
    "customer_df['EVER_MARRIED'].describe()"
   ]
  },
  {
   "cell_type": "code",
   "execution_count": 22,
   "id": "c0e963a5",
   "metadata": {
    "id": "c0e963a5"
   },
   "outputs": [],
   "source": [
    "customer_df['EVER_MARRIED'] = customer_df['EVER_MARRIED'].fillna('Yes')"
   ]
  },
  {
   "cell_type": "code",
   "execution_count": 23,
   "id": "63386b53-353f-4b27-bec4-fa7d2b172e24",
   "metadata": {
    "colab": {
     "base_uri": "https://localhost:8080/"
    },
    "id": "63386b53-353f-4b27-bec4-fa7d2b172e24",
    "outputId": "e3fc5c2c-584a-46d3-d6ac-91d89e0da7d4"
   },
   "outputs": [
    {
     "name": "stdout",
     "output_type": "stream",
     "text": [
      "['No', 'Yes']\n",
      "Categories (2, object): ['No', 'Yes']\n",
      "---------------------------------------------------------------------------------------------------------------------------\n"
     ]
    }
   ],
   "source": [
    "print(customer_df['EVER_MARRIED'].unique())\n",
    "print('---------------------------------------------------------------------------------------------------------------------------')"
   ]
  },
  {
   "cell_type": "markdown",
   "id": "5207e3c0",
   "metadata": {
    "id": "5207e3c0"
   },
   "source": [
    "#### Filling NaN values in 'GRADUATED' variable with Most repeated element 'Yes' (MODE)"
   ]
  },
  {
   "cell_type": "code",
   "execution_count": 24,
   "id": "e04e2cb9",
   "metadata": {
    "colab": {
     "base_uri": "https://localhost:8080/"
    },
    "id": "e04e2cb9",
    "outputId": "6a30a556-940a-476f-f289-ddb8d68537cf"
   },
   "outputs": [
    {
     "data": {
      "text/plain": [
       "count     7990\n",
       "unique       2\n",
       "top        Yes\n",
       "freq      4968\n",
       "Name: GRADUATED, dtype: object"
      ]
     },
     "execution_count": 24,
     "metadata": {},
     "output_type": "execute_result"
    }
   ],
   "source": [
    "customer_df['GRADUATED'].describe()"
   ]
  },
  {
   "cell_type": "code",
   "execution_count": 25,
   "id": "5aa49f41",
   "metadata": {
    "id": "5aa49f41"
   },
   "outputs": [],
   "source": [
    "customer_df['GRADUATED'] = customer_df['GRADUATED'].fillna('Yes')"
   ]
  },
  {
   "cell_type": "code",
   "execution_count": 26,
   "id": "d378fa9d-93ee-4c5f-8471-824a15a5b7f0",
   "metadata": {
    "colab": {
     "base_uri": "https://localhost:8080/"
    },
    "id": "d378fa9d-93ee-4c5f-8471-824a15a5b7f0",
    "outputId": "ac190a2b-5c61-4ddc-f7be-7cd4e8dd3d3d"
   },
   "outputs": [
    {
     "name": "stdout",
     "output_type": "stream",
     "text": [
      "['No', 'Yes']\n",
      "Categories (2, object): ['No', 'Yes']\n",
      "---------------------------------------------------------------------------------------------------------------------------\n"
     ]
    }
   ],
   "source": [
    "print(customer_df['GRADUATED'].unique())\n",
    "print('---------------------------------------------------------------------------------------------------------------------------')"
   ]
  },
  {
   "cell_type": "markdown",
   "id": "a65d8d6b",
   "metadata": {
    "id": "a65d8d6b"
   },
   "source": [
    "#### Filling NaN values in 'PROFESSION' variable with Most repeated element 'Artist' (MODE)"
   ]
  },
  {
   "cell_type": "code",
   "execution_count": 27,
   "id": "1dfb7260",
   "metadata": {
    "colab": {
     "base_uri": "https://localhost:8080/"
    },
    "id": "1dfb7260",
    "outputId": "b691450f-d5b4-4b9d-8e52-ba77ef2cdeea"
   },
   "outputs": [
    {
     "data": {
      "text/plain": [
       "count       7944\n",
       "unique         9\n",
       "top       Artist\n",
       "freq        2516\n",
       "Name: PROFESSION, dtype: object"
      ]
     },
     "execution_count": 27,
     "metadata": {},
     "output_type": "execute_result"
    }
   ],
   "source": [
    "customer_df.PROFESSION.describe()"
   ]
  },
  {
   "cell_type": "code",
   "execution_count": 28,
   "id": "8cebe588",
   "metadata": {
    "id": "8cebe588"
   },
   "outputs": [],
   "source": [
    "customer_df['PROFESSION'] = customer_df['PROFESSION'].fillna('Artist')"
   ]
  },
  {
   "cell_type": "code",
   "execution_count": 29,
   "id": "c1d81453-862d-4322-ac9f-2f8819ee8be0",
   "metadata": {
    "colab": {
     "base_uri": "https://localhost:8080/"
    },
    "id": "c1d81453-862d-4322-ac9f-2f8819ee8be0",
    "outputId": "a10bfe46-7a0c-469a-a1ef-bf8c5bf7012d"
   },
   "outputs": [
    {
     "name": "stdout",
     "output_type": "stream",
     "text": [
      "['Healthcare', 'Engineer', 'Lawyer', 'Entertainment', 'Artist', 'Executive', 'Doctor', 'Homemaker', 'Marketing']\n",
      "Categories (9, object): ['Artist', 'Doctor', 'Engineer', 'Entertainment', ..., 'Healthcare',\n",
      "                         'Homemaker', 'Lawyer', 'Marketing']\n",
      "---------------------------------------------------------------------------------------------------------------------------\n"
     ]
    }
   ],
   "source": [
    "print(customer_df['PROFESSION'].unique())\n",
    "print('---------------------------------------------------------------------------------------------------------------------------')"
   ]
  },
  {
   "cell_type": "code",
   "execution_count": 30,
   "id": "69276048-e9d8-4652-b734-af78a7377371",
   "metadata": {
    "colab": {
     "base_uri": "https://localhost:8080/"
    },
    "id": "69276048-e9d8-4652-b734-af78a7377371",
    "outputId": "8870cff4-76f6-4452-cb83-939b7299d86b"
   },
   "outputs": [
    {
     "data": {
      "text/plain": [
       "count       8068\n",
       "unique         9\n",
       "top       Artist\n",
       "freq        2640\n",
       "Name: PROFESSION, dtype: object"
      ]
     },
     "execution_count": 30,
     "metadata": {},
     "output_type": "execute_result"
    }
   ],
   "source": [
    "customer_df.PROFESSION.describe()"
   ]
  },
  {
   "cell_type": "markdown",
   "id": "a90fd768-6177-4aaa-aa58-4c69ba302db7",
   "metadata": {
    "id": "a90fd768-6177-4aaa-aa58-4c69ba302db7"
   },
   "source": [
    "#### Filling NaN values in 'VAR_1' variable with Most repeated element 'Cat_6' (MODE)"
   ]
  },
  {
   "cell_type": "code",
   "execution_count": 31,
   "id": "7df09354-e835-41fe-8956-cc70059700ec",
   "metadata": {
    "colab": {
     "base_uri": "https://localhost:8080/"
    },
    "id": "7df09354-e835-41fe-8956-cc70059700ec",
    "outputId": "9b398de0-3b83-4ac7-a0b6-d717fb747e70"
   },
   "outputs": [
    {
     "data": {
      "text/plain": [
       "count      7992\n",
       "unique        7\n",
       "top       Cat_6\n",
       "freq       5238\n",
       "Name: VAR_1, dtype: object"
      ]
     },
     "execution_count": 31,
     "metadata": {},
     "output_type": "execute_result"
    }
   ],
   "source": [
    "customer_df.VAR_1.describe()"
   ]
  },
  {
   "cell_type": "code",
   "execution_count": 32,
   "id": "5b83c046-b2a5-4bce-978b-8ed8e514ef3c",
   "metadata": {
    "id": "5b83c046-b2a5-4bce-978b-8ed8e514ef3c"
   },
   "outputs": [],
   "source": [
    "customer_df['VAR_1'] = customer_df['VAR_1'].fillna('Cat_6')"
   ]
  },
  {
   "cell_type": "code",
   "execution_count": 33,
   "id": "30f8dda4-32da-4dfb-9a06-89d5d7bc1a9e",
   "metadata": {
    "colab": {
     "base_uri": "https://localhost:8080/"
    },
    "id": "30f8dda4-32da-4dfb-9a06-89d5d7bc1a9e",
    "outputId": "4023f206-00f9-419c-9dd4-4c3c6bfe6931"
   },
   "outputs": [
    {
     "name": "stdout",
     "output_type": "stream",
     "text": [
      "['Cat_4', 'Cat_6', 'Cat_7', 'Cat_3', 'Cat_1', 'Cat_2', 'Cat_5']\n",
      "Categories (7, object): ['Cat_1', 'Cat_2', 'Cat_3', 'Cat_4', 'Cat_5', 'Cat_6', 'Cat_7']\n",
      "---------------------------------------------------------------------------------------------------------------------------\n"
     ]
    }
   ],
   "source": [
    "print(customer_df['VAR_1'].unique())\n",
    "print('---------------------------------------------------------------------------------------------------------------------------')"
   ]
  },
  {
   "cell_type": "markdown",
   "id": "7dd603aa-4a78-4c0d-af2f-fc347ef4cbb1",
   "metadata": {
    "id": "7dd603aa-4a78-4c0d-af2f-fc347ef4cbb1"
   },
   "source": [
    "#### Filling NaN values in 'WORK_EXPERIENCE' variable with Mean of the column"
   ]
  },
  {
   "cell_type": "code",
   "execution_count": 34,
   "id": "f339aa9c-3ddd-4acc-a307-f1750726193d",
   "metadata": {
    "colab": {
     "base_uri": "https://localhost:8080/"
    },
    "id": "f339aa9c-3ddd-4acc-a307-f1750726193d",
    "outputId": "3a33399a-80aa-4968-b1a3-a2bda4356280"
   },
   "outputs": [
    {
     "data": {
      "text/plain": [
       "count    7239.000000\n",
       "mean        2.641663\n",
       "std         3.406763\n",
       "min         0.000000\n",
       "25%         0.000000\n",
       "50%         1.000000\n",
       "75%         4.000000\n",
       "max        14.000000\n",
       "Name: WORK_EXPERIENCE, dtype: float64"
      ]
     },
     "execution_count": 34,
     "metadata": {},
     "output_type": "execute_result"
    }
   ],
   "source": [
    "customer_df.WORK_EXPERIENCE.describe()"
   ]
  },
  {
   "cell_type": "code",
   "execution_count": 35,
   "id": "4dff9630-4fa5-400f-9281-d3c19119b4d2",
   "metadata": {
    "colab": {
     "base_uri": "https://localhost:8080/"
    },
    "id": "4dff9630-4fa5-400f-9281-d3c19119b4d2",
    "outputId": "e9328c5e-1aa7-46ed-ac1d-167ac353d559"
   },
   "outputs": [
    {
     "data": {
      "text/plain": [
       "2.641663213150988"
      ]
     },
     "execution_count": 35,
     "metadata": {},
     "output_type": "execute_result"
    }
   ],
   "source": [
    "customer_df['WORK_EXPERIENCE'].mean()"
   ]
  },
  {
   "cell_type": "code",
   "execution_count": 36,
   "id": "dceed753-02b4-4f65-a490-450825893c6b",
   "metadata": {
    "colab": {
     "base_uri": "https://localhost:8080/"
    },
    "id": "dceed753-02b4-4f65-a490-450825893c6b",
    "outputId": "59cdb10c-c34e-44ba-a2b6-7c9af5b40973"
   },
   "outputs": [
    {
     "data": {
      "text/plain": [
       "0    1.0\n",
       "dtype: float64"
      ]
     },
     "execution_count": 36,
     "metadata": {},
     "output_type": "execute_result"
    }
   ],
   "source": [
    "customer_df['WORK_EXPERIENCE'].mode()"
   ]
  },
  {
   "cell_type": "code",
   "execution_count": 37,
   "id": "3d84cc87-d9ed-411f-877a-2136d8766b22",
   "metadata": {
    "id": "3d84cc87-d9ed-411f-877a-2136d8766b22"
   },
   "outputs": [],
   "source": [
    "customer_df['WORK_EXPERIENCE'] = customer_df['WORK_EXPERIENCE'].fillna(customer_df['WORK_EXPERIENCE'].mean())"
   ]
  },
  {
   "cell_type": "code",
   "execution_count": 38,
   "id": "77230b94-c62b-4b02-b815-fea6d601f068",
   "metadata": {
    "colab": {
     "base_uri": "https://localhost:8080/"
    },
    "id": "77230b94-c62b-4b02-b815-fea6d601f068",
    "outputId": "b77b6185-2809-4fb2-cbb1-c3aa3b5924cf"
   },
   "outputs": [
    {
     "name": "stdout",
     "output_type": "stream",
     "text": [
      "[ 1.          2.64166321  0.          4.          9.         12.\n",
      "  3.         13.          5.          8.         14.          7.\n",
      "  2.          6.         10.         11.        ]\n",
      "---------------------------------------------------------------------------------------------------------------------------\n"
     ]
    }
   ],
   "source": [
    "print(customer_df['WORK_EXPERIENCE'].unique())\n",
    "print('---------------------------------------------------------------------------------------------------------------------------')"
   ]
  },
  {
   "cell_type": "code",
   "execution_count": 39,
   "id": "80ea3260-05f7-49ae-ac6f-09e651c6b75b",
   "metadata": {
    "colab": {
     "base_uri": "https://localhost:8080/"
    },
    "id": "80ea3260-05f7-49ae-ac6f-09e651c6b75b",
    "outputId": "5d33ca94-31af-4f92-b8d3-32f875a34a62"
   },
   "outputs": [
    {
     "data": {
      "text/plain": [
       "count    8068.000000\n",
       "mean        2.641663\n",
       "std         3.226972\n",
       "min         0.000000\n",
       "25%         0.000000\n",
       "50%         1.000000\n",
       "75%         4.000000\n",
       "max        14.000000\n",
       "Name: WORK_EXPERIENCE, dtype: float64"
      ]
     },
     "execution_count": 39,
     "metadata": {},
     "output_type": "execute_result"
    }
   ],
   "source": [
    "customer_df.WORK_EXPERIENCE.describe()"
   ]
  },
  {
   "cell_type": "markdown",
   "id": "b143b509-b262-4a88-b5fb-80c5ec547e1f",
   "metadata": {
    "id": "b143b509-b262-4a88-b5fb-80c5ec547e1f"
   },
   "source": [
    "#### Filling NaN values in 'FAMILY_SIZE' variable with Mean of the column"
   ]
  },
  {
   "cell_type": "code",
   "execution_count": 40,
   "id": "72500eed-d375-47e4-b51c-b2b48d748b14",
   "metadata": {
    "colab": {
     "base_uri": "https://localhost:8080/"
    },
    "id": "72500eed-d375-47e4-b51c-b2b48d748b14",
    "outputId": "7f54ae96-1808-4393-daed-f14488f52e1b"
   },
   "outputs": [
    {
     "data": {
      "text/plain": [
       "count    7733.000000\n",
       "mean        2.850123\n",
       "std         1.531413\n",
       "min         1.000000\n",
       "25%         2.000000\n",
       "50%         3.000000\n",
       "75%         4.000000\n",
       "max         9.000000\n",
       "Name: FAMILY_SIZE, dtype: float64"
      ]
     },
     "execution_count": 40,
     "metadata": {},
     "output_type": "execute_result"
    }
   ],
   "source": [
    "customer_df.FAMILY_SIZE.describe()"
   ]
  },
  {
   "cell_type": "code",
   "execution_count": 41,
   "id": "3fe4eca7-c164-4871-8ff3-46c488717e09",
   "metadata": {
    "colab": {
     "base_uri": "https://localhost:8080/"
    },
    "id": "3fe4eca7-c164-4871-8ff3-46c488717e09",
    "outputId": "e36448d0-6904-4945-cfed-dcf567601f2c"
   },
   "outputs": [
    {
     "data": {
      "text/plain": [
       "2.85012285012285"
      ]
     },
     "execution_count": 41,
     "metadata": {},
     "output_type": "execute_result"
    }
   ],
   "source": [
    "customer_df['FAMILY_SIZE'].mean()"
   ]
  },
  {
   "cell_type": "code",
   "execution_count": 42,
   "id": "5f936b50-7598-407d-813d-7c399ce0630d",
   "metadata": {
    "colab": {
     "base_uri": "https://localhost:8080/"
    },
    "id": "5f936b50-7598-407d-813d-7c399ce0630d",
    "outputId": "8e384927-b554-445f-ef25-645bbc631623"
   },
   "outputs": [
    {
     "data": {
      "text/plain": [
       "0    2.0\n",
       "dtype: float64"
      ]
     },
     "execution_count": 42,
     "metadata": {},
     "output_type": "execute_result"
    }
   ],
   "source": [
    "customer_df['FAMILY_SIZE'].mode()"
   ]
  },
  {
   "cell_type": "code",
   "execution_count": 43,
   "id": "e191ecdc-6517-44d4-9aa1-85344a112221",
   "metadata": {
    "colab": {
     "base_uri": "https://localhost:8080/"
    },
    "id": "e191ecdc-6517-44d4-9aa1-85344a112221",
    "outputId": "f22497d2-77e3-4744-bfd6-58ca60d5dc7c"
   },
   "outputs": [
    {
     "data": {
      "text/plain": [
       "3.0"
      ]
     },
     "execution_count": 43,
     "metadata": {},
     "output_type": "execute_result"
    }
   ],
   "source": [
    "customer_df['FAMILY_SIZE'].median()"
   ]
  },
  {
   "cell_type": "code",
   "execution_count": 44,
   "id": "81d91522-6efc-4582-ac70-5ff91f737009",
   "metadata": {
    "id": "81d91522-6efc-4582-ac70-5ff91f737009"
   },
   "outputs": [],
   "source": [
    "customer_df['FAMILY_SIZE'] = customer_df['FAMILY_SIZE'].fillna(customer_df['FAMILY_SIZE'].mean())"
   ]
  },
  {
   "cell_type": "code",
   "execution_count": 45,
   "id": "c83ef27f-d4da-4fc2-bca1-f204021158a2",
   "metadata": {
    "colab": {
     "base_uri": "https://localhost:8080/"
    },
    "id": "c83ef27f-d4da-4fc2-bca1-f204021158a2",
    "outputId": "5a7345aa-ead5-420d-e438-e9f9c2b9c956"
   },
   "outputs": [
    {
     "name": "stdout",
     "output_type": "stream",
     "text": [
      "[4.         3.         1.         2.         6.         2.85012285\n",
      " 5.         8.         7.         9.        ]\n",
      "---------------------------------------------------------------------------------------------------------------------------\n"
     ]
    }
   ],
   "source": [
    "print(customer_df['FAMILY_SIZE'].unique())\n",
    "print('---------------------------------------------------------------------------------------------------------------------------')"
   ]
  },
  {
   "cell_type": "markdown",
   "id": "b51ffc7f-d5d5-4667-a770-68ebd765a274",
   "metadata": {
    "id": "b51ffc7f-d5d5-4667-a770-68ebd765a274"
   },
   "source": [
    "### Checking the null values to make sure there are no nan values left in any of the columns"
   ]
  },
  {
   "cell_type": "code",
   "execution_count": 46,
   "id": "317b0438",
   "metadata": {
    "colab": {
     "base_uri": "https://localhost:8080/"
    },
    "id": "317b0438",
    "outputId": "7425a0de-9d78-4ad7-b914-2df45840465c"
   },
   "outputs": [
    {
     "data": {
      "text/plain": [
       "ID                 0\n",
       "GENDER             0\n",
       "EVER_MARRIED       0\n",
       "AGE                0\n",
       "GRADUATED          0\n",
       "PROFESSION         0\n",
       "WORK_EXPERIENCE    0\n",
       "SPENDING_SCORE     0\n",
       "FAMILY_SIZE        0\n",
       "VAR_1              0\n",
       "SEGMENTATION       0\n",
       "dtype: int64"
      ]
     },
     "execution_count": 46,
     "metadata": {},
     "output_type": "execute_result"
    }
   ],
   "source": [
    "customer_df.isnull().sum()"
   ]
  },
  {
   "cell_type": "markdown",
   "id": "64f48d67",
   "metadata": {
    "id": "64f48d67"
   },
   "source": [
    "## Exploring Categorical Variables"
   ]
  },
  {
   "cell_type": "markdown",
   "id": "e8481027",
   "metadata": {
    "id": "e8481027"
   },
   "source": [
    "**BAR PLOT FOR GENDER**\n",
    "\n",
    "Most of the customers are Male"
   ]
  },
  {
   "cell_type": "code",
   "execution_count": 47,
   "id": "6feeb09f",
   "metadata": {
    "colab": {
     "base_uri": "https://localhost:8080/",
     "height": 282
    },
    "id": "6feeb09f",
    "outputId": "66069e81-2383-420d-cbc4-2e25f937419f"
   },
   "outputs": [
    {
     "data": {
      "text/plain": [
       "<matplotlib.axes._subplots.AxesSubplot at 0x7fc5da06e890>"
      ]
     },
     "execution_count": 47,
     "metadata": {},
     "output_type": "execute_result"
    },
    {
     "data": {
      "image/png": "[encoded data removed]",
      "text/plain": [
       "<Figure size 432x288 with 1 Axes>"
      ]
     },
     "metadata": {
      "needs_background": "light"
     },
     "output_type": "display_data"
    }
   ],
   "source": [
    "customer_df.GENDER.value_counts().sort_index(ascending=False).plot(kind='barh')"
   ]
  },
  {
   "cell_type": "markdown",
   "id": "59758e1f",
   "metadata": {
    "id": "59758e1f"
   },
   "source": [
    "**BAR PLOT FOR EVERMARRIED**\n",
    "\n",
    "Most of the customers have marital status as yes which means they are married "
   ]
  },
  {
   "cell_type": "code",
   "execution_count": 48,
   "id": "74381e6a",
   "metadata": {
    "colab": {
     "base_uri": "https://localhost:8080/",
     "height": 282
    },
    "id": "74381e6a",
    "outputId": "165ad1ea-da7b-4ee2-9433-3a8198fce9fb"
   },
   "outputs": [
    {
     "data": {
      "text/plain": [
       "<matplotlib.axes._subplots.AxesSubplot at 0x7fc5d9afc0d0>"
      ]
     },
     "execution_count": 48,
     "metadata": {},
     "output_type": "execute_result"
    },
    {
     "data": {
      "image/png": "[encoded data removed]",
      "text/plain": [
       "<Figure size 432x288 with 1 Axes>"
      ]
     },
     "metadata": {
      "needs_background": "light"
     },
     "output_type": "display_data"
    }
   ],
   "source": [
    "customer_df.EVER_MARRIED.value_counts().sort_index(ascending=False).plot(kind='barh')"
   ]
  },
  {
   "cell_type": "markdown",
   "id": "6ec2a16d",
   "metadata": {
    "id": "6ec2a16d"
   },
   "source": [
    "**BAR PLOT FOR GRADUATED**\n",
    "\n",
    "Most of the customers are Graduated"
   ]
  },
  {
   "cell_type": "code",
   "execution_count": 49,
   "id": "ab70a9dd",
   "metadata": {
    "colab": {
     "base_uri": "https://localhost:8080/",
     "height": 282
    },
    "id": "ab70a9dd",
    "outputId": "5159acf9-2015-4b5d-b0bd-68dcaddedbfc"
   },
   "outputs": [
    {
     "data": {
      "text/plain": [
       "<matplotlib.axes._subplots.AxesSubplot at 0x7fc5d9ae7e90>"
      ]
     },
     "execution_count": 49,
     "metadata": {},
     "output_type": "execute_result"
    },
    {
     "data": {
      "image/png": "[encoded data removed]",
      "text/plain": [
       "<Figure size 432x288 with 1 Axes>"
      ]
     },
     "metadata": {
      "needs_background": "light"
     },
     "output_type": "display_data"
    }
   ],
   "source": [
    "customer_df.GRADUATED.value_counts().sort_index(ascending=False).plot(kind='barh')"
   ]
  },
  {
   "cell_type": "markdown",
   "id": "ee07c5e4",
   "metadata": {
    "id": "ee07c5e4"
   },
   "source": [
    "**BAR PLOT FOR PROFESSION**\n",
    "\n",
    "Most of the customers belong to the profession 'Artist'."
   ]
  },
  {
   "cell_type": "code",
   "execution_count": 50,
   "id": "40ec363e",
   "metadata": {
    "colab": {
     "base_uri": "https://localhost:8080/",
     "height": 282
    },
    "id": "40ec363e",
    "outputId": "ba9b09ff-3359-402b-dddf-26ca7925a318"
   },
   "outputs": [
    {
     "data": {
      "text/plain": [
       "<matplotlib.axes._subplots.AxesSubplot at 0x7fc5d9a64950>"
      ]
     },
     "execution_count": 50,
     "metadata": {},
     "output_type": "execute_result"
    },
    {
     "data": {
      "image/png": "[encoded data removed]",
      "text/plain": [
       "<Figure size 432x288 with 1 Axes>"
      ]
     },
     "metadata": {
      "needs_background": "light"
     },
     "output_type": "display_data"
    }
   ],
   "source": [
    "customer_df.PROFESSION.value_counts().sort_index(ascending=False).plot(kind='barh')"
   ]
  },
  {
   "cell_type": "markdown",
   "id": "8656a472",
   "metadata": {
    "id": "8656a472"
   },
   "source": [
    "**BAR PLOT FOR SPENDINGSCORE**\n",
    "\n",
    "Most of the customers have low spending score."
   ]
  },
  {
   "cell_type": "code",
   "execution_count": 51,
   "id": "31e23aaf",
   "metadata": {
    "colab": {
     "base_uri": "https://localhost:8080/",
     "height": 282
    },
    "id": "31e23aaf",
    "outputId": "8965bfcb-27b9-4a96-afa4-65c4311a42b3"
   },
   "outputs": [
    {
     "data": {
      "text/plain": [
       "<matplotlib.axes._subplots.AxesSubplot at 0x7fc5d99f2ed0>"
      ]
     },
     "execution_count": 51,
     "metadata": {},
     "output_type": "execute_result"
    },
    {
     "data": {
      "image/png": "[encoded data removed]",
      "text/plain": [
       "<Figure size 432x288 with 1 Axes>"
      ]
     },
     "metadata": {
      "needs_background": "light"
     },
     "output_type": "display_data"
    }
   ],
   "source": [
    "customer_df.SPENDING_SCORE.value_counts().sort_index(ascending=False).plot(kind='barh')"
   ]
  },
  {
   "cell_type": "markdown",
   "id": "d85ecf24",
   "metadata": {
    "id": "d85ecf24"
   },
   "source": [
    "**BAR PLOT FOR VAR1**\n",
    "\n",
    "Most of the customers belong to Cat_6 category"
   ]
  },
  {
   "cell_type": "code",
   "execution_count": 52,
   "id": "1350ff10",
   "metadata": {
    "colab": {
     "base_uri": "https://localhost:8080/",
     "height": 282
    },
    "id": "1350ff10",
    "outputId": "c98fad05-448c-4d04-9bdc-ef035a55fa1b"
   },
   "outputs": [
    {
     "data": {
      "text/plain": [
       "<matplotlib.axes._subplots.AxesSubplot at 0x7fc5d9956950>"
      ]
     },
     "execution_count": 52,
     "metadata": {},
     "output_type": "execute_result"
    },
    {
     "data": {
      "image/png": "[encoded data removed]",
      "text/plain": [
       "<Figure size 432x288 with 1 Axes>"
      ]
     },
     "metadata": {
      "needs_background": "light"
     },
     "output_type": "display_data"
    }
   ],
   "source": [
    "customer_df.VAR_1.value_counts().sort_index(ascending=False).plot(kind='barh')"
   ]
  },
  {
   "cell_type": "markdown",
   "id": "834bfe7b",
   "metadata": {
    "id": "834bfe7b"
   },
   "source": [
    "**BAR PLOT FOR SEGMENTATION**\n",
    "\n",
    "Most of the customers belong to D segment. However, if we consider the entire data, all of the customers in segment A,B,C,D are comparable in numbers. "
   ]
  },
  {
   "cell_type": "code",
   "execution_count": 53,
   "id": "f82868b8",
   "metadata": {
    "colab": {
     "base_uri": "https://localhost:8080/",
     "height": 282
    },
    "id": "f82868b8",
    "outputId": "35f3009f-1d60-4380-c6aa-7b74717322e3"
   },
   "outputs": [
    {
     "data": {
      "text/plain": [
       "<matplotlib.axes._subplots.AxesSubplot at 0x7fc5d98e7050>"
      ]
     },
     "execution_count": 53,
     "metadata": {},
     "output_type": "execute_result"
    },
    {
     "data": {
      "image/png": "[encoded data removed]",
      "text/plain": [
       "<Figure size 432x288 with 1 Axes>"
      ]
     },
     "metadata": {
      "needs_background": "light"
     },
     "output_type": "display_data"
    }
   ],
   "source": [
    "customer_df.SEGMENTATION.value_counts().sort_index(ascending=False).plot(kind='barh')"
   ]
  },
  {
   "cell_type": "markdown",
   "id": "c26447f3",
   "metadata": {
    "id": "c26447f3"
   },
   "source": [
    "## Step 4: Label Encoding"
   ]
  },
  {
   "cell_type": "code",
   "execution_count": 54,
   "id": "8589329a",
   "metadata": {
    "id": "8589329a"
   },
   "outputs": [],
   "source": [
    "from sklearn.preprocessing import LabelEncoder"
   ]
  },
  {
   "cell_type": "markdown",
   "id": "f1d8c9f2",
   "metadata": {
    "id": "f1d8c9f2"
   },
   "source": [
    "### Applying Label encoding to multiple columns "
   ]
  },
  {
   "cell_type": "code",
   "execution_count": 55,
   "id": "22adb38c",
   "metadata": {
    "id": "22adb38c"
   },
   "outputs": [],
   "source": [
    "categ = ['GENDER','EVER_MARRIED','GRADUATED', 'PROFESSION', 'SPENDING_SCORE', 'VAR_1', 'SEGMENTATION']\n",
    "\n",
    "# Encode Categorical Columns\n",
    "enc = LabelEncoder()\n",
    "#enc = OrdinalEncoder()\n",
    "customer_df[categ] = customer_df[categ].apply(enc.fit_transform)"
   ]
  },
  {
   "cell_type": "code",
   "execution_count": 56,
   "id": "9aca6647",
   "metadata": {
    "colab": {
     "base_uri": "https://localhost:8080/",
     "height": 363
    },
    "id": "9aca6647",
    "outputId": "3a449b02-7757-4e24-a611-353079c73e84"
   },
   "outputs": [
    {
     "data": {
      "text/html": [
       "\n",
       "  <div id=\"df-3a61aeec-0559-4a9e-a0af-1d5fcaaa03cc\">\n",
       "    <div class=\"colab-df-container\">\n",
       "      <div>\n",
       "<style scoped>\n",
       "    .dataframe tbody tr th:only-of-type {\n",
       "        vertical-align: middle;\n",
       "    }\n",
       "\n",
       "    .dataframe tbody tr th {\n",
       "        vertical-align: top;\n",
       "    }\n",
       "\n",
       "    .dataframe thead th {\n",
       "        text-align: right;\n",
       "    }\n",
       "</style>\n",
       "<table border=\"1\" class=\"dataframe\">\n",
       "  <thead>\n",
       "    <tr style=\"text-align: right;\">\n",
       "      <th></th>\n",
       "      <th>ID</th>\n",
       "      <th>GENDER</th>\n",
       "      <th>EVER_MARRIED</th>\n",
       "      <th>AGE</th>\n",
       "      <th>GRADUATED</th>\n",
       "      <th>PROFESSION</th>\n",
       "      <th>WORK_EXPERIENCE</th>\n",
       "      <th>SPENDING_SCORE</th>\n",
       "      <th>FAMILY_SIZE</th>\n",
       "      <th>VAR_1</th>\n",
       "      <th>SEGMENTATION</th>\n",
       "    </tr>\n",
       "  </thead>\n",
       "  <tbody>\n",
       "    <tr>\n",
       "      <th>0</th>\n",
       "      <td>462809</td>\n",
       "      <td>1</td>\n",
       "      <td>0</td>\n",
       "      <td>22</td>\n",
       "      <td>0</td>\n",
       "      <td>5</td>\n",
       "      <td>1.000000</td>\n",
       "      <td>2</td>\n",
       "      <td>4.0</td>\n",
       "      <td>3</td>\n",
       "      <td>3</td>\n",
       "    </tr>\n",
       "    <tr>\n",
       "      <th>1</th>\n",
       "      <td>462643</td>\n",
       "      <td>0</td>\n",
       "      <td>1</td>\n",
       "      <td>38</td>\n",
       "      <td>1</td>\n",
       "      <td>2</td>\n",
       "      <td>2.641663</td>\n",
       "      <td>0</td>\n",
       "      <td>3.0</td>\n",
       "      <td>3</td>\n",
       "      <td>0</td>\n",
       "    </tr>\n",
       "    <tr>\n",
       "      <th>2</th>\n",
       "      <td>466315</td>\n",
       "      <td>0</td>\n",
       "      <td>1</td>\n",
       "      <td>67</td>\n",
       "      <td>1</td>\n",
       "      <td>2</td>\n",
       "      <td>1.000000</td>\n",
       "      <td>2</td>\n",
       "      <td>1.0</td>\n",
       "      <td>5</td>\n",
       "      <td>1</td>\n",
       "    </tr>\n",
       "    <tr>\n",
       "      <th>3</th>\n",
       "      <td>461735</td>\n",
       "      <td>1</td>\n",
       "      <td>1</td>\n",
       "      <td>67</td>\n",
       "      <td>1</td>\n",
       "      <td>7</td>\n",
       "      <td>0.000000</td>\n",
       "      <td>1</td>\n",
       "      <td>2.0</td>\n",
       "      <td>5</td>\n",
       "      <td>1</td>\n",
       "    </tr>\n",
       "    <tr>\n",
       "      <th>4</th>\n",
       "      <td>462669</td>\n",
       "      <td>0</td>\n",
       "      <td>1</td>\n",
       "      <td>40</td>\n",
       "      <td>1</td>\n",
       "      <td>3</td>\n",
       "      <td>2.641663</td>\n",
       "      <td>1</td>\n",
       "      <td>6.0</td>\n",
       "      <td>5</td>\n",
       "      <td>0</td>\n",
       "    </tr>\n",
       "    <tr>\n",
       "      <th>5</th>\n",
       "      <td>461319</td>\n",
       "      <td>1</td>\n",
       "      <td>1</td>\n",
       "      <td>56</td>\n",
       "      <td>0</td>\n",
       "      <td>0</td>\n",
       "      <td>0.000000</td>\n",
       "      <td>0</td>\n",
       "      <td>2.0</td>\n",
       "      <td>5</td>\n",
       "      <td>2</td>\n",
       "    </tr>\n",
       "    <tr>\n",
       "      <th>6</th>\n",
       "      <td>460156</td>\n",
       "      <td>1</td>\n",
       "      <td>0</td>\n",
       "      <td>32</td>\n",
       "      <td>1</td>\n",
       "      <td>5</td>\n",
       "      <td>1.000000</td>\n",
       "      <td>2</td>\n",
       "      <td>3.0</td>\n",
       "      <td>5</td>\n",
       "      <td>2</td>\n",
       "    </tr>\n",
       "    <tr>\n",
       "      <th>7</th>\n",
       "      <td>464347</td>\n",
       "      <td>0</td>\n",
       "      <td>0</td>\n",
       "      <td>33</td>\n",
       "      <td>1</td>\n",
       "      <td>5</td>\n",
       "      <td>1.000000</td>\n",
       "      <td>2</td>\n",
       "      <td>3.0</td>\n",
       "      <td>5</td>\n",
       "      <td>3</td>\n",
       "    </tr>\n",
       "    <tr>\n",
       "      <th>8</th>\n",
       "      <td>465015</td>\n",
       "      <td>0</td>\n",
       "      <td>1</td>\n",
       "      <td>61</td>\n",
       "      <td>1</td>\n",
       "      <td>2</td>\n",
       "      <td>0.000000</td>\n",
       "      <td>2</td>\n",
       "      <td>3.0</td>\n",
       "      <td>6</td>\n",
       "      <td>3</td>\n",
       "    </tr>\n",
       "    <tr>\n",
       "      <th>9</th>\n",
       "      <td>465176</td>\n",
       "      <td>0</td>\n",
       "      <td>1</td>\n",
       "      <td>55</td>\n",
       "      <td>1</td>\n",
       "      <td>0</td>\n",
       "      <td>1.000000</td>\n",
       "      <td>0</td>\n",
       "      <td>4.0</td>\n",
       "      <td>5</td>\n",
       "      <td>2</td>\n",
       "    </tr>\n",
       "  </tbody>\n",
       "</table>\n",
       "</div>\n",
       "      <button class=\"colab-df-convert\" onclick=\"convertToInteractive('df-3a61aeec-0559-4a9e-a0af-1d5fcaaa03cc')\"\n",
       "              title=\"Convert this dataframe to an interactive table.\"\n",
       "              style=\"display:none;\">\n",
       "        \n",
       "  <svg xmlns=\"http://www.w3.org/2000/svg\" height=\"24px\"viewBox=\"0 0 24 24\"\n",
       "       width=\"24px\">\n",
       "    <path d=\"M0 0h24v24H0V0z\" fill=\"none\"/>\n",
       "    <path d=\"M18.56 5.44l.94 2.06.94-2.06 2.06-.94-2.06-.94-.94-2.06-.94 2.06-2.06.94zm-11 1L8.5 8.5l.94-2.06 2.06-.94-2.06-.94L8.5 2.5l-.94 2.06-2.06.94zm10 10l.94 2.06.94-2.06 2.06-.94-2.06-.94-.94-2.06-.94 2.06-2.06.94z\"/><path d=\"M17.41 7.96l-1.37-1.37c-.4-.4-.92-.59-1.43-.59-.52 0-1.04.2-1.43.59L10.3 9.45l-7.72 7.72c-.78.78-.78 2.05 0 2.83L4 21.41c.39.39.9.59 1.41.59.51 0 1.02-.2 1.41-.59l7.78-7.78 2.81-2.81c.8-.78.8-2.07 0-2.86zM5.41 20L4 18.59l7.72-7.72 1.47 1.35L5.41 20z\"/>\n",
       "  </svg>\n",
       "      </button>\n",
       "      \n",
       "  <style>\n",
       "    .colab-df-container {\n",
       "      display:flex;\n",
       "      flex-wrap:wrap;\n",
       "      gap: 12px;\n",
       "    }\n",
       "\n",
       "    .colab-df-convert {\n",
       "      background-color: #E8F0FE;\n",
       "      border: none;\n",
       "      border-radius: 50%;\n",
       "      cursor: pointer;\n",
       "      display: none;\n",
       "      fill: #1967D2;\n",
       "      height: 32px;\n",
       "      padding: 0 0 0 0;\n",
       "      width: 32px;\n",
       "    }\n",
       "\n",
       "    .colab-df-convert:hover {\n",
       "      background-color: #E2EBFA;\n",
       "      box-shadow: 0px 1px 2px rgba(60, 64, 67, 0.3), 0px 1px 3px 1px rgba(60, 64, 67, 0.15);\n",
       "      fill: #174EA6;\n",
       "    }\n",
       "\n",
       "    [theme=dark] .colab-df-convert {\n",
       "      background-color: #3B4455;\n",
       "      fill: #D2E3FC;\n",
       "    }\n",
       "\n",
       "    [theme=dark] .colab-df-convert:hover {\n",
       "      background-color: #434B5C;\n",
       "      box-shadow: 0px 1px 3px 1px rgba(0, 0, 0, 0.15);\n",
       "      filter: drop-shadow(0px 1px 2px rgba(0, 0, 0, 0.3));\n",
       "      fill: #FFFFFF;\n",
       "    }\n",
       "  </style>\n",
       "\n",
       "      <script>\n",
       "        const buttonEl =\n",
       "          document.querySelector('#df-3a61aeec-0559-4a9e-a0af-1d5fcaaa03cc button.colab-df-convert');\n",
       "        buttonEl.style.display =\n",
       "          google.colab.kernel.accessAllowed ? 'block' : 'none';\n",
       "\n",
       "        async function convertToInteractive(key) {\n",
       "          const element = document.querySelector('#df-3a61aeec-0559-4a9e-a0af-1d5fcaaa03cc');\n",
       "          const dataTable =\n",
       "            await google.colab.kernel.invokeFunction('convertToInteractive',\n",
       "                                                     [key], {});\n",
       "          if (!dataTable) return;\n",
       "\n",
       "          const docLinkHtml = 'Like what you see? Visit the ' +\n",
       "            '<a target=\"_blank\" href=https://colab.research.google.com/notebooks/data_table.ipynb>data table notebook</a>'\n",
       "            + ' to learn more about interactive tables.';\n",
       "          element.innerHTML = '';\n",
       "          dataTable['output_type'] = 'display_data';\n",
       "          await google.colab.output.renderOutput(dataTable, element);\n",
       "          const docLink = document.createElement('div');\n",
       "          docLink.innerHTML = docLinkHtml;\n",
       "          element.appendChild(docLink);\n",
       "        }\n",
       "      </script>\n",
       "    </div>\n",
       "  </div>\n",
       "  "
      ],
      "text/plain": [
       "       ID  GENDER  EVER_MARRIED  AGE  GRADUATED  PROFESSION  WORK_EXPERIENCE  \\\n",
       "0  462809       1             0   22          0           5         1.000000   \n",
       "1  462643       0             1   38          1           2         2.641663   \n",
       "2  466315       0             1   67          1           2         1.000000   \n",
       "3  461735       1             1   67          1           7         0.000000   \n",
       "4  462669       0             1   40          1           3         2.641663   \n",
       "5  461319       1             1   56          0           0         0.000000   \n",
       "6  460156       1             0   32          1           5         1.000000   \n",
       "7  464347       0             0   33          1           5         1.000000   \n",
       "8  465015       0             1   61          1           2         0.000000   \n",
       "9  465176       0             1   55          1           0         1.000000   \n",
       "\n",
       "   SPENDING_SCORE  FAMILY_SIZE  VAR_1  SEGMENTATION  \n",
       "0               2          4.0      3             3  \n",
       "1               0          3.0      3             0  \n",
       "2               2          1.0      5             1  \n",
       "3               1          2.0      5             1  \n",
       "4               1          6.0      5             0  \n",
       "5               0          2.0      5             2  \n",
       "6               2          3.0      5             2  \n",
       "7               2          3.0      5             3  \n",
       "8               2          3.0      6             3  \n",
       "9               0          4.0      5             2  "
      ]
     },
     "execution_count": 56,
     "metadata": {},
     "output_type": "execute_result"
    }
   ],
   "source": [
    "customer_df.head(10)"
   ]
  },
  {
   "cell_type": "code",
   "execution_count": 57,
   "id": "68496146",
   "metadata": {
    "colab": {
     "base_uri": "https://localhost:8080/"
    },
    "id": "68496146",
    "outputId": "c5e85506-820d-4cc0-a14b-132887d763a5"
   },
   "outputs": [
    {
     "data": {
      "text/plain": [
       "3    2268\n",
       "0    1972\n",
       "2    1970\n",
       "1    1858\n",
       "Name: SEGMENTATION, dtype: int64"
      ]
     },
     "execution_count": 57,
     "metadata": {},
     "output_type": "execute_result"
    }
   ],
   "source": [
    "customer_df['SEGMENTATION'].value_counts()"
   ]
  },
  {
   "cell_type": "markdown",
   "id": "f7572783",
   "metadata": {
    "id": "f7572783"
   },
   "source": [
    "#### Checking the correlation among all the variables wrt 'SEGMENTATION' variable which is our Target"
   ]
  },
  {
   "cell_type": "markdown",
   "id": "d797821c",
   "metadata": {
    "id": "d797821c"
   },
   "source": [
    "We can observe that variables - ID,GENDER,WORKEXPERIENCE,VAR_1 have least correlation almost equal to zero, hence these 4 variables can be removed in our further modelling"
   ]
  },
  {
   "cell_type": "code",
   "execution_count": 58,
   "id": "a8acb0c2",
   "metadata": {
    "colab": {
     "base_uri": "https://localhost:8080/",
     "height": 438
    },
    "id": "a8acb0c2",
    "outputId": "0a20a420-a918-4158-a57c-893f2b9514df"
   },
   "outputs": [
    {
     "data": {
      "text/html": [
       "\n",
       "  <div id=\"df-8907f37b-531f-4474-ab6c-e677653c7203\">\n",
       "    <div class=\"colab-df-container\">\n",
       "      <div>\n",
       "<style scoped>\n",
       "    .dataframe tbody tr th:only-of-type {\n",
       "        vertical-align: middle;\n",
       "    }\n",
       "\n",
       "    .dataframe tbody tr th {\n",
       "        vertical-align: top;\n",
       "    }\n",
       "\n",
       "    .dataframe thead th {\n",
       "        text-align: right;\n",
       "    }\n",
       "</style>\n",
       "<table border=\"1\" class=\"dataframe\">\n",
       "  <thead>\n",
       "    <tr style=\"text-align: right;\">\n",
       "      <th></th>\n",
       "      <th>ID</th>\n",
       "      <th>GENDER</th>\n",
       "      <th>EVER_MARRIED</th>\n",
       "      <th>AGE</th>\n",
       "      <th>GRADUATED</th>\n",
       "      <th>PROFESSION</th>\n",
       "      <th>WORK_EXPERIENCE</th>\n",
       "      <th>SPENDING_SCORE</th>\n",
       "      <th>FAMILY_SIZE</th>\n",
       "      <th>VAR_1</th>\n",
       "      <th>SEGMENTATION</th>\n",
       "    </tr>\n",
       "  </thead>\n",
       "  <tbody>\n",
       "    <tr>\n",
       "      <th>ID</th>\n",
       "      <td>1.000000</td>\n",
       "      <td>0.006155</td>\n",
       "      <td>0.022892</td>\n",
       "      <td>-0.005055</td>\n",
       "      <td>-0.009377</td>\n",
       "      <td>-0.000263</td>\n",
       "      <td>-0.028876</td>\n",
       "      <td>-0.018949</td>\n",
       "      <td>0.011514</td>\n",
       "      <td>-0.001955</td>\n",
       "      <td>-0.009104</td>\n",
       "    </tr>\n",
       "    <tr>\n",
       "      <th>GENDER</th>\n",
       "      <td>0.006155</td>\n",
       "      <td>1.000000</td>\n",
       "      <td>0.111732</td>\n",
       "      <td>0.030216</td>\n",
       "      <td>-0.033206</td>\n",
       "      <td>0.025079</td>\n",
       "      <td>-0.056732</td>\n",
       "      <td>-0.054261</td>\n",
       "      <td>0.054702</td>\n",
       "      <td>0.029660</td>\n",
       "      <td>0.026403</td>\n",
       "    </tr>\n",
       "    <tr>\n",
       "      <th>EVER_MARRIED</th>\n",
       "      <td>0.022892</td>\n",
       "      <td>0.111732</td>\n",
       "      <td>1.000000</td>\n",
       "      <td>0.556892</td>\n",
       "      <td>0.188450</td>\n",
       "      <td>-0.131778</td>\n",
       "      <td>-0.089964</td>\n",
       "      <td>-0.625252</td>\n",
       "      <td>-0.074340</td>\n",
       "      <td>0.076450</td>\n",
       "      <td>-0.213730</td>\n",
       "    </tr>\n",
       "    <tr>\n",
       "      <th>AGE</th>\n",
       "      <td>-0.005055</td>\n",
       "      <td>0.030216</td>\n",
       "      <td>0.556892</td>\n",
       "      <td>1.000000</td>\n",
       "      <td>0.235752</td>\n",
       "      <td>0.041406</td>\n",
       "      <td>-0.179361</td>\n",
       "      <td>-0.269544</td>\n",
       "      <td>-0.273291</td>\n",
       "      <td>0.167332</td>\n",
       "      <td>-0.243552</td>\n",
       "    </tr>\n",
       "    <tr>\n",
       "      <th>GRADUATED</th>\n",
       "      <td>-0.009377</td>\n",
       "      <td>-0.033206</td>\n",
       "      <td>0.188450</td>\n",
       "      <td>0.235752</td>\n",
       "      <td>1.000000</td>\n",
       "      <td>-0.283955</td>\n",
       "      <td>0.030660</td>\n",
       "      <td>-0.151911</td>\n",
       "      <td>-0.222938</td>\n",
       "      <td>0.120044</td>\n",
       "      <td>-0.178683</td>\n",
       "    </tr>\n",
       "    <tr>\n",
       "      <th>PROFESSION</th>\n",
       "      <td>-0.000263</td>\n",
       "      <td>0.025079</td>\n",
       "      <td>-0.131778</td>\n",
       "      <td>0.041406</td>\n",
       "      <td>-0.283955</td>\n",
       "      <td>1.000000</td>\n",
       "      <td>-0.019377</td>\n",
       "      <td>0.228528</td>\n",
       "      <td>0.084313</td>\n",
       "      <td>-0.039314</td>\n",
       "      <td>0.202919</td>\n",
       "    </tr>\n",
       "    <tr>\n",
       "      <th>WORK_EXPERIENCE</th>\n",
       "      <td>-0.028876</td>\n",
       "      <td>-0.056732</td>\n",
       "      <td>-0.089964</td>\n",
       "      <td>-0.179361</td>\n",
       "      <td>0.030660</td>\n",
       "      <td>-0.019377</td>\n",
       "      <td>1.000000</td>\n",
       "      <td>0.045731</td>\n",
       "      <td>-0.058702</td>\n",
       "      <td>0.022082</td>\n",
       "      <td>0.012252</td>\n",
       "    </tr>\n",
       "    <tr>\n",
       "      <th>SPENDING_SCORE</th>\n",
       "      <td>-0.018949</td>\n",
       "      <td>-0.054261</td>\n",
       "      <td>-0.625252</td>\n",
       "      <td>-0.269544</td>\n",
       "      <td>-0.151911</td>\n",
       "      <td>0.228528</td>\n",
       "      <td>0.045731</td>\n",
       "      <td>1.000000</td>\n",
       "      <td>-0.112785</td>\n",
       "      <td>-0.032833</td>\n",
       "      <td>0.100572</td>\n",
       "    </tr>\n",
       "    <tr>\n",
       "      <th>FAMILY_SIZE</th>\n",
       "      <td>0.011514</td>\n",
       "      <td>0.054702</td>\n",
       "      <td>-0.074340</td>\n",
       "      <td>-0.273291</td>\n",
       "      <td>-0.222938</td>\n",
       "      <td>0.084313</td>\n",
       "      <td>-0.058702</td>\n",
       "      <td>-0.112785</td>\n",
       "      <td>1.000000</td>\n",
       "      <td>-0.142808</td>\n",
       "      <td>0.190788</td>\n",
       "    </tr>\n",
       "    <tr>\n",
       "      <th>VAR_1</th>\n",
       "      <td>-0.001955</td>\n",
       "      <td>0.029660</td>\n",
       "      <td>0.076450</td>\n",
       "      <td>0.167332</td>\n",
       "      <td>0.120044</td>\n",
       "      <td>-0.039314</td>\n",
       "      <td>0.022082</td>\n",
       "      <td>-0.032833</td>\n",
       "      <td>-0.142808</td>\n",
       "      <td>1.000000</td>\n",
       "      <td>-0.018339</td>\n",
       "    </tr>\n",
       "    <tr>\n",
       "      <th>SEGMENTATION</th>\n",
       "      <td>-0.009104</td>\n",
       "      <td>0.026403</td>\n",
       "      <td>-0.213730</td>\n",
       "      <td>-0.243552</td>\n",
       "      <td>-0.178683</td>\n",
       "      <td>0.202919</td>\n",
       "      <td>0.012252</td>\n",
       "      <td>0.100572</td>\n",
       "      <td>0.190788</td>\n",
       "      <td>-0.018339</td>\n",
       "      <td>1.000000</td>\n",
       "    </tr>\n",
       "  </tbody>\n",
       "</table>\n",
       "</div>\n",
       "      <button class=\"colab-df-convert\" onclick=\"convertToInteractive('df-8907f37b-531f-4474-ab6c-e677653c7203')\"\n",
       "              title=\"Convert this dataframe to an interactive table.\"\n",
       "              style=\"display:none;\">\n",
       "        \n",
       "  <svg xmlns=\"http://www.w3.org/2000/svg\" height=\"24px\"viewBox=\"0 0 24 24\"\n",
       "       width=\"24px\">\n",
       "    <path d=\"M0 0h24v24H0V0z\" fill=\"none\"/>\n",
       "    <path d=\"M18.56 5.44l.94 2.06.94-2.06 2.06-.94-2.06-.94-.94-2.06-.94 2.06-2.06.94zm-11 1L8.5 8.5l.94-2.06 2.06-.94-2.06-.94L8.5 2.5l-.94 2.06-2.06.94zm10 10l.94 2.06.94-2.06 2.06-.94-2.06-.94-.94-2.06-.94 2.06-2.06.94z\"/><path d=\"M17.41 7.96l-1.37-1.37c-.4-.4-.92-.59-1.43-.59-.52 0-1.04.2-1.43.59L10.3 9.45l-7.72 7.72c-.78.78-.78 2.05 0 2.83L4 21.41c.39.39.9.59 1.41.59.51 0 1.02-.2 1.41-.59l7.78-7.78 2.81-2.81c.8-.78.8-2.07 0-2.86zM5.41 20L4 18.59l7.72-7.72 1.47 1.35L5.41 20z\"/>\n",
       "  </svg>\n",
       "      </button>\n",
       "      \n",
       "  <style>\n",
       "    .colab-df-container {\n",
       "      display:flex;\n",
       "      flex-wrap:wrap;\n",
       "      gap: 12px;\n",
       "    }\n",
       "\n",
       "    .colab-df-convert {\n",
       "      background-color: #E8F0FE;\n",
       "      border: none;\n",
       "      border-radius: 50%;\n",
       "      cursor: pointer;\n",
       "      display: none;\n",
       "      fill: #1967D2;\n",
       "      height: 32px;\n",
       "      padding: 0 0 0 0;\n",
       "      width: 32px;\n",
       "    }\n",
       "\n",
       "    .colab-df-convert:hover {\n",
       "      background-color: #E2EBFA;\n",
       "      box-shadow: 0px 1px 2px rgba(60, 64, 67, 0.3), 0px 1px 3px 1px rgba(60, 64, 67, 0.15);\n",
       "      fill: #174EA6;\n",
       "    }\n",
       "\n",
       "    [theme=dark] .colab-df-convert {\n",
       "      background-color: #3B4455;\n",
       "      fill: #D2E3FC;\n",
       "    }\n",
       "\n",
       "    [theme=dark] .colab-df-convert:hover {\n",
       "      background-color: #434B5C;\n",
       "      box-shadow: 0px 1px 3px 1px rgba(0, 0, 0, 0.15);\n",
       "      filter: drop-shadow(0px 1px 2px rgba(0, 0, 0, 0.3));\n",
       "      fill: #FFFFFF;\n",
       "    }\n",
       "  </style>\n",
       "\n",
       "      <script>\n",
       "        const buttonEl =\n",
       "          document.querySelector('#df-8907f37b-531f-4474-ab6c-e677653c7203 button.colab-df-convert');\n",
       "        buttonEl.style.display =\n",
       "          google.colab.kernel.accessAllowed ? 'block' : 'none';\n",
       "\n",
       "        async function convertToInteractive(key) {\n",
       "          const element = document.querySelector('#df-8907f37b-531f-4474-ab6c-e677653c7203');\n",
       "          const dataTable =\n",
       "            await google.colab.kernel.invokeFunction('convertToInteractive',\n",
       "                                                     [key], {});\n",
       "          if (!dataTable) return;\n",
       "\n",
       "          const docLinkHtml = 'Like what you see? Visit the ' +\n",
       "            '<a target=\"_blank\" href=https://colab.research.google.com/notebooks/data_table.ipynb>data table notebook</a>'\n",
       "            + ' to learn more about interactive tables.';\n",
       "          element.innerHTML = '';\n",
       "          dataTable['output_type'] = 'display_data';\n",
       "          await google.colab.output.renderOutput(dataTable, element);\n",
       "          const docLink = document.createElement('div');\n",
       "          docLink.innerHTML = docLinkHtml;\n",
       "          element.appendChild(docLink);\n",
       "        }\n",
       "      </script>\n",
       "    </div>\n",
       "  </div>\n",
       "  "
      ],
      "text/plain": [
       "                       ID    GENDER  EVER_MARRIED       AGE  GRADUATED  \\\n",
       "ID               1.000000  0.006155      0.022892 -0.005055  -0.009377   \n",
       "GENDER           0.006155  1.000000      0.111732  0.030216  -0.033206   \n",
       "EVER_MARRIED     0.022892  0.111732      1.000000  0.556892   0.188450   \n",
       "AGE             -0.005055  0.030216      0.556892  1.000000   0.235752   \n",
       "GRADUATED       -0.009377 -0.033206      0.188450  0.235752   1.000000   \n",
       "PROFESSION      -0.000263  0.025079     -0.131778  0.041406  -0.283955   \n",
       "WORK_EXPERIENCE -0.028876 -0.056732     -0.089964 -0.179361   0.030660   \n",
       "SPENDING_SCORE  -0.018949 -0.054261     -0.625252 -0.269544  -0.151911   \n",
       "FAMILY_SIZE      0.011514  0.054702     -0.074340 -0.273291  -0.222938   \n",
       "VAR_1           -0.001955  0.029660      0.076450  0.167332   0.120044   \n",
       "SEGMENTATION    -0.009104  0.026403     -0.213730 -0.243552  -0.178683   \n",
       "\n",
       "                 PROFESSION  WORK_EXPERIENCE  SPENDING_SCORE  FAMILY_SIZE  \\\n",
       "ID                -0.000263        -0.028876       -0.018949     0.011514   \n",
       "GENDER             0.025079        -0.056732       -0.054261     0.054702   \n",
       "EVER_MARRIED      -0.131778        -0.089964       -0.625252    -0.074340   \n",
       "AGE                0.041406        -0.179361       -0.269544    -0.273291   \n",
       "GRADUATED         -0.283955         0.030660       -0.151911    -0.222938   \n",
       "PROFESSION         1.000000        -0.019377        0.228528     0.084313   \n",
       "WORK_EXPERIENCE   -0.019377         1.000000        0.045731    -0.058702   \n",
       "SPENDING_SCORE     0.228528         0.045731        1.000000    -0.112785   \n",
       "FAMILY_SIZE        0.084313        -0.058702       -0.112785     1.000000   \n",
       "VAR_1             -0.039314         0.022082       -0.032833    -0.142808   \n",
       "SEGMENTATION       0.202919         0.012252        0.100572     0.190788   \n",
       "\n",
       "                    VAR_1  SEGMENTATION  \n",
       "ID              -0.001955     -0.009104  \n",
       "GENDER           0.029660      0.026403  \n",
       "EVER_MARRIED     0.076450     -0.213730  \n",
       "AGE              0.167332     -0.243552  \n",
       "GRADUATED        0.120044     -0.178683  \n",
       "PROFESSION      -0.039314      0.202919  \n",
       "WORK_EXPERIENCE  0.022082      0.012252  \n",
       "SPENDING_SCORE  -0.032833      0.100572  \n",
       "FAMILY_SIZE     -0.142808      0.190788  \n",
       "VAR_1            1.000000     -0.018339  \n",
       "SEGMENTATION    -0.018339      1.000000  "
      ]
     },
     "execution_count": 58,
     "metadata": {},
     "output_type": "execute_result"
    }
   ],
   "source": [
    "customer_df.corr()"
   ]
  },
  {
   "cell_type": "code",
   "execution_count": 58,
   "id": "561cd135-9d7f-4aac-8c02-59c3e519822a",
   "metadata": {
    "id": "561cd135-9d7f-4aac-8c02-59c3e519822a"
   },
   "outputs": [],
   "source": []
  },
  {
   "cell_type": "markdown",
   "id": "23f5fcd7",
   "metadata": {
    "id": "23f5fcd7"
   },
   "source": [
    "### Step5: Split Data"
   ]
  },
  {
   "cell_type": "markdown",
   "id": "d987e6c5",
   "metadata": {
    "id": "d987e6c5"
   },
   "source": [
    "Split data into a 70/30 split."
   ]
  },
  {
   "cell_type": "code",
   "execution_count": 59,
   "id": "94416e1d",
   "metadata": {
    "id": "94416e1d"
   },
   "outputs": [],
   "source": [
    "train_df, validation_df = train_test_split(customer_df, test_size=0.3, random_state=1)"
   ]
  },
  {
   "cell_type": "markdown",
   "id": "9c8e23d4-fdd8-48fb-b628-bca8bce7a200",
   "metadata": {
    "id": "9c8e23d4-fdd8-48fb-b628-bca8bce7a200"
   },
   "source": [
    "### Test Data for prediction"
   ]
  },
  {
   "cell_type": "code",
   "execution_count": 60,
   "id": "158ca66c-7073-4b38-97b7-d80496c2f57e",
   "metadata": {
    "id": "158ca66c-7073-4b38-97b7-d80496c2f57e"
   },
   "outputs": [],
   "source": [
    "customer_test_df.columns = [s.strip().upper().replace('.', '_') for s in customer_test_df.columns] \n",
    "customer_test_df.columns = [s.strip().upper().replace(' ', '_') for s in customer_test_df.columns] "
   ]
  },
  {
   "cell_type": "code",
   "execution_count": 61,
   "id": "07d28373-a131-4444-b89c-acb8765c1784",
   "metadata": {
    "colab": {
     "base_uri": "https://localhost:8080/"
    },
    "id": "07d28373-a131-4444-b89c-acb8765c1784",
    "outputId": "12207687-5ef6-43ec-ade5-bcc05f46991a"
   },
   "outputs": [
    {
     "name": "stdout",
     "output_type": "stream",
     "text": [
      "['Female' 'Male']\n",
      "---------------------------------------------------------------------------------------------------------------------------\n",
      "['Yes' 'No' nan]\n",
      "---------------------------------------------------------------------------------------------------------------------------\n",
      "['Yes' 'No' nan]\n",
      "---------------------------------------------------------------------------------------------------------------------------\n",
      "['Engineer' 'Healthcare' nan 'Executive' 'Marketing' 'Doctor' 'Artist'\n",
      " 'Lawyer' 'Entertainment' 'Homemaker']\n",
      "---------------------------------------------------------------------------------------------------------------------------\n",
      "['Low' 'Average' 'High']\n",
      "---------------------------------------------------------------------------------------------------------------------------\n",
      "['Cat_6' 'Cat_4' 'Cat_3' nan 'Cat_1' 'Cat_2' 'Cat_5' 'Cat_7']\n",
      "---------------------------------------------------------------------------------------------------------------------------\n"
     ]
    }
   ],
   "source": [
    "print(customer_test_df['GENDER'].unique())\n",
    "print('---------------------------------------------------------------------------------------------------------------------------')\n",
    "print(customer_test_df['EVER_MARRIED'].unique())\n",
    "print('---------------------------------------------------------------------------------------------------------------------------')\n",
    "print(customer_test_df['GRADUATED'].unique())\n",
    "print('---------------------------------------------------------------------------------------------------------------------------')\n",
    "print(customer_test_df['PROFESSION'].unique())\n",
    "print('---------------------------------------------------------------------------------------------------------------------------')\n",
    "print(customer_test_df['SPENDING_SCORE'].unique())\n",
    "print('---------------------------------------------------------------------------------------------------------------------------')\n",
    "print(customer_test_df['VAR_1'].unique())\n",
    "print('---------------------------------------------------------------------------------------------------------------------------')"
   ]
  },
  {
   "cell_type": "code",
   "execution_count": 62,
   "id": "99b60272-1ba4-48eb-896f-2c1f2aa97568",
   "metadata": {
    "id": "99b60272-1ba4-48eb-896f-2c1f2aa97568"
   },
   "outputs": [],
   "source": [
    "customer_test_df.GENDER = customer_test_df.GENDER.astype('category')\n",
    "customer_test_df.EVER_MARRIED = customer_test_df.EVER_MARRIED.astype('category')\n",
    "customer_test_df.GRADUATED = customer_test_df.GRADUATED.astype('category')\n",
    "customer_test_df.PROFESSION = customer_test_df.PROFESSION.astype('category')\n",
    "customer_test_df.SPENDING_SCORE = customer_test_df.SPENDING_SCORE.astype('category')\n",
    "customer_test_df.VAR_1 = customer_test_df.VAR_1.astype('category')"
   ]
  },
  {
   "cell_type": "code",
   "execution_count": 63,
   "id": "71a24595-7a31-4e1f-bf94-b9ae82d15197",
   "metadata": {
    "colab": {
     "base_uri": "https://localhost:8080/"
    },
    "id": "71a24595-7a31-4e1f-bf94-b9ae82d15197",
    "outputId": "c71c2c74-e8d1-4a63-f4a7-b9bd54b8d8b2"
   },
   "outputs": [
    {
     "data": {
      "text/plain": [
       "ID                    int64\n",
       "GENDER             category\n",
       "EVER_MARRIED       category\n",
       "AGE                   int64\n",
       "GRADUATED          category\n",
       "PROFESSION         category\n",
       "WORK_EXPERIENCE     float64\n",
       "SPENDING_SCORE     category\n",
       "FAMILY_SIZE         float64\n",
       "VAR_1              category\n",
       "dtype: object"
      ]
     },
     "execution_count": 63,
     "metadata": {},
     "output_type": "execute_result"
    }
   ],
   "source": [
    "customer_test_df.dtypes"
   ]
  },
  {
   "cell_type": "code",
   "execution_count": 64,
   "id": "9f4f27e9-9a54-43ae-9535-770d13879b49",
   "metadata": {
    "colab": {
     "base_uri": "https://localhost:8080/"
    },
    "id": "9f4f27e9-9a54-43ae-9535-770d13879b49",
    "outputId": "03c2dfce-1bd9-4fa2-b575-620757b5f880"
   },
   "outputs": [
    {
     "data": {
      "text/plain": [
       "ID                   0\n",
       "GENDER               0\n",
       "EVER_MARRIED        50\n",
       "AGE                  0\n",
       "GRADUATED           24\n",
       "PROFESSION          38\n",
       "WORK_EXPERIENCE    269\n",
       "SPENDING_SCORE       0\n",
       "FAMILY_SIZE        113\n",
       "VAR_1               32\n",
       "dtype: int64"
      ]
     },
     "execution_count": 64,
     "metadata": {},
     "output_type": "execute_result"
    }
   ],
   "source": [
    "customer_test_df.isnull().sum()"
   ]
  },
  {
   "cell_type": "code",
   "execution_count": 65,
   "id": "5249ec41-2a20-40af-8df2-02270e7108d7",
   "metadata": {
    "colab": {
     "base_uri": "https://localhost:8080/"
    },
    "id": "5249ec41-2a20-40af-8df2-02270e7108d7",
    "outputId": "b9c5d009-9b6b-4eb5-bd57-9a42e7eb77d6"
   },
   "outputs": [
    {
     "data": {
      "text/plain": [
       "count     2577\n",
       "unique       2\n",
       "top        Yes\n",
       "freq      1520\n",
       "Name: EVER_MARRIED, dtype: object"
      ]
     },
     "execution_count": 65,
     "metadata": {},
     "output_type": "execute_result"
    }
   ],
   "source": [
    "customer_test_df['EVER_MARRIED'].describe()"
   ]
  },
  {
   "cell_type": "code",
   "execution_count": 66,
   "id": "d6ffc0e1-d331-47f3-b72c-1b432390ed40",
   "metadata": {
    "id": "d6ffc0e1-d331-47f3-b72c-1b432390ed40"
   },
   "outputs": [],
   "source": [
    "customer_test_df['EVER_MARRIED'] = customer_test_df['EVER_MARRIED'].fillna('Yes')"
   ]
  },
  {
   "cell_type": "code",
   "execution_count": 67,
   "id": "05f68cbb-28ca-46d1-8f52-a1c4a8a1dbe8",
   "metadata": {
    "colab": {
     "base_uri": "https://localhost:8080/"
    },
    "id": "05f68cbb-28ca-46d1-8f52-a1c4a8a1dbe8",
    "outputId": "a89729a6-2e8f-44b2-e751-c98d94483ec4"
   },
   "outputs": [
    {
     "data": {
      "text/plain": [
       "count     2627\n",
       "unique       2\n",
       "top        Yes\n",
       "freq      1570\n",
       "Name: EVER_MARRIED, dtype: object"
      ]
     },
     "execution_count": 67,
     "metadata": {},
     "output_type": "execute_result"
    }
   ],
   "source": [
    "customer_test_df['EVER_MARRIED'].describe()"
   ]
  },
  {
   "cell_type": "code",
   "execution_count": 68,
   "id": "898243f2-1d9b-4804-ac7d-3c7684edfa55",
   "metadata": {
    "colab": {
     "base_uri": "https://localhost:8080/"
    },
    "id": "898243f2-1d9b-4804-ac7d-3c7684edfa55",
    "outputId": "20aca112-6ae9-426e-dfb8-d5cf01ba073f"
   },
   "outputs": [
    {
     "data": {
      "text/plain": [
       "count       2589\n",
       "unique         9\n",
       "top       Artist\n",
       "freq         802\n",
       "Name: PROFESSION, dtype: object"
      ]
     },
     "execution_count": 68,
     "metadata": {},
     "output_type": "execute_result"
    }
   ],
   "source": [
    "customer_test_df.PROFESSION.describe()"
   ]
  },
  {
   "cell_type": "code",
   "execution_count": 69,
   "id": "1476051b-0cb0-4c1a-9113-0ac792165deb",
   "metadata": {
    "id": "1476051b-0cb0-4c1a-9113-0ac792165deb"
   },
   "outputs": [],
   "source": [
    "customer_test_df['PROFESSION'] = customer_test_df['PROFESSION'].fillna('Artist')"
   ]
  },
  {
   "cell_type": "code",
   "execution_count": 70,
   "id": "a71208a9-cc2a-494b-9710-5caad872d937",
   "metadata": {
    "colab": {
     "base_uri": "https://localhost:8080/"
    },
    "id": "a71208a9-cc2a-494b-9710-5caad872d937",
    "outputId": "443e21de-8079-4264-b08b-4d6b4c8544bb"
   },
   "outputs": [
    {
     "data": {
      "text/plain": [
       "count       2627\n",
       "unique         9\n",
       "top       Artist\n",
       "freq         840\n",
       "Name: PROFESSION, dtype: object"
      ]
     },
     "execution_count": 70,
     "metadata": {},
     "output_type": "execute_result"
    }
   ],
   "source": [
    "customer_test_df.PROFESSION.describe()"
   ]
  },
  {
   "cell_type": "code",
   "execution_count": 71,
   "id": "f3e6d1c2-62d4-4bf9-925b-3584bc0b03f7",
   "metadata": {
    "colab": {
     "base_uri": "https://localhost:8080/"
    },
    "id": "f3e6d1c2-62d4-4bf9-925b-3584bc0b03f7",
    "outputId": "56915896-6ef4-49d5-9afa-439c0a5288e9"
   },
   "outputs": [
    {
     "data": {
      "text/plain": [
       "count     2603\n",
       "unique       2\n",
       "top        Yes\n",
       "freq      1602\n",
       "Name: GRADUATED, dtype: object"
      ]
     },
     "execution_count": 71,
     "metadata": {},
     "output_type": "execute_result"
    }
   ],
   "source": [
    "customer_test_df.GRADUATED.describe()"
   ]
  },
  {
   "cell_type": "code",
   "execution_count": 72,
   "id": "63531988-9cc5-42bf-a08d-a13a6b7ad3f6",
   "metadata": {
    "id": "63531988-9cc5-42bf-a08d-a13a6b7ad3f6"
   },
   "outputs": [],
   "source": [
    "customer_test_df['GRADUATED'] = customer_test_df['GRADUATED'].fillna('Yes')"
   ]
  },
  {
   "cell_type": "code",
   "execution_count": 73,
   "id": "c239eff5-f9c3-495b-a4f2-90d06f518261",
   "metadata": {
    "colab": {
     "base_uri": "https://localhost:8080/"
    },
    "id": "c239eff5-f9c3-495b-a4f2-90d06f518261",
    "outputId": "74307cac-b251-4d0b-db53-2dbc46149009"
   },
   "outputs": [
    {
     "data": {
      "text/plain": [
       "count     2627\n",
       "unique       2\n",
       "top        Yes\n",
       "freq      1626\n",
       "Name: GRADUATED, dtype: object"
      ]
     },
     "execution_count": 73,
     "metadata": {},
     "output_type": "execute_result"
    }
   ],
   "source": [
    "customer_test_df.GRADUATED.describe()"
   ]
  },
  {
   "cell_type": "code",
   "execution_count": 74,
   "id": "6be0d34e-122f-44ab-83d7-0746f775e824",
   "metadata": {
    "colab": {
     "base_uri": "https://localhost:8080/"
    },
    "id": "6be0d34e-122f-44ab-83d7-0746f775e824",
    "outputId": "33cf3707-df3d-4774-e661-13e1dc8dac70"
   },
   "outputs": [
    {
     "data": {
      "text/plain": [
       "count      2595\n",
       "unique        7\n",
       "top       Cat_6\n",
       "freq       1672\n",
       "Name: VAR_1, dtype: object"
      ]
     },
     "execution_count": 74,
     "metadata": {},
     "output_type": "execute_result"
    }
   ],
   "source": [
    "customer_test_df.VAR_1.describe()"
   ]
  },
  {
   "cell_type": "code",
   "execution_count": 75,
   "id": "1334121f-5eed-4162-b01a-a2aabb95a081",
   "metadata": {
    "id": "1334121f-5eed-4162-b01a-a2aabb95a081"
   },
   "outputs": [],
   "source": [
    "customer_test_df['VAR_1'] = customer_test_df['VAR_1'].fillna('Cat_6')"
   ]
  },
  {
   "cell_type": "code",
   "execution_count": 76,
   "id": "5229e7d2-2388-4a21-b527-a11c7786d38a",
   "metadata": {
    "colab": {
     "base_uri": "https://localhost:8080/"
    },
    "id": "5229e7d2-2388-4a21-b527-a11c7786d38a",
    "outputId": "433816fb-41e9-439d-f005-1419087b3b87"
   },
   "outputs": [
    {
     "data": {
      "text/plain": [
       "count      2627\n",
       "unique        7\n",
       "top       Cat_6\n",
       "freq       1704\n",
       "Name: VAR_1, dtype: object"
      ]
     },
     "execution_count": 76,
     "metadata": {},
     "output_type": "execute_result"
    }
   ],
   "source": [
    "customer_test_df.VAR_1.describe()"
   ]
  },
  {
   "cell_type": "code",
   "execution_count": 77,
   "id": "69871cb7-29b1-4cb5-8202-f0015d7a9006",
   "metadata": {
    "colab": {
     "base_uri": "https://localhost:8080/"
    },
    "id": "69871cb7-29b1-4cb5-8202-f0015d7a9006",
    "outputId": "94e0d83d-024d-4718-f9ed-8c336f84262c"
   },
   "outputs": [
    {
     "data": {
      "text/plain": [
       "count    2358.000000\n",
       "mean        2.552587\n",
       "std         3.341094\n",
       "min         0.000000\n",
       "25%         0.000000\n",
       "50%         1.000000\n",
       "75%         4.000000\n",
       "max        14.000000\n",
       "Name: WORK_EXPERIENCE, dtype: float64"
      ]
     },
     "execution_count": 77,
     "metadata": {},
     "output_type": "execute_result"
    }
   ],
   "source": [
    "customer_test_df.WORK_EXPERIENCE.describe()"
   ]
  },
  {
   "cell_type": "code",
   "execution_count": 78,
   "id": "0d940992-53e6-4d9c-894f-f8ed0fa7ed4e",
   "metadata": {
    "colab": {
     "base_uri": "https://localhost:8080/"
    },
    "id": "0d940992-53e6-4d9c-894f-f8ed0fa7ed4e",
    "outputId": "c8caac37-0ef3-4130-aa5b-d336d9439ce0"
   },
   "outputs": [
    {
     "data": {
      "text/plain": [
       "2.552586938083121"
      ]
     },
     "execution_count": 78,
     "metadata": {},
     "output_type": "execute_result"
    }
   ],
   "source": [
    "customer_test_df['WORK_EXPERIENCE'].mean()"
   ]
  },
  {
   "cell_type": "code",
   "execution_count": 79,
   "id": "0527d42f-074a-4af9-b92a-da54d837d52e",
   "metadata": {
    "colab": {
     "base_uri": "https://localhost:8080/"
    },
    "id": "0527d42f-074a-4af9-b92a-da54d837d52e",
    "outputId": "49e6e151-f9fb-4690-ded3-c35c3b4dc06d"
   },
   "outputs": [
    {
     "data": {
      "text/plain": [
       "0    1.0\n",
       "dtype: float64"
      ]
     },
     "execution_count": 79,
     "metadata": {},
     "output_type": "execute_result"
    }
   ],
   "source": [
    "customer_test_df['WORK_EXPERIENCE'].mode()"
   ]
  },
  {
   "cell_type": "code",
   "execution_count": 80,
   "id": "4602bedb-d1f1-4b9e-917d-246be2969cac",
   "metadata": {
    "colab": {
     "base_uri": "https://localhost:8080/"
    },
    "id": "4602bedb-d1f1-4b9e-917d-246be2969cac",
    "outputId": "ae213dc0-7916-4bfc-e5cc-d0c7210e3e3b"
   },
   "outputs": [
    {
     "data": {
      "text/plain": [
       "1.0"
      ]
     },
     "execution_count": 80,
     "metadata": {},
     "output_type": "execute_result"
    }
   ],
   "source": [
    "customer_test_df['WORK_EXPERIENCE'].median()"
   ]
  },
  {
   "cell_type": "code",
   "execution_count": 81,
   "id": "22c3a1ea-ee5a-4d52-80a5-e1d51d1c6278",
   "metadata": {
    "id": "22c3a1ea-ee5a-4d52-80a5-e1d51d1c6278"
   },
   "outputs": [],
   "source": [
    "customer_test_df['WORK_EXPERIENCE'] = customer_test_df['WORK_EXPERIENCE'].fillna(customer_test_df['WORK_EXPERIENCE'].mean())"
   ]
  },
  {
   "cell_type": "code",
   "execution_count": 82,
   "id": "e82ad8e4-142f-4fdd-8465-7bb34af4c108",
   "metadata": {
    "colab": {
     "base_uri": "https://localhost:8080/"
    },
    "id": "e82ad8e4-142f-4fdd-8465-7bb34af4c108",
    "outputId": "c13ae04c-d4bf-4023-f052-9e18ee656565"
   },
   "outputs": [
    {
     "data": {
      "text/plain": [
       "count    2627.000000\n",
       "mean        2.552587\n",
       "std         3.165346\n",
       "min         0.000000\n",
       "25%         0.000000\n",
       "50%         1.000000\n",
       "75%         3.000000\n",
       "max        14.000000\n",
       "Name: WORK_EXPERIENCE, dtype: float64"
      ]
     },
     "execution_count": 82,
     "metadata": {},
     "output_type": "execute_result"
    }
   ],
   "source": [
    "customer_test_df.WORK_EXPERIENCE.describe()"
   ]
  },
  {
   "cell_type": "code",
   "execution_count": 83,
   "id": "5e316aa8-3344-4405-85d0-cfaca1f09096",
   "metadata": {
    "colab": {
     "base_uri": "https://localhost:8080/"
    },
    "id": "5e316aa8-3344-4405-85d0-cfaca1f09096",
    "outputId": "92b9678a-10ad-496c-d049-f5f1004d685b"
   },
   "outputs": [
    {
     "data": {
      "text/plain": [
       "count    2514.000000\n",
       "mean        2.825378\n",
       "std         1.551906\n",
       "min         1.000000\n",
       "25%         2.000000\n",
       "50%         2.000000\n",
       "75%         4.000000\n",
       "max         9.000000\n",
       "Name: FAMILY_SIZE, dtype: float64"
      ]
     },
     "execution_count": 83,
     "metadata": {},
     "output_type": "execute_result"
    }
   ],
   "source": [
    "customer_test_df.FAMILY_SIZE.describe()"
   ]
  },
  {
   "cell_type": "code",
   "execution_count": 84,
   "id": "556591e0-2877-4bd2-9977-2140a8774073",
   "metadata": {
    "colab": {
     "base_uri": "https://localhost:8080/"
    },
    "id": "556591e0-2877-4bd2-9977-2140a8774073",
    "outputId": "fcca753a-6d6a-48b3-b01a-9a6224fd98fb"
   },
   "outputs": [
    {
     "data": {
      "text/plain": [
       "2.8253778838504378"
      ]
     },
     "execution_count": 84,
     "metadata": {},
     "output_type": "execute_result"
    }
   ],
   "source": [
    "customer_test_df.FAMILY_SIZE.mean()"
   ]
  },
  {
   "cell_type": "code",
   "execution_count": 85,
   "id": "4406de83-db22-4397-bc2f-75d9dd3094fd",
   "metadata": {
    "colab": {
     "base_uri": "https://localhost:8080/"
    },
    "id": "4406de83-db22-4397-bc2f-75d9dd3094fd",
    "outputId": "517b7b27-f064-4825-e381-9ece001c972f"
   },
   "outputs": [
    {
     "data": {
      "text/plain": [
       "2.0"
      ]
     },
     "execution_count": 85,
     "metadata": {},
     "output_type": "execute_result"
    }
   ],
   "source": [
    "customer_test_df.FAMILY_SIZE.median()"
   ]
  },
  {
   "cell_type": "code",
   "execution_count": 86,
   "id": "4163b498-50fc-4fd3-85a3-8fd3fee45d05",
   "metadata": {
    "colab": {
     "base_uri": "https://localhost:8080/"
    },
    "id": "4163b498-50fc-4fd3-85a3-8fd3fee45d05",
    "outputId": "2a14864d-84c1-48a9-9ee5-c87ba088bfa9"
   },
   "outputs": [
    {
     "data": {
      "text/plain": [
       "0    2.0\n",
       "dtype: float64"
      ]
     },
     "execution_count": 86,
     "metadata": {},
     "output_type": "execute_result"
    }
   ],
   "source": [
    "customer_test_df.FAMILY_SIZE.mode()"
   ]
  },
  {
   "cell_type": "code",
   "execution_count": 87,
   "id": "3fd1bdd1-5005-4628-9147-935c8122d5ee",
   "metadata": {
    "id": "3fd1bdd1-5005-4628-9147-935c8122d5ee"
   },
   "outputs": [],
   "source": [
    "customer_test_df['FAMILY_SIZE'] = customer_test_df['FAMILY_SIZE'].fillna(customer_test_df['FAMILY_SIZE'].mean())"
   ]
  },
  {
   "cell_type": "code",
   "execution_count": 88,
   "id": "3d92cc3e-afaa-4947-b950-4a8dd4b582f6",
   "metadata": {
    "colab": {
     "base_uri": "https://localhost:8080/"
    },
    "id": "3d92cc3e-afaa-4947-b950-4a8dd4b582f6",
    "outputId": "cab40aa8-c3e7-4807-d6cb-12e0f09a0590"
   },
   "outputs": [
    {
     "data": {
      "text/plain": [
       "ID                 0\n",
       "GENDER             0\n",
       "EVER_MARRIED       0\n",
       "AGE                0\n",
       "GRADUATED          0\n",
       "PROFESSION         0\n",
       "WORK_EXPERIENCE    0\n",
       "SPENDING_SCORE     0\n",
       "FAMILY_SIZE        0\n",
       "VAR_1              0\n",
       "dtype: int64"
      ]
     },
     "execution_count": 88,
     "metadata": {},
     "output_type": "execute_result"
    }
   ],
   "source": [
    "customer_test_df.isnull().sum()"
   ]
  },
  {
   "cell_type": "code",
   "execution_count": 89,
   "id": "d18145a2-e207-4919-aec1-c927c9784bce",
   "metadata": {
    "id": "d18145a2-e207-4919-aec1-c927c9784bce"
   },
   "outputs": [],
   "source": [
    "categ = ['GENDER','EVER_MARRIED','GRADUATED', 'PROFESSION', 'SPENDING_SCORE', 'VAR_1']\n",
    "\n",
    "# Encode Categorical Columns\n",
    "enc = LabelEncoder()\n",
    "#enc = OrdinalEncoder()\n",
    "customer_test_df[categ] = customer_test_df[categ].apply(enc.fit_transform)"
   ]
  },
  {
   "cell_type": "code",
   "execution_count": 90,
   "id": "a1958b2b-8b96-4f2c-bf59-330194d6c435",
   "metadata": {
    "id": "a1958b2b-8b96-4f2c-bf59-330194d6c435"
   },
   "outputs": [],
   "source": [
    "train_df = customer_df\n",
    "validation_df = customer_test_df"
   ]
  },
  {
   "cell_type": "code",
   "execution_count": 91,
   "id": "b2d18b46",
   "metadata": {
    "colab": {
     "base_uri": "https://localhost:8080/",
     "height": 143
    },
    "id": "b2d18b46",
    "outputId": "8d51342a-2eac-422c-de14-0dfff4714bb4"
   },
   "outputs": [
    {
     "data": {
      "text/html": [
       "\n",
       "  <div id=\"df-c056018f-3833-4355-a5c2-988906b3ff7e\">\n",
       "    <div class=\"colab-df-container\">\n",
       "      <div>\n",
       "<style scoped>\n",
       "    .dataframe tbody tr th:only-of-type {\n",
       "        vertical-align: middle;\n",
       "    }\n",
       "\n",
       "    .dataframe tbody tr th {\n",
       "        vertical-align: top;\n",
       "    }\n",
       "\n",
       "    .dataframe thead th {\n",
       "        text-align: right;\n",
       "    }\n",
       "</style>\n",
       "<table border=\"1\" class=\"dataframe\">\n",
       "  <thead>\n",
       "    <tr style=\"text-align: right;\">\n",
       "      <th></th>\n",
       "      <th>ID</th>\n",
       "      <th>GENDER</th>\n",
       "      <th>EVER_MARRIED</th>\n",
       "      <th>AGE</th>\n",
       "      <th>GRADUATED</th>\n",
       "      <th>PROFESSION</th>\n",
       "      <th>WORK_EXPERIENCE</th>\n",
       "      <th>SPENDING_SCORE</th>\n",
       "      <th>FAMILY_SIZE</th>\n",
       "      <th>VAR_1</th>\n",
       "      <th>SEGMENTATION</th>\n",
       "    </tr>\n",
       "  </thead>\n",
       "  <tbody>\n",
       "    <tr>\n",
       "      <th>0</th>\n",
       "      <td>462809</td>\n",
       "      <td>1</td>\n",
       "      <td>0</td>\n",
       "      <td>22</td>\n",
       "      <td>0</td>\n",
       "      <td>5</td>\n",
       "      <td>1.000000</td>\n",
       "      <td>2</td>\n",
       "      <td>4.0</td>\n",
       "      <td>3</td>\n",
       "      <td>3</td>\n",
       "    </tr>\n",
       "    <tr>\n",
       "      <th>1</th>\n",
       "      <td>462643</td>\n",
       "      <td>0</td>\n",
       "      <td>1</td>\n",
       "      <td>38</td>\n",
       "      <td>1</td>\n",
       "      <td>2</td>\n",
       "      <td>2.641663</td>\n",
       "      <td>0</td>\n",
       "      <td>3.0</td>\n",
       "      <td>3</td>\n",
       "      <td>0</td>\n",
       "    </tr>\n",
       "    <tr>\n",
       "      <th>2</th>\n",
       "      <td>466315</td>\n",
       "      <td>0</td>\n",
       "      <td>1</td>\n",
       "      <td>67</td>\n",
       "      <td>1</td>\n",
       "      <td>2</td>\n",
       "      <td>1.000000</td>\n",
       "      <td>2</td>\n",
       "      <td>1.0</td>\n",
       "      <td>5</td>\n",
       "      <td>1</td>\n",
       "    </tr>\n",
       "  </tbody>\n",
       "</table>\n",
       "</div>\n",
       "      <button class=\"colab-df-convert\" onclick=\"convertToInteractive('df-c056018f-3833-4355-a5c2-988906b3ff7e')\"\n",
       "              title=\"Convert this dataframe to an interactive table.\"\n",
       "              style=\"display:none;\">\n",
       "        \n",
       "  <svg xmlns=\"http://www.w3.org/2000/svg\" height=\"24px\"viewBox=\"0 0 24 24\"\n",
       "       width=\"24px\">\n",
       "    <path d=\"M0 0h24v24H0V0z\" fill=\"none\"/>\n",
       "    <path d=\"M18.56 5.44l.94 2.06.94-2.06 2.06-.94-2.06-.94-.94-2.06-.94 2.06-2.06.94zm-11 1L8.5 8.5l.94-2.06 2.06-.94-2.06-.94L8.5 2.5l-.94 2.06-2.06.94zm10 10l.94 2.06.94-2.06 2.06-.94-2.06-.94-.94-2.06-.94 2.06-2.06.94z\"/><path d=\"M17.41 7.96l-1.37-1.37c-.4-.4-.92-.59-1.43-.59-.52 0-1.04.2-1.43.59L10.3 9.45l-7.72 7.72c-.78.78-.78 2.05 0 2.83L4 21.41c.39.39.9.59 1.41.59.51 0 1.02-.2 1.41-.59l7.78-7.78 2.81-2.81c.8-.78.8-2.07 0-2.86zM5.41 20L4 18.59l7.72-7.72 1.47 1.35L5.41 20z\"/>\n",
       "  </svg>\n",
       "      </button>\n",
       "      \n",
       "  <style>\n",
       "    .colab-df-container {\n",
       "      display:flex;\n",
       "      flex-wrap:wrap;\n",
       "      gap: 12px;\n",
       "    }\n",
       "\n",
       "    .colab-df-convert {\n",
       "      background-color: #E8F0FE;\n",
       "      border: none;\n",
       "      border-radius: 50%;\n",
       "      cursor: pointer;\n",
       "      display: none;\n",
       "      fill: #1967D2;\n",
       "      height: 32px;\n",
       "      padding: 0 0 0 0;\n",
       "      width: 32px;\n",
       "    }\n",
       "\n",
       "    .colab-df-convert:hover {\n",
       "      background-color: #E2EBFA;\n",
       "      box-shadow: 0px 1px 2px rgba(60, 64, 67, 0.3), 0px 1px 3px 1px rgba(60, 64, 67, 0.15);\n",
       "      fill: #174EA6;\n",
       "    }\n",
       "\n",
       "    [theme=dark] .colab-df-convert {\n",
       "      background-color: #3B4455;\n",
       "      fill: #D2E3FC;\n",
       "    }\n",
       "\n",
       "    [theme=dark] .colab-df-convert:hover {\n",
       "      background-color: #434B5C;\n",
       "      box-shadow: 0px 1px 3px 1px rgba(0, 0, 0, 0.15);\n",
       "      filter: drop-shadow(0px 1px 2px rgba(0, 0, 0, 0.3));\n",
       "      fill: #FFFFFF;\n",
       "    }\n",
       "  </style>\n",
       "\n",
       "      <script>\n",
       "        const buttonEl =\n",
       "          document.querySelector('#df-c056018f-3833-4355-a5c2-988906b3ff7e button.colab-df-convert');\n",
       "        buttonEl.style.display =\n",
       "          google.colab.kernel.accessAllowed ? 'block' : 'none';\n",
       "\n",
       "        async function convertToInteractive(key) {\n",
       "          const element = document.querySelector('#df-c056018f-3833-4355-a5c2-988906b3ff7e');\n",
       "          const dataTable =\n",
       "            await google.colab.kernel.invokeFunction('convertToInteractive',\n",
       "                                                     [key], {});\n",
       "          if (!dataTable) return;\n",
       "\n",
       "          const docLinkHtml = 'Like what you see? Visit the ' +\n",
       "            '<a target=\"_blank\" href=https://colab.research.google.com/notebooks/data_table.ipynb>data table notebook</a>'\n",
       "            + ' to learn more about interactive tables.';\n",
       "          element.innerHTML = '';\n",
       "          dataTable['output_type'] = 'display_data';\n",
       "          await google.colab.output.renderOutput(dataTable, element);\n",
       "          const docLink = document.createElement('div');\n",
       "          docLink.innerHTML = docLinkHtml;\n",
       "          element.appendChild(docLink);\n",
       "        }\n",
       "      </script>\n",
       "    </div>\n",
       "  </div>\n",
       "  "
      ],
      "text/plain": [
       "       ID  GENDER  EVER_MARRIED  AGE  GRADUATED  PROFESSION  WORK_EXPERIENCE  \\\n",
       "0  462809       1             0   22          0           5         1.000000   \n",
       "1  462643       0             1   38          1           2         2.641663   \n",
       "2  466315       0             1   67          1           2         1.000000   \n",
       "\n",
       "   SPENDING_SCORE  FAMILY_SIZE  VAR_1  SEGMENTATION  \n",
       "0               2          4.0      3             3  \n",
       "1               0          3.0      3             0  \n",
       "2               2          1.0      5             1  "
      ]
     },
     "execution_count": 91,
     "metadata": {},
     "output_type": "execute_result"
    }
   ],
   "source": [
    "train_df.head(3)"
   ]
  },
  {
   "cell_type": "code",
   "execution_count": 92,
   "id": "70a380ca",
   "metadata": {
    "colab": {
     "base_uri": "https://localhost:8080/",
     "height": 112
    },
    "id": "70a380ca",
    "outputId": "8c213d56-3e6c-4ad2-867e-e9b3352c7946"
   },
   "outputs": [
    {
     "data": {
      "text/html": [
       "\n",
       "  <div id=\"df-a36befd3-3a03-4f46-9891-835774ce622a\">\n",
       "    <div class=\"colab-df-container\">\n",
       "      <div>\n",
       "<style scoped>\n",
       "    .dataframe tbody tr th:only-of-type {\n",
       "        vertical-align: middle;\n",
       "    }\n",
       "\n",
       "    .dataframe tbody tr th {\n",
       "        vertical-align: top;\n",
       "    }\n",
       "\n",
       "    .dataframe thead th {\n",
       "        text-align: right;\n",
       "    }\n",
       "</style>\n",
       "<table border=\"1\" class=\"dataframe\">\n",
       "  <thead>\n",
       "    <tr style=\"text-align: right;\">\n",
       "      <th></th>\n",
       "      <th>ID</th>\n",
       "      <th>GENDER</th>\n",
       "      <th>EVER_MARRIED</th>\n",
       "      <th>AGE</th>\n",
       "      <th>GRADUATED</th>\n",
       "      <th>PROFESSION</th>\n",
       "      <th>WORK_EXPERIENCE</th>\n",
       "      <th>SPENDING_SCORE</th>\n",
       "      <th>FAMILY_SIZE</th>\n",
       "      <th>VAR_1</th>\n",
       "    </tr>\n",
       "  </thead>\n",
       "  <tbody>\n",
       "    <tr>\n",
       "      <th>0</th>\n",
       "      <td>458989</td>\n",
       "      <td>0</td>\n",
       "      <td>1</td>\n",
       "      <td>36</td>\n",
       "      <td>1</td>\n",
       "      <td>2</td>\n",
       "      <td>0.0</td>\n",
       "      <td>2</td>\n",
       "      <td>1.0</td>\n",
       "      <td>5</td>\n",
       "    </tr>\n",
       "    <tr>\n",
       "      <th>1</th>\n",
       "      <td>458994</td>\n",
       "      <td>1</td>\n",
       "      <td>1</td>\n",
       "      <td>37</td>\n",
       "      <td>1</td>\n",
       "      <td>5</td>\n",
       "      <td>8.0</td>\n",
       "      <td>0</td>\n",
       "      <td>4.0</td>\n",
       "      <td>5</td>\n",
       "    </tr>\n",
       "  </tbody>\n",
       "</table>\n",
       "</div>\n",
       "      <button class=\"colab-df-convert\" onclick=\"convertToInteractive('df-a36befd3-3a03-4f46-9891-835774ce622a')\"\n",
       "              title=\"Convert this dataframe to an interactive table.\"\n",
       "              style=\"display:none;\">\n",
       "        \n",
       "  <svg xmlns=\"http://www.w3.org/2000/svg\" height=\"24px\"viewBox=\"0 0 24 24\"\n",
       "       width=\"24px\">\n",
       "    <path d=\"M0 0h24v24H0V0z\" fill=\"none\"/>\n",
       "    <path d=\"M18.56 5.44l.94 2.06.94-2.06 2.06-.94-2.06-.94-.94-2.06-.94 2.06-2.06.94zm-11 1L8.5 8.5l.94-2.06 2.06-.94-2.06-.94L8.5 2.5l-.94 2.06-2.06.94zm10 10l.94 2.06.94-2.06 2.06-.94-2.06-.94-.94-2.06-.94 2.06-2.06.94z\"/><path d=\"M17.41 7.96l-1.37-1.37c-.4-.4-.92-.59-1.43-.59-.52 0-1.04.2-1.43.59L10.3 9.45l-7.72 7.72c-.78.78-.78 2.05 0 2.83L4 21.41c.39.39.9.59 1.41.59.51 0 1.02-.2 1.41-.59l7.78-7.78 2.81-2.81c.8-.78.8-2.07 0-2.86zM5.41 20L4 18.59l7.72-7.72 1.47 1.35L5.41 20z\"/>\n",
       "  </svg>\n",
       "      </button>\n",
       "      \n",
       "  <style>\n",
       "    .colab-df-container {\n",
       "      display:flex;\n",
       "      flex-wrap:wrap;\n",
       "      gap: 12px;\n",
       "    }\n",
       "\n",
       "    .colab-df-convert {\n",
       "      background-color: #E8F0FE;\n",
       "      border: none;\n",
       "      border-radius: 50%;\n",
       "      cursor: pointer;\n",
       "      display: none;\n",
       "      fill: #1967D2;\n",
       "      height: 32px;\n",
       "      padding: 0 0 0 0;\n",
       "      width: 32px;\n",
       "    }\n",
       "\n",
       "    .colab-df-convert:hover {\n",
       "      background-color: #E2EBFA;\n",
       "      box-shadow: 0px 1px 2px rgba(60, 64, 67, 0.3), 0px 1px 3px 1px rgba(60, 64, 67, 0.15);\n",
       "      fill: #174EA6;\n",
       "    }\n",
       "\n",
       "    [theme=dark] .colab-df-convert {\n",
       "      background-color: #3B4455;\n",
       "      fill: #D2E3FC;\n",
       "    }\n",
       "\n",
       "    [theme=dark] .colab-df-convert:hover {\n",
       "      background-color: #434B5C;\n",
       "      box-shadow: 0px 1px 3px 1px rgba(0, 0, 0, 0.15);\n",
       "      filter: drop-shadow(0px 1px 2px rgba(0, 0, 0, 0.3));\n",
       "      fill: #FFFFFF;\n",
       "    }\n",
       "  </style>\n",
       "\n",
       "      <script>\n",
       "        const buttonEl =\n",
       "          document.querySelector('#df-a36befd3-3a03-4f46-9891-835774ce622a button.colab-df-convert');\n",
       "        buttonEl.style.display =\n",
       "          google.colab.kernel.accessAllowed ? 'block' : 'none';\n",
       "\n",
       "        async function convertToInteractive(key) {\n",
       "          const element = document.querySelector('#df-a36befd3-3a03-4f46-9891-835774ce622a');\n",
       "          const dataTable =\n",
       "            await google.colab.kernel.invokeFunction('convertToInteractive',\n",
       "                                                     [key], {});\n",
       "          if (!dataTable) return;\n",
       "\n",
       "          const docLinkHtml = 'Like what you see? Visit the ' +\n",
       "            '<a target=\"_blank\" href=https://colab.research.google.com/notebooks/data_table.ipynb>data table notebook</a>'\n",
       "            + ' to learn more about interactive tables.';\n",
       "          element.innerHTML = '';\n",
       "          dataTable['output_type'] = 'display_data';\n",
       "          await google.colab.output.renderOutput(dataTable, element);\n",
       "          const docLink = document.createElement('div');\n",
       "          docLink.innerHTML = docLinkHtml;\n",
       "          element.appendChild(docLink);\n",
       "        }\n",
       "      </script>\n",
       "    </div>\n",
       "  </div>\n",
       "  "
      ],
      "text/plain": [
       "       ID  GENDER  EVER_MARRIED  AGE  GRADUATED  PROFESSION  WORK_EXPERIENCE  \\\n",
       "0  458989       0             1   36          1           2              0.0   \n",
       "1  458994       1             1   37          1           5              8.0   \n",
       "\n",
       "   SPENDING_SCORE  FAMILY_SIZE  VAR_1  \n",
       "0               2          1.0      5  \n",
       "1               0          4.0      5  "
      ]
     },
     "execution_count": 92,
     "metadata": {},
     "output_type": "execute_result"
    }
   ],
   "source": [
    "validation_df.head(2)"
   ]
  },
  {
   "cell_type": "code",
   "execution_count": 93,
   "id": "3948af4f-3f63-4f3b-965c-bd303bbf378a",
   "metadata": {
    "colab": {
     "base_uri": "https://localhost:8080/"
    },
    "id": "3948af4f-3f63-4f3b-965c-bd303bbf378a",
    "outputId": "ab692052-94cb-4111-b8cf-2f59a56d9d79"
   },
   "outputs": [
    {
     "data": {
      "text/plain": [
       "Index(['ID', 'GENDER', 'EVER_MARRIED', 'AGE', 'GRADUATED', 'PROFESSION',\n",
       "       'WORK_EXPERIENCE', 'SPENDING_SCORE', 'FAMILY_SIZE', 'VAR_1',\n",
       "       'SEGMENTATION'],\n",
       "      dtype='object')"
      ]
     },
     "execution_count": 93,
     "metadata": {},
     "output_type": "execute_result"
    }
   ],
   "source": [
    "train_df.columns"
   ]
  },
  {
   "cell_type": "code",
   "execution_count": 94,
   "id": "c188e99a-d9e7-4739-ac4d-a621bad2555d",
   "metadata": {
    "id": "c188e99a-d9e7-4739-ac4d-a621bad2555d"
   },
   "outputs": [],
   "source": [
    "#customer_df['FAMILY_SIZE'] = customer_df['FAMILY_SIZE'].astype(int)"
   ]
  },
  {
   "cell_type": "code",
   "execution_count": 95,
   "id": "ba5d0710-abaf-40a5-8ae8-684c1b11320c",
   "metadata": {
    "id": "ba5d0710-abaf-40a5-8ae8-684c1b11320c"
   },
   "outputs": [],
   "source": [
    "#customer_df['WORK_EXPERIENCE'] = customer_df['WORK_EXPERIENCE'].astype(int)"
   ]
  },
  {
   "cell_type": "code",
   "execution_count": 96,
   "id": "4b5c03d9-17c8-4a99-89ab-786d7c2b6954",
   "metadata": {
    "colab": {
     "base_uri": "https://localhost:8080/"
    },
    "id": "4b5c03d9-17c8-4a99-89ab-786d7c2b6954",
    "outputId": "0315d367-35a3-48e2-cd06-07c2420fe66e"
   },
   "outputs": [
    {
     "data": {
      "text/plain": [
       "(8068, 11)"
      ]
     },
     "execution_count": 96,
     "metadata": {},
     "output_type": "execute_result"
    }
   ],
   "source": [
    "customer_df.shape"
   ]
  },
  {
   "cell_type": "code",
   "execution_count": 97,
   "id": "16fc0d25-8a73-4e05-ba1c-e1abaddef121",
   "metadata": {
    "id": "16fc0d25-8a73-4e05-ba1c-e1abaddef121"
   },
   "outputs": [],
   "source": [
    "train_df, validation_df = train_test_split(customer_df, test_size=0.3, random_state=1)"
   ]
  },
  {
   "cell_type": "code",
   "execution_count": 98,
   "id": "d76139d6-c136-4ed2-b5c9-e77ff57e7509",
   "metadata": {
    "colab": {
     "base_uri": "https://localhost:8080/",
     "height": 206
    },
    "id": "d76139d6-c136-4ed2-b5c9-e77ff57e7509",
    "outputId": "ff6258c5-f476-4f5e-921e-d3684794a117"
   },
   "outputs": [
    {
     "data": {
      "text/html": [
       "\n",
       "  <div id=\"df-893c8b16-5744-43e0-b945-29a8b7af5e69\">\n",
       "    <div class=\"colab-df-container\">\n",
       "      <div>\n",
       "<style scoped>\n",
       "    .dataframe tbody tr th:only-of-type {\n",
       "        vertical-align: middle;\n",
       "    }\n",
       "\n",
       "    .dataframe tbody tr th {\n",
       "        vertical-align: top;\n",
       "    }\n",
       "\n",
       "    .dataframe thead th {\n",
       "        text-align: right;\n",
       "    }\n",
       "</style>\n",
       "<table border=\"1\" class=\"dataframe\">\n",
       "  <thead>\n",
       "    <tr style=\"text-align: right;\">\n",
       "      <th></th>\n",
       "      <th>ID</th>\n",
       "      <th>GENDER</th>\n",
       "      <th>EVER_MARRIED</th>\n",
       "      <th>AGE</th>\n",
       "      <th>GRADUATED</th>\n",
       "      <th>PROFESSION</th>\n",
       "      <th>WORK_EXPERIENCE</th>\n",
       "      <th>SPENDING_SCORE</th>\n",
       "      <th>FAMILY_SIZE</th>\n",
       "      <th>VAR_1</th>\n",
       "      <th>SEGMENTATION</th>\n",
       "    </tr>\n",
       "  </thead>\n",
       "  <tbody>\n",
       "    <tr>\n",
       "      <th>3295</th>\n",
       "      <td>463794</td>\n",
       "      <td>0</td>\n",
       "      <td>0</td>\n",
       "      <td>32</td>\n",
       "      <td>1</td>\n",
       "      <td>5</td>\n",
       "      <td>2.641663</td>\n",
       "      <td>2</td>\n",
       "      <td>5.0</td>\n",
       "      <td>1</td>\n",
       "      <td>3</td>\n",
       "    </tr>\n",
       "    <tr>\n",
       "      <th>2803</th>\n",
       "      <td>464802</td>\n",
       "      <td>1</td>\n",
       "      <td>0</td>\n",
       "      <td>40</td>\n",
       "      <td>0</td>\n",
       "      <td>3</td>\n",
       "      <td>1.000000</td>\n",
       "      <td>2</td>\n",
       "      <td>1.0</td>\n",
       "      <td>3</td>\n",
       "      <td>0</td>\n",
       "    </tr>\n",
       "    <tr>\n",
       "      <th>1807</th>\n",
       "      <td>461100</td>\n",
       "      <td>0</td>\n",
       "      <td>0</td>\n",
       "      <td>32</td>\n",
       "      <td>1</td>\n",
       "      <td>5</td>\n",
       "      <td>2.641663</td>\n",
       "      <td>2</td>\n",
       "      <td>3.0</td>\n",
       "      <td>2</td>\n",
       "      <td>2</td>\n",
       "    </tr>\n",
       "    <tr>\n",
       "      <th>1662</th>\n",
       "      <td>464916</td>\n",
       "      <td>0</td>\n",
       "      <td>1</td>\n",
       "      <td>31</td>\n",
       "      <td>1</td>\n",
       "      <td>1</td>\n",
       "      <td>9.000000</td>\n",
       "      <td>1</td>\n",
       "      <td>2.0</td>\n",
       "      <td>3</td>\n",
       "      <td>0</td>\n",
       "    </tr>\n",
       "    <tr>\n",
       "      <th>4631</th>\n",
       "      <td>464730</td>\n",
       "      <td>1</td>\n",
       "      <td>1</td>\n",
       "      <td>36</td>\n",
       "      <td>0</td>\n",
       "      <td>4</td>\n",
       "      <td>1.000000</td>\n",
       "      <td>1</td>\n",
       "      <td>6.0</td>\n",
       "      <td>3</td>\n",
       "      <td>3</td>\n",
       "    </tr>\n",
       "  </tbody>\n",
       "</table>\n",
       "</div>\n",
       "      <button class=\"colab-df-convert\" onclick=\"convertToInteractive('df-893c8b16-5744-43e0-b945-29a8b7af5e69')\"\n",
       "              title=\"Convert this dataframe to an interactive table.\"\n",
       "              style=\"display:none;\">\n",
       "        \n",
       "  <svg xmlns=\"http://www.w3.org/2000/svg\" height=\"24px\"viewBox=\"0 0 24 24\"\n",
       "       width=\"24px\">\n",
       "    <path d=\"M0 0h24v24H0V0z\" fill=\"none\"/>\n",
       "    <path d=\"M18.56 5.44l.94 2.06.94-2.06 2.06-.94-2.06-.94-.94-2.06-.94 2.06-2.06.94zm-11 1L8.5 8.5l.94-2.06 2.06-.94-2.06-.94L8.5 2.5l-.94 2.06-2.06.94zm10 10l.94 2.06.94-2.06 2.06-.94-2.06-.94-.94-2.06-.94 2.06-2.06.94z\"/><path d=\"M17.41 7.96l-1.37-1.37c-.4-.4-.92-.59-1.43-.59-.52 0-1.04.2-1.43.59L10.3 9.45l-7.72 7.72c-.78.78-.78 2.05 0 2.83L4 21.41c.39.39.9.59 1.41.59.51 0 1.02-.2 1.41-.59l7.78-7.78 2.81-2.81c.8-.78.8-2.07 0-2.86zM5.41 20L4 18.59l7.72-7.72 1.47 1.35L5.41 20z\"/>\n",
       "  </svg>\n",
       "      </button>\n",
       "      \n",
       "  <style>\n",
       "    .colab-df-container {\n",
       "      display:flex;\n",
       "      flex-wrap:wrap;\n",
       "      gap: 12px;\n",
       "    }\n",
       "\n",
       "    .colab-df-convert {\n",
       "      background-color: #E8F0FE;\n",
       "      border: none;\n",
       "      border-radius: 50%;\n",
       "      cursor: pointer;\n",
       "      display: none;\n",
       "      fill: #1967D2;\n",
       "      height: 32px;\n",
       "      padding: 0 0 0 0;\n",
       "      width: 32px;\n",
       "    }\n",
       "\n",
       "    .colab-df-convert:hover {\n",
       "      background-color: #E2EBFA;\n",
       "      box-shadow: 0px 1px 2px rgba(60, 64, 67, 0.3), 0px 1px 3px 1px rgba(60, 64, 67, 0.15);\n",
       "      fill: #174EA6;\n",
       "    }\n",
       "\n",
       "    [theme=dark] .colab-df-convert {\n",
       "      background-color: #3B4455;\n",
       "      fill: #D2E3FC;\n",
       "    }\n",
       "\n",
       "    [theme=dark] .colab-df-convert:hover {\n",
       "      background-color: #434B5C;\n",
       "      box-shadow: 0px 1px 3px 1px rgba(0, 0, 0, 0.15);\n",
       "      filter: drop-shadow(0px 1px 2px rgba(0, 0, 0, 0.3));\n",
       "      fill: #FFFFFF;\n",
       "    }\n",
       "  </style>\n",
       "\n",
       "      <script>\n",
       "        const buttonEl =\n",
       "          document.querySelector('#df-893c8b16-5744-43e0-b945-29a8b7af5e69 button.colab-df-convert');\n",
       "        buttonEl.style.display =\n",
       "          google.colab.kernel.accessAllowed ? 'block' : 'none';\n",
       "\n",
       "        async function convertToInteractive(key) {\n",
       "          const element = document.querySelector('#df-893c8b16-5744-43e0-b945-29a8b7af5e69');\n",
       "          const dataTable =\n",
       "            await google.colab.kernel.invokeFunction('convertToInteractive',\n",
       "                                                     [key], {});\n",
       "          if (!dataTable) return;\n",
       "\n",
       "          const docLinkHtml = 'Like what you see? Visit the ' +\n",
       "            '<a target=\"_blank\" href=https://colab.research.google.com/notebooks/data_table.ipynb>data table notebook</a>'\n",
       "            + ' to learn more about interactive tables.';\n",
       "          element.innerHTML = '';\n",
       "          dataTable['output_type'] = 'display_data';\n",
       "          await google.colab.output.renderOutput(dataTable, element);\n",
       "          const docLink = document.createElement('div');\n",
       "          docLink.innerHTML = docLinkHtml;\n",
       "          element.appendChild(docLink);\n",
       "        }\n",
       "      </script>\n",
       "    </div>\n",
       "  </div>\n",
       "  "
      ],
      "text/plain": [
       "          ID  GENDER  EVER_MARRIED  AGE  GRADUATED  PROFESSION  \\\n",
       "3295  463794       0             0   32          1           5   \n",
       "2803  464802       1             0   40          0           3   \n",
       "1807  461100       0             0   32          1           5   \n",
       "1662  464916       0             1   31          1           1   \n",
       "4631  464730       1             1   36          0           4   \n",
       "\n",
       "      WORK_EXPERIENCE  SPENDING_SCORE  FAMILY_SIZE  VAR_1  SEGMENTATION  \n",
       "3295         2.641663               2          5.0      1             3  \n",
       "2803         1.000000               2          1.0      3             0  \n",
       "1807         2.641663               2          3.0      2             2  \n",
       "1662         9.000000               1          2.0      3             0  \n",
       "4631         1.000000               1          6.0      3             3  "
      ]
     },
     "execution_count": 98,
     "metadata": {},
     "output_type": "execute_result"
    }
   ],
   "source": [
    "train_df.head()"
   ]
  },
  {
   "cell_type": "code",
   "execution_count": 99,
   "id": "dc7cbcaa-e98f-467b-a49b-2782bdf14b0d",
   "metadata": {
    "colab": {
     "base_uri": "https://localhost:8080/"
    },
    "id": "dc7cbcaa-e98f-467b-a49b-2782bdf14b0d",
    "outputId": "59e4e745-9b74-41a3-b484-6f8838cbaf6c"
   },
   "outputs": [
    {
     "data": {
      "text/plain": [
       "(5647, 11)"
      ]
     },
     "execution_count": 99,
     "metadata": {},
     "output_type": "execute_result"
    }
   ],
   "source": [
    "train_df.shape"
   ]
  },
  {
   "cell_type": "code",
   "execution_count": 100,
   "id": "07777a52-b3bc-4465-aa7d-bdb27e819a75",
   "metadata": {
    "colab": {
     "base_uri": "https://localhost:8080/"
    },
    "id": "07777a52-b3bc-4465-aa7d-bdb27e819a75",
    "outputId": "f3957f55-0624-4453-b47d-ac703f63d93b"
   },
   "outputs": [
    {
     "data": {
      "text/plain": [
       "ID                 0\n",
       "GENDER             0\n",
       "EVER_MARRIED       0\n",
       "AGE                0\n",
       "GRADUATED          0\n",
       "PROFESSION         0\n",
       "WORK_EXPERIENCE    0\n",
       "SPENDING_SCORE     0\n",
       "FAMILY_SIZE        0\n",
       "VAR_1              0\n",
       "SEGMENTATION       0\n",
       "dtype: int64"
      ]
     },
     "execution_count": 100,
     "metadata": {},
     "output_type": "execute_result"
    }
   ],
   "source": [
    "train_df.isnull().sum()"
   ]
  },
  {
   "cell_type": "markdown",
   "id": "78091091",
   "metadata": {
    "id": "78091091"
   },
   "source": [
    "### Transform Predictors¶"
   ]
  },
  {
   "cell_type": "markdown",
   "id": "ffc8df1b",
   "metadata": {
    "id": "ffc8df1b"
   },
   "source": [
    "K-nn models are sensitive to differences in scale; therefore, we should begin by eliminating any differences in scale between the predictors/features. To accomplish this, we will standardize the values of each variable.\n",
    "\n",
    "We will use the popular sklearn library's 'standard scaler' to accomplish this. This library contains many of the common functions we require when conducting analytics. The standard scaler function will standardize our variables. To achieve this, we will first need to train the scaler on the training data and then apply this trained scaler to standardize both the training and validation sets."
   ]
  },
  {
   "cell_type": "code",
   "execution_count": 101,
   "id": "f2afd888",
   "metadata": {
    "colab": {
     "base_uri": "https://localhost:8080/"
    },
    "id": "f2afd888",
    "outputId": "cc3b33c1-3e7a-47ab-e91a-d4bec6e7e951"
   },
   "outputs": [
    {
     "name": "stdout",
     "output_type": "stream",
     "text": [
      "[[ 0.41028686  0.90869991  0.83628227 ... -0.43312212  0.77989867\n",
      "   0.60030177]\n",
      " [ 1.62356474  0.90869991  0.83628227 ... -1.6152587  -0.57039209\n",
      "   0.60030177]\n",
      " [ 0.68187031  0.90869991  0.83628227 ... -0.43312212  1.45504404\n",
      "  -2.20358913]\n",
      " ...\n",
      " [-0.6414258  -1.10047331  0.83628227 ... -0.43312212 -0.57039209\n",
      "   0.60030177]\n",
      " [ 1.50431422  0.90869991  0.83628227 ...  0.74901447 -0.57039209\n",
      "   0.60030177]\n",
      " [-0.87377197  0.90869991  0.83628227 ... -1.6152587   0.10475329\n",
      "  -1.50261641]]\n"
     ]
    }
   ],
   "source": [
    "target = 'SEGMENTATION'\n",
    "predictors = ['GENDER','EVER_MARRIED', 'AGE', 'GRADUATED', 'PROFESSION','WORK_EXPERIENCE','SPENDING_SCORE', 'FAMILY_SIZE','VAR_1']\n",
    "\n",
    "predictors = list(customer_df.columns)\n",
    "predictors.remove(target)\n",
    "\n",
    "# create a standard scaler and fit it to the training set of predictors\n",
    "scaler = preprocessing.StandardScaler()\n",
    "scaler.fit(train_df[predictors])\n",
    "\n",
    "# Transform the predictors of training and validation sets\n",
    "train_predictors = scaler.transform(train_df[predictors]) # train_predictors is not a numpy array\n",
    "train_target = train_df[target] # train_target is now a series object\n",
    "\n",
    "validation_predictors = scaler.transform(validation_df[predictors]) # validation_target is now a series object\n",
    "validation_target = validation_df[target] # validation_target is now a series object\n",
    "\n",
    "print(validation_predictors)"
   ]
  },
  {
   "cell_type": "markdown",
   "id": "d702548e",
   "metadata": {
    "id": "d702548e"
   },
   "source": [
    "Let's now explore the results of the standardization"
   ]
  },
  {
   "cell_type": "code",
   "execution_count": 102,
   "id": "a0fc1476",
   "metadata": {
    "colab": {
     "base_uri": "https://localhost:8080/"
    },
    "id": "a0fc1476",
    "outputId": "c95cd87c-508b-4420-8500-21cf6fd6c3aa"
   },
   "outputs": [
    {
     "name": "stdout",
     "output_type": "stream",
     "text": [
      "[[ 0.1352413  -1.10047331 -1.1957685  -0.67896055  0.78027682  0.88199982\n",
      "   0.00967089  0.74901447  1.45504404 -2.20358913]\n",
      " [ 0.52299784  0.90869991 -1.1957685  -0.1976084  -1.28159645  0.09677942\n",
      "  -0.50234568  0.74901447 -1.24553747 -0.80164368]\n",
      " [-0.90108419 -1.10047331 -1.1957685  -0.67896055  0.78027682  0.88199982\n",
      "   0.00967089  0.74901447  0.10475329 -1.50261641]\n",
      " [ 0.56685125 -1.10047331  0.83628227 -0.73912957  0.78027682 -0.68844097\n",
      "   1.99276569 -0.43312212 -0.57039209 -0.80164368]\n",
      " [ 0.49530094  0.90869991  0.83628227 -0.43828447 -1.28159645  0.48938962\n",
      "  -0.50234568 -0.43312212  2.13018942 -0.80164368]]\n",
      "\n",
      "[3 0 2 0 3]\n",
      "\n",
      "[[ 0.41028686  0.90869991  0.83628227  0.58458885  0.78027682 -1.08105117\n",
      "  -0.8142346  -0.43312212  0.77989867  0.60030177]\n",
      " [ 1.62356474  0.90869991  0.83628227 -0.73912957 -1.28159645 -0.68844097\n",
      "   0.00967089 -1.6152587  -0.57039209  0.60030177]\n",
      " [ 0.68187031  0.90869991  0.83628227 -0.25777742  0.78027682  0.48938962\n",
      "   1.99276569 -0.43312212  1.45504404 -2.20358913]\n",
      " [ 0.51530426  0.90869991  0.83628227 -0.49845349 -1.28159645  2.05983041\n",
      "  -0.8142346   0.74901447  0.10475329 -0.80164368]\n",
      " [ 0.64686451 -1.10047331  0.83628227 -0.8594676   0.78027682  0.88199982\n",
      "   1.05709892 -1.6152587  -0.57039209  0.60030177]]\n",
      "\n",
      "[2 3 0 3 0]\n",
      "\n"
     ]
    }
   ],
   "source": [
    "import numpy as np\n",
    "\n",
    "print(train_predictors[:5], end=\"\\n\\n\")\n",
    "print(np.array(train_target[:5]), end=\"\\n\\n\")\n",
    "print(validation_predictors[:5], end=\"\\n\\n\")\n",
    "print(np.array(validation_target[:5]), end=\"\\n\\n\")"
   ]
  },
  {
   "cell_type": "markdown",
   "id": "801b277a",
   "metadata": {
    "id": "801b277a"
   },
   "source": [
    "### Step6: Train a K-NN model"
   ]
  },
  {
   "cell_type": "markdown",
   "id": "a3c46af7",
   "metadata": {
    "id": "a3c46af7"
   },
   "source": [
    "To determine a k value we need to perform square root of the total observations. Since there are 8068 observations, following this rule of thumb, we would select a k value of 89 (but it's best to choose an odd number so that we will use k=89)."
   ]
  },
  {
   "cell_type": "code",
   "execution_count": 103,
   "id": "db27c14c",
   "metadata": {
    "colab": {
     "base_uri": "https://localhost:8080/"
    },
    "id": "db27c14c",
    "outputId": "981cf2d8-1278-421c-b670-97fc4ecd1770"
   },
   "outputs": [
    {
     "data": {
      "text/plain": [
       "array([2, 2, 1, 3, 2, 1, 1, 0, 2, 2, 0, 2, 2, 0, 2, 2, 0, 1, 2, 0, 2, 0,\n",
       "       0, 3, 2, 2, 0, 0, 0, 2, 3, 2, 0, 2, 3, 2, 1, 1, 2, 0, 0, 0, 1, 1,\n",
       "       3, 1, 2, 2, 0, 0, 2, 3, 0, 0, 2, 3, 2, 1, 0, 2, 3, 2, 3, 3, 1, 0,\n",
       "       0, 0, 3, 1, 0, 1, 2, 2, 0, 0, 2, 0, 0, 0, 3, 3, 2, 3, 0, 1, 3, 0,\n",
       "       3, 3, 3, 0, 0, 2, 3, 2, 1, 3, 2, 0])"
      ]
     },
     "execution_count": 103,
     "metadata": {},
     "output_type": "execute_result"
    }
   ],
   "source": [
    "knn = KNeighborsClassifier(n_neighbors=89,  metric='euclidean') # user euclidean distance\n",
    "knn.fit(train_predictors, train_target)\n",
    "knn_prediction_output = knn.predict(validation_predictors)\n",
    "knn_prediction_output[:100]"
   ]
  },
  {
   "cell_type": "code",
   "execution_count": 104,
   "id": "23828a45",
   "metadata": {
    "colab": {
     "base_uri": "https://localhost:8080/"
    },
    "id": "23828a45",
    "outputId": "09f562ae-181b-4cbf-c2be-27137350a67f"
   },
   "outputs": [
    {
     "data": {
      "text/plain": [
       "array([0.35, 0.34, 0.3 , 0.1 , 0.29, 0.47, 0.35, 0.31, 0.28, 0.29, 0.25,\n",
       "       0.19, 0.35, 0.35, 0.31, 0.22, 0.2 , 0.43, 0.21, 0.29, 0.34, 0.24,\n",
       "       0.1 , 0.07, 0.24, 0.24, 0.29, 0.26, 0.16, 0.33, 0.06, 0.24, 0.18,\n",
       "       0.21, 0.09, 0.27, 0.38, 0.38, 0.36, 0.18, 0.25, 0.35, 0.47, 0.39,\n",
       "       0.07, 0.42, 0.22, 0.35, 0.3 , 0.33, 0.3 , 0.13, 0.24, 0.26, 0.25,\n",
       "       0.17, 0.37, 0.39, 0.2 , 0.34, 0.13, 0.21, 0.02, 0.07, 0.42, 0.3 ,\n",
       "       0.22, 0.25, 0.13, 0.29, 0.3 , 0.39, 0.26, 0.27, 0.28, 0.27, 0.28,\n",
       "       0.25, 0.29, 0.24, 0.07, 0.07, 0.3 , 0.07, 0.18, 0.4 , 0.01, 0.35,\n",
       "       0.2 , 0.06, 0.07, 0.29, 0.26, 0.25, 0.08, 0.24, 0.31, 0.07, 0.28,\n",
       "       0.27])"
      ]
     },
     "execution_count": 104,
     "metadata": {},
     "output_type": "execute_result"
    }
   ],
   "source": [
    "knn_predict_proba_output = knn.predict_proba(validation_predictors)\n",
    "knn_predict_proba_output[:100, 1].round(2)"
   ]
  },
  {
   "cell_type": "markdown",
   "id": "e24f8e76",
   "metadata": {
    "id": "e24f8e76"
   },
   "source": [
    "### Measure performance of model using confusion matrix"
   ]
  },
  {
   "cell_type": "code",
   "execution_count": 105,
   "id": "3782d1f4",
   "metadata": {
    "id": "3782d1f4"
   },
   "outputs": [],
   "source": [
    "confusion = confusion_matrix(validation_target, knn_prediction_output)"
   ]
  },
  {
   "cell_type": "code",
   "execution_count": 106,
   "id": "e05c88f7-30dd-41c3-8c26-36de1915fa6e",
   "metadata": {
    "colab": {
     "base_uri": "https://localhost:8080/"
    },
    "id": "e05c88f7-30dd-41c3-8c26-36de1915fa6e",
    "outputId": "497b4ff4-e751-4bac-a103-3ab9b2018945"
   },
   "outputs": [
    {
     "data": {
      "text/plain": [
       "array([[276, 109,  87, 122],\n",
       "       [148, 138, 185,  73],\n",
       "       [ 69, 101, 351,  86],\n",
       "       [146,  52,  24, 454]])"
      ]
     },
     "execution_count": 106,
     "metadata": {},
     "output_type": "execute_result"
    }
   ],
   "source": [
    "confusion"
   ]
  },
  {
   "cell_type": "code",
   "execution_count": 107,
   "id": "47b72396",
   "metadata": {
    "colab": {
     "base_uri": "https://localhost:8080/"
    },
    "id": "47b72396",
    "outputId": "a8151996-9ec6-4ac2-d231-719f08945de3"
   },
   "outputs": [
    {
     "data": {
      "text/plain": [
       "(4, 4)"
      ]
     },
     "execution_count": 107,
     "metadata": {},
     "output_type": "execute_result"
    }
   ],
   "source": [
    "confusion.shape"
   ]
  },
  {
   "cell_type": "code",
   "execution_count": 108,
   "id": "107ca710-38e4-4de6-a02a-148d9359d66f",
   "metadata": {
    "colab": {
     "base_uri": "https://localhost:8080/"
    },
    "id": "107ca710-38e4-4de6-a02a-148d9359d66f",
    "outputId": "e1a9be7d-22ba-46bc-c610-4afd2fd39d62"
   },
   "outputs": [
    {
     "data": {
      "text/plain": [
       "array([[276, 109,  87, 122],\n",
       "       [148, 138, 185,  73],\n",
       "       [ 69, 101, 351,  86],\n",
       "       [146,  52,  24, 454]])"
      ]
     },
     "execution_count": 108,
     "metadata": {},
     "output_type": "execute_result"
    }
   ],
   "source": [
    "confusion"
   ]
  },
  {
   "cell_type": "code",
   "execution_count": 109,
   "id": "7239f625-6601-42bf-9774-d6c5e95b966b",
   "metadata": {
    "colab": {
     "base_uri": "https://localhost:8080/"
    },
    "id": "7239f625-6601-42bf-9774-d6c5e95b966b",
    "outputId": "3e52ca98-6e0d-47ee-d4d7-0a3c0ee91801"
   },
   "outputs": [
    {
     "data": {
      "text/plain": [
       "array([3, 0, 2, ..., 0, 2, 0])"
      ]
     },
     "execution_count": 109,
     "metadata": {},
     "output_type": "execute_result"
    }
   ],
   "source": [
    "train_target.values"
   ]
  },
  {
   "cell_type": "code",
   "execution_count": 110,
   "id": "106a1548-337d-451e-a96e-f621b63fe54d",
   "metadata": {
    "colab": {
     "base_uri": "https://localhost:8080/"
    },
    "id": "106a1548-337d-451e-a96e-f621b63fe54d",
    "outputId": "7cfd9d76-c2fd-4faa-dbe9-7b27dc2ff428"
   },
   "outputs": [
    {
     "name": "stdout",
     "output_type": "stream",
     "text": [
      "Accuracy on training:  0.7141845227554454\n",
      "-------The confusion matrix for this model is-------\n",
      "[[276 109  87 122]\n",
      " [148 138 185  73]\n",
      " [ 69 101 351  86]\n",
      " [146  52  24 454]]\n",
      "\n",
      "\n",
      "-------Printing the whole report of the model-------\n",
      "              precision    recall  f1-score   support\n",
      "\n",
      "           0       0.61      1.00      0.76      1378\n",
      "           1       0.64      0.75      0.69      1314\n",
      "           2       0.81      0.57      0.67      1363\n",
      "           3       1.00      0.56      0.72      1592\n",
      "\n",
      "    accuracy                           0.71      5647\n",
      "   macro avg       0.77      0.72      0.71      5647\n",
      "weighted avg       0.78      0.71      0.71      5647\n",
      "\n"
     ]
    }
   ],
   "source": [
    "from sklearn.neighbors import KNeighborsClassifier\n",
    "\n",
    "# Instantiate the model\n",
    "model_knn1 = KNeighborsClassifier(n_neighbors=2)\n",
    "\n",
    "#fitting the model\n",
    "model_knn1.fit(train_predictors, train_target)\n",
    "\n",
    "#checking the training score\n",
    "print('Accuracy on training: ',model_knn1.score(train_predictors, train_target))\n",
    "\n",
    "# predict the target on the train dataset\n",
    "yhat1 = model_knn1.predict(train_predictors)\n",
    "\n",
    "from sklearn.metrics import confusion_matrix\n",
    "cm1 = confusion_matrix(validation_target, knn_prediction_output)\n",
    "print('-------The confusion matrix for this model is-------')\n",
    "print(cm1)\n",
    "\n",
    "from sklearn.metrics import classification_report\n",
    "print('\\n\\n-------Printing the whole report of the model-------')\n",
    "print(classification_report(train_target.values, yhat1))\n"
   ]
  },
  {
   "cell_type": "markdown",
   "id": "2f637a75-b48a-4698-9fd9-beba6654b6b3",
   "metadata": {
    "id": "2f637a75-b48a-4698-9fd9-beba6654b6b3"
   },
   "source": [
    "The model that we have created has a correctness/accuracy of 71.41 % which seems to be a good fit."
   ]
  },
  {
   "cell_type": "markdown",
   "id": "7c45572c-f42e-48a7-8c21-4eae008c3b39",
   "metadata": {
    "id": "7c45572c-f42e-48a7-8c21-4eae008c3b39"
   },
   "source": [
    "### Step7: Hyperparamater Tuning with k-NN"
   ]
  },
  {
   "cell_type": "markdown",
   "id": "34d199ab-6417-4764-8bcd-31c48d866581",
   "metadata": {
    "id": "34d199ab-6417-4764-8bcd-31c48d866581"
   },
   "source": [
    "1. Hyper parameter tuning is not limited to decision trees, we can apply it to k-NN modeling technqiue for which we'd like to explore different parameter values and the resulting performance of the model with these parameters."
   ]
  },
  {
   "cell_type": "markdown",
   "id": "5ef13888",
   "metadata": {
    "id": "5ef13888"
   },
   "source": [
    "2. The RandomizedSearchCV and GridSearchCV classes of the Scikit-Learn package, respectively, offer cross-validation using grid search hyperparameter tuning."
   ]
  },
  {
   "cell_type": "markdown",
   "id": "6d583302",
   "metadata": {
    "id": "6d583302"
   },
   "source": [
    "### Here we have two instances hapenning \n",
    "##### A) K-Fold Cross Validation is dividing the data set into K training and testing sets. (Here K fold=10)\n",
    "##### B) When GridSearchCV is fit to data, cross-validation is done internally to select hyper parameters.\n",
    "\n",
    "Reference: https://www.kaggle.com/questions-and-answers/30560"
   ]
  },
  {
   "cell_type": "markdown",
   "id": "3177302e",
   "metadata": {
    "id": "3177302e"
   },
   "source": [
    "##### Performing Cross Validation using Accuracy as Scoring Metric"
   ]
  },
  {
   "cell_type": "code",
   "execution_count": 111,
   "id": "81198aa5-bc07-449a-8650-cd8128b539f9",
   "metadata": {
    "colab": {
     "base_uri": "https://localhost:8080/"
    },
    "id": "81198aa5-bc07-449a-8650-cd8128b539f9",
    "outputId": "9de0f5dc-70f2-4511-de89-a4b2bb996cfa"
   },
   "outputs": [
    {
     "name": "stdout",
     "output_type": "stream",
     "text": [
      "accuracy score:  0.5200881817611247\n",
      "parameters:  {'leaf_size': 2, 'metric': 'manhattan', 'n_neighbors': 38, 'weights': 'uniform'}\n"
     ]
    }
   ],
   "source": [
    "score_measure = 'accuracy'\n",
    "k_fold = 10\n",
    "# Start with an initial guess for parameters\n",
    "param_grid = {\n",
    "    'leaf_size': list(range(2,26)),\n",
    "    'n_neighbors': list(range(10,42,2)),\n",
    "    'weights': ['uniform','distance'], #added weights parameter\n",
    "    'metric': ['euclidean', 'cosine','manhattan','minkowski']\n",
    "}\n",
    "gridSearch = GridSearchCV(KNeighborsClassifier(), param_grid, cv=k_fold, scoring=score_measure,\n",
    "                          n_jobs=-1)  # n_jobs=-1 will utilize all available CPUs \n",
    "gridSearch.fit(train_predictors, train_target)\n",
    "print(score_measure, 'score: ', gridSearch.best_score_)\n",
    "print('parameters: ', gridSearch.best_params_)\n",
    "\n",
    "bestAccuracyKnn = gridSearch.best_estimator_"
   ]
  },
  {
   "cell_type": "code",
   "execution_count": 122,
   "id": "6MaVz4ncNR6E",
   "metadata": {
    "id": "6MaVz4ncNR6E"
   },
   "outputs": [],
   "source": [
    "random_seed = 1\n",
    "np.random.seed(random_seed)"
   ]
  },
  {
   "cell_type": "code",
   "execution_count": 131,
   "id": "zgxQRaAsM2Vx",
   "metadata": {
    "colab": {
     "base_uri": "https://localhost:8080/"
    },
    "id": "zgxQRaAsM2Vx",
    "outputId": "19e389a6-cd95-4c18-e62b-50f986dd2b80"
   },
   "outputs": [
    {
     "name": "stderr",
     "output_type": "stream",
     "text": [
      "/usr/local/lib/python3.7/dist-packages/sklearn/model_selection/_search.py:296: UserWarning: The total space of parameters 3072 is smaller than n_iter=10000. Running 3072 iterations. For exhaustive searches, use GridSearchCV.\n",
      "  UserWarning,\n"
     ]
    }
   ],
   "source": [
    "knn_default = KNeighborsClassifier()\n",
    "# change n_iter to 200_000 for full run\n",
    "best_random_search_model = RandomizedSearchCV(\n",
    "        estimator=KNeighborsClassifier(), \n",
    "        scoring='accuracy', \n",
    "        param_distributions=param_grid, \n",
    "        n_iter = 10_000, \n",
    "        cv=10, \n",
    "        verbose=0, \n",
    "        n_jobs = -1\n",
    "    )\n",
    "best_random_search_model = best_random_search_model.fit(train_predictors, train_target)"
   ]
  },
  {
   "cell_type": "code",
   "execution_count": 138,
   "id": "R4R2JxXJPRx4",
   "metadata": {
    "colab": {
     "base_uri": "https://localhost:8080/"
    },
    "id": "R4R2JxXJPRx4",
    "outputId": "41eb10f0-0e75-4efb-ae0c-148fb79cb7f9"
   },
   "outputs": [
    {
     "name": "stdout",
     "output_type": "stream",
     "text": [
      "Best parameters found:  {'min_samples_split': 205, 'min_samples_leaf': 25, 'min_impurity_decrease': 0.0009, 'max_leaf_nodes': 1828, 'max_depth': 337, 'criterion': 'gini'}\n"
     ]
    }
   ],
   "source": [
    "random_search_best_params = best_random_search_model.best_params_\n",
    "print('Best parameters found: ', random_search_best_params)"
   ]
  },
  {
   "cell_type": "code",
   "execution_count": 139,
   "id": "8GpHpdvqPUtN",
   "metadata": {
    "colab": {
     "base_uri": "https://localhost:8080/"
    },
    "id": "8GpHpdvqPUtN",
    "outputId": "434e02af-3c06-41f4-929c-0143ed0e553e"
   },
   "outputs": [
    {
     "name": "stdout",
     "output_type": "stream",
     "text": [
      "************************************\n",
      "Accuracy Score:   0.5220983064849236\n"
     ]
    }
   ],
   "source": [
    "y_pred = best_random_search_model.predict(validation_predictors)\n",
    "print(\"************************************\")\n",
    "print(f\"{'Accuracy Score: ':18}{accuracy_score(validation_target, y_pred)}\")"
   ]
  },
  {
   "cell_type": "markdown",
   "id": "9v4OqlCW2kio",
   "metadata": {
    "id": "9v4OqlCW2kio"
   },
   "source": [
    "Based on both searches - We have got more accuracy with random search 52.20 than grid search 52.00 by 0.2%"
   ]
  },
  {
   "cell_type": "markdown",
   "id": "0a59d4db",
   "metadata": {
    "id": "0a59d4db"
   },
   "source": [
    "#### First 100 Predictions for Hyperparameter Tuned KNN Model"
   ]
  },
  {
   "cell_type": "code",
   "execution_count": 112,
   "id": "87f2111b-72c8-482e-9656-3f9e1d20304f",
   "metadata": {
    "colab": {
     "base_uri": "https://localhost:8080/"
    },
    "id": "87f2111b-72c8-482e-9656-3f9e1d20304f",
    "outputId": "605b97cf-0a80-427f-c9bf-937cf2e5862e"
   },
   "outputs": [
    {
     "data": {
      "text/plain": [
       "array([2, 1, 1, 0, 2, 1, 1, 1, 2, 2, 0, 0, 2, 0, 2, 2, 0, 1, 2, 0, 2, 0,\n",
       "       3, 3, 2, 2, 0, 0, 0, 2, 3, 2, 0, 2, 3, 2, 1, 1, 2, 0, 0, 0, 1, 1,\n",
       "       3, 1, 2, 2, 0, 0, 2, 3, 0, 0, 2, 3, 2, 1, 0, 1, 3, 2, 3, 3, 1, 1,\n",
       "       3, 0, 3, 1, 0, 1, 2, 2, 0, 0, 2, 1, 1, 0, 3, 3, 2, 3, 0, 2, 3, 1,\n",
       "       0, 3, 3, 0, 0, 2, 3, 2, 0, 3, 2, 0])"
      ]
     },
     "execution_count": 112,
     "metadata": {},
     "output_type": "execute_result"
    }
   ],
   "source": [
    "knnhyp_prediction_output = gridSearch.predict(validation_predictors)\n",
    "knnhyp_prediction_output[:100]"
   ]
  },
  {
   "cell_type": "markdown",
   "id": "46f22f4b",
   "metadata": {
    "id": "46f22f4b"
   },
   "source": [
    "**Confusion Matrix - KNN Hyper parameter Tuned Model**"
   ]
  },
  {
   "cell_type": "code",
   "execution_count": 113,
   "id": "ebafe4a5-8331-4e61-82de-c209e9e95308",
   "metadata": {
    "id": "ebafe4a5-8331-4e61-82de-c209e9e95308"
   },
   "outputs": [],
   "source": [
    "confusion = confusion_matrix(validation_target, knnhyp_prediction_output)"
   ]
  },
  {
   "cell_type": "code",
   "execution_count": 114,
   "id": "1f94afa3-8d13-40c8-847a-3a249821d02c",
   "metadata": {
    "colab": {
     "base_uri": "https://localhost:8080/"
    },
    "id": "1f94afa3-8d13-40c8-847a-3a249821d02c",
    "outputId": "b8c7ed1b-aa23-425c-9266-1f201d4997f2"
   },
   "outputs": [
    {
     "data": {
      "text/plain": [
       "array([[272, 125,  86, 111],\n",
       "       [119, 166, 192,  67],\n",
       "       [ 56,  94, 372,  85],\n",
       "       [153,  53,  23, 447]])"
      ]
     },
     "execution_count": 114,
     "metadata": {},
     "output_type": "execute_result"
    }
   ],
   "source": [
    "confusion"
   ]
  },
  {
   "cell_type": "markdown",
   "id": "6d6f6283",
   "metadata": {
    "id": "6d6f6283",
    "tags": []
   },
   "source": [
    "## Step8: Hyperparamater Tuning with Decision Tree Classifier"
   ]
  },
  {
   "cell_type": "code",
   "execution_count": 115,
   "id": "2a0cd4c9",
   "metadata": {
    "id": "2a0cd4c9"
   },
   "outputs": [],
   "source": [
    "from sklearn.tree import DecisionTreeClassifier\n",
    "dtree=DecisionTreeClassifier(random_state=1)"
   ]
  },
  {
   "cell_type": "code",
   "execution_count": 116,
   "id": "b4085f96-5dbb-4067-8f9e-17e8dfff752b",
   "metadata": {
    "id": "b4085f96-5dbb-4067-8f9e-17e8dfff752b"
   },
   "outputs": [],
   "source": [
    "# construct datasets for analysis\n",
    "target = 'SEGMENTATION'\n",
    "predictors = list(customer_df.columns)\n",
    "predictors.remove(target)\n",
    "X = customer_df[predictors]\n",
    "y = customer_df[target]"
   ]
  },
  {
   "cell_type": "code",
   "execution_count": 117,
   "id": "b83b37c3-94d9-4e80-a9c2-b06548bf45c5",
   "metadata": {
    "id": "b83b37c3-94d9-4e80-a9c2-b06548bf45c5"
   },
   "outputs": [],
   "source": [
    "# create the training set and the test set \n",
    "train_X, valid_X, train_y, y_test = train_test_split(X,y, test_size=0.3, random_state=1)"
   ]
  },
  {
   "cell_type": "code",
   "execution_count": 132,
   "id": "32496547-d9e2-474d-ba56-80d8347bf58a",
   "metadata": {
    "id": "32496547-d9e2-474d-ba56-80d8347bf58a"
   },
   "outputs": [],
   "source": [
    "# Criterion used to guide data splits\n",
    "criterion = ['gini', 'entropy']\n",
    "\n",
    "# Maximum number of levels in tree. If None, then nodes are expanded until all leaves are pure or until all \n",
    "# leaves contain less than min_samples_split samples.\n",
    "# default = None\n",
    "max_depth = [int(x) for x in np.linspace(1, 500, 50)]\n",
    "\n",
    "\n",
    "# Minimum number of samples required to split a node\n",
    "# default is 2\n",
    "min_samples_split = [int(x) for x in np.linspace(2, 500, 50)]\n",
    "\n",
    "# Minimum number of samples required at each leaf node\n",
    "# default = 1 \n",
    "min_samples_leaf = [int(x) for x in np.linspace(1, 100, 50)]\n",
    "\n",
    "# max_leaf_nodes  - Grow trees with max_leaf_nodes in best-first fashion.\n",
    "# If None then unlimited number of leaf nodes.\n",
    "# default=None \n",
    "max_leaf_nodes = [int(x) for x in np.linspace(2, len(y_test), 50)]\n",
    "\n",
    "\n",
    "# min_impurity_decrease - A node will be split if this split induces a decrease of the impurity greater than or equal to this value.\n",
    "# default=0.0\n",
    "min_impurity_decrease = [x for x in np.arange(0.0, 0.01, 0.0001).round(5)]\n",
    "\n",
    "# Create the random grid\n",
    "param_grid_random = { 'criterion': criterion,\n",
    "                      'max_depth': max_depth,\n",
    "                      'min_samples_split': min_samples_split,\n",
    "                      'min_samples_leaf' : min_samples_leaf,\n",
    "                      'max_leaf_nodes' : max_leaf_nodes,\n",
    "                      'min_impurity_decrease' : min_impurity_decrease,\n",
    "                     }\n"
   ]
  },
  {
   "cell_type": "code",
   "execution_count": 133,
   "id": "Hk6FJ9OEMaXg",
   "metadata": {
    "id": "Hk6FJ9OEMaXg"
   },
   "outputs": [],
   "source": [
    "random_seed = 1\n",
    "np.random.seed(random_seed)"
   ]
  },
  {
   "cell_type": "code",
   "execution_count": 134,
   "id": "93aa4682-dde1-44f4-9fd2-81d65392ac02",
   "metadata": {
    "id": "93aa4682-dde1-44f4-9fd2-81d65392ac02"
   },
   "outputs": [],
   "source": [
    "dtree_default = DecisionTreeClassifier(random_state=random_seed)\n",
    "# change n_iter to 200_000 for full run\n",
    "best_random_search_model = RandomizedSearchCV(\n",
    "        estimator=DecisionTreeClassifier(random_state=random_seed), \n",
    "        scoring='accuracy', \n",
    "        param_distributions=param_grid_random, \n",
    "        n_iter = 10_000, \n",
    "        cv=10, \n",
    "        verbose=0, \n",
    "        n_jobs = -1\n",
    "    )\n",
    "best_random_search_model = best_random_search_model.fit(train_X, train_y)"
   ]
  },
  {
   "cell_type": "code",
   "execution_count": 140,
   "id": "35c407ac-b710-4a23-a28e-1aa8bfe9e699",
   "metadata": {
    "colab": {
     "base_uri": "https://localhost:8080/"
    },
    "id": "35c407ac-b710-4a23-a28e-1aa8bfe9e699",
    "outputId": "973dca49-fa51-4508-d552-70d4e06d9313"
   },
   "outputs": [
    {
     "name": "stdout",
     "output_type": "stream",
     "text": [
      "Best parameters found:  {'min_samples_split': 205, 'min_samples_leaf': 25, 'min_impurity_decrease': 0.0009, 'max_leaf_nodes': 1828, 'max_depth': 337, 'criterion': 'gini'}\n"
     ]
    }
   ],
   "source": [
    "random_search_best_params = best_random_search_model.best_params_\n",
    "print('Best parameters found: ', random_search_best_params)"
   ]
  },
  {
   "cell_type": "code",
   "execution_count": 141,
   "id": "e09a5aa4-1660-4707-8c6c-393c973a586f",
   "metadata": {
    "colab": {
     "base_uri": "https://localhost:8080/"
    },
    "id": "e09a5aa4-1660-4707-8c6c-393c973a586f",
    "outputId": "ae9e27b3-494e-49a8-c3fd-0620853db3c5"
   },
   "outputs": [
    {
     "name": "stdout",
     "output_type": "stream",
     "text": [
      "************************************\n",
      "Accuracy Score:   0.5220983064849236\n"
     ]
    }
   ],
   "source": [
    "y_pred = best_random_search_model.predict(valid_X)\n",
    "print(\"************************************\")\n",
    "print(f\"{'Accuracy Score: ':18}{accuracy_score(y_test, y_pred)}\")"
   ]
  },
  {
   "cell_type": "code",
   "execution_count": 142,
   "id": "282be3cc-24d0-4519-8208-1989af02ddde",
   "metadata": {
    "colab": {
     "base_uri": "https://localhost:8080/"
    },
    "id": "282be3cc-24d0-4519-8208-1989af02ddde",
    "outputId": "d51858ff-c354-4c4b-d12d-ca8a662cc488"
   },
   "outputs": [
    {
     "data": {
      "text/plain": [
       "{'min_samples_split': 205,\n",
       " 'min_samples_leaf': 25,\n",
       " 'min_impurity_decrease': 0.0009,\n",
       " 'max_leaf_nodes': 1828,\n",
       " 'max_depth': 337,\n",
       " 'criterion': 'gini'}"
      ]
     },
     "execution_count": 142,
     "metadata": {},
     "output_type": "execute_result"
    }
   ],
   "source": [
    "random_search_best_params"
   ]
  },
  {
   "cell_type": "code",
   "execution_count": 144,
   "id": "5W4ZpnckS8BX",
   "metadata": {
    "id": "5W4ZpnckS8BX"
   },
   "outputs": [],
   "source": [
    "plus_minus = 10 # change this to 10-15 when doing a final run. this current value is for testing\n",
    "increment = 2\n",
    "\n",
    "\n",
    "param_grid = {\n",
    "    'max_depth': [327,331,335,339,343,347], \n",
    "    'min_samples_split': [195,199,203,207,211,215],\n",
    "    'min_samples_leaf' : [15,19,23,27,31,35],\n",
    "    'min_impurity_decrease': [0, 0.0005, 0.001, 0.005, 0.01],\n",
    "    'max_leaf_nodes' : [1818,1822,1826,1830,1834,1838],\n",
    "    'criterion':['gini']\n",
    "}\n",
    "\n",
    "best_grid_search_model = GridSearchCV(estimator=DecisionTreeClassifier(random_state=random_seed), \n",
    "                                    scoring='accuracy', param_grid=param_grid, cv=10, verbose=0,  n_jobs = -1)\n",
    "best_grid_search_model = best_grid_search_model.fit(train_X, train_y)"
   ]
  },
  {
   "cell_type": "code",
   "execution_count": 145,
   "id": "4f0adfcc-9212-4427-9e6a-e44c69bad159",
   "metadata": {
    "colab": {
     "base_uri": "https://localhost:8080/"
    },
    "id": "4f0adfcc-9212-4427-9e6a-e44c69bad159",
    "outputId": "a0c90ed6-d410-4683-bc22-5b50796174ae"
   },
   "outputs": [
    {
     "name": "stdout",
     "output_type": "stream",
     "text": [
      "Best parameters found:  {'criterion': 'gini', 'max_depth': 327, 'max_leaf_nodes': 1818, 'min_impurity_decrease': 0, 'min_samples_leaf': 35, 'min_samples_split': 215}\n"
     ]
    }
   ],
   "source": [
    "print('Best parameters found: ', best_grid_search_model.best_params_)"
   ]
  },
  {
   "cell_type": "code",
   "execution_count": 146,
   "id": "a06212d6-d090-4396-82f6-8b87e5c05e7b",
   "metadata": {
    "colab": {
     "base_uri": "https://localhost:8080/"
    },
    "id": "a06212d6-d090-4396-82f6-8b87e5c05e7b",
    "outputId": "433f99c0-1ced-4d54-8acd-1a1d2434f0c2"
   },
   "outputs": [
    {
     "name": "stdout",
     "output_type": "stream",
     "text": [
      "************************************\n",
      "Accuracy Score:   0.5208591491119372\n"
     ]
    }
   ],
   "source": [
    "y_pred = best_grid_search_model.predict(valid_X)\n",
    "print(\"************************************\")\n",
    "print(f\"{'Accuracy Score: ':18}{accuracy_score(y_test, y_pred)}\")\n"
   ]
  },
  {
   "cell_type": "markdown",
   "id": "6y_1aAcS15ew",
   "metadata": {
    "id": "6y_1aAcS15ew"
   },
   "source": [
    "Based on the above two searches for Decision Tree, we have more accuracy on random search model(52.20) than grid search(52.08%) by 0.18%   "
   ]
  },
  {
   "cell_type": "code",
   "execution_count": 147,
   "id": "eabb9823-2ffe-41c4-aa74-c0f1878aa1aa",
   "metadata": {
    "id": "eabb9823-2ffe-41c4-aa74-c0f1878aa1aa"
   },
   "outputs": [],
   "source": [
    "random_seed = 1\n",
    "np.random.seed(random_seed)"
   ]
  },
  {
   "cell_type": "markdown",
   "id": "5ef4260f-258a-4b27-829f-fc3d64ae5267",
   "metadata": {
    "id": "5ef4260f-258a-4b27-829f-fc3d64ae5267"
   },
   "source": [
    "## Step9: Hyperparamater Tuning with Random Forest"
   ]
  },
  {
   "cell_type": "code",
   "execution_count": null,
   "id": "Glx4C5Rlm6Z1",
   "metadata": {
    "id": "Glx4C5Rlm6Z1"
   },
   "outputs": [],
   "source": [
    "# Number of trees in Random Forest\n",
    "rf_n_estimators = [int(x) for x in np.linspace(200, 1000, 5)]\n",
    "rf_n_estimators.append(1500)\n",
    "rf_n_estimators.append(2000)\n",
    "\n",
    "# Maximum number of levels in tree\n",
    "rf_max_depth = [5,16,27,38,49,60]\n",
    "# Add the default as a possible value\n",
    "rf_max_depth.append(None)\n",
    "\n",
    "# Number of features to consider at every split\n",
    "rf_max_features = ['auto', 'sqrt', 'log2']\n",
    "\n",
    "# Criterion to split on\n",
    "rf_criterion = ['mse', 'mae']\n",
    "\n",
    "# Minimum number of samples required to split a node\n",
    "rf_min_samples_split = [2,5,7,9,11,14,17,21]\n",
    "\n",
    "# Minimum decrease in impurity required for split to happen\n",
    "rf_min_impurity_decrease = [0.0, 0.05, 0.1]\n",
    "\n",
    "# Method of selecting samples for training each tree\n",
    "rf_bootstrap = [True, False]\n",
    "\n",
    "# Create the grid\n",
    "rf_grid = {    'n_estimators': rf_n_estimators,\n",
    "               'max_depth': rf_max_depth,\n",
    "               'max_features': rf_max_features,\n",
    "               'criterion': rf_criterion,\n",
    "               'min_samples_split': rf_min_samples_split,\n",
    "               'min_impurity_decrease': rf_min_impurity_decrease,\n",
    "               'bootstrap': rf_bootstrap}\n",
    "\n",
    "best_grid_search_model = GridSearchCV(estimator=RandomForestClassifier(random_state=random_seed), \n",
    "                                    scoring='accuracy', param_grid=param_grid, cv=10, verbose=0,  n_jobs = -1)\n",
    "best_grid_search_model = best_grid_search_model.fit(train_X, train_y)"
   ]
  },
  {
   "cell_type": "code",
   "execution_count": 149,
   "id": "decc384a-3a7a-47ea-bc4d-944ba0d2cdee",
   "metadata": {
    "id": "decc384a-3a7a-47ea-bc4d-944ba0d2cdee"
   },
   "outputs": [],
   "source": [
    "dtree_default = RandomForestClassifier(random_state=random_seed)\n",
    "# change n_iter to 200_000 for full run\n",
    "best_random_search_model = RandomizedSearchCV(\n",
    "        estimator=RandomForestClassifier(random_state=random_seed), \n",
    "        scoring='accuracy', \n",
    "        param_distributions=param_grid_random, \n",
    "        n_iter = 5_000, \n",
    "        cv=10, \n",
    "        verbose=0, \n",
    "        n_jobs = -1\n",
    "    )\n",
    "best_random_search_model = best_random_search_model.fit(train_X, train_y)"
   ]
  },
  {
   "cell_type": "code",
   "execution_count": 150,
   "id": "0f5685c4-eb82-4a81-8ade-dc6b99187caf",
   "metadata": {
    "colab": {
     "base_uri": "https://localhost:8080/"
    },
    "id": "0f5685c4-eb82-4a81-8ade-dc6b99187caf",
    "outputId": "2851bc8e-345a-40d8-b9d5-e4f40f19ff12"
   },
   "outputs": [
    {
     "name": "stdout",
     "output_type": "stream",
     "text": [
      "Best parameters found:  {'min_samples_split': 22, 'min_samples_leaf': 11, 'min_impurity_decrease': 0.0006, 'max_leaf_nodes': 643, 'max_depth': 51, 'criterion': 'entropy'}\n"
     ]
    }
   ],
   "source": [
    "random_search_best_params = best_random_search_model.best_params_\n",
    "print('Best parameters found: ', random_search_best_params)"
   ]
  },
  {
   "cell_type": "code",
   "execution_count": 151,
   "id": "c006e6aa-5452-439a-a684-2d8d57998926",
   "metadata": {
    "colab": {
     "base_uri": "https://localhost:8080/"
    },
    "id": "c006e6aa-5452-439a-a684-2d8d57998926",
    "outputId": "29874427-45a4-4bb4-fa45-6486bff7f548"
   },
   "outputs": [
    {
     "name": "stdout",
     "output_type": "stream",
     "text": [
      "************************************\n",
      "Accuracy Score:   0.5415117719950434\n"
     ]
    }
   ],
   "source": [
    "y_pred = best_random_search_model.predict(valid_X)\n",
    "print(\"************************************\")\n",
    "print(f\"{'Accuracy Score: ':18}{accuracy_score(y_test, y_pred)}\")"
   ]
  },
  {
   "cell_type": "code",
   "execution_count": 153,
   "id": "v6BvnwzAgQLE",
   "metadata": {
    "id": "v6BvnwzAgQLE"
   },
   "outputs": [],
   "source": [
    "plus_minus = 10 # change this to 10-15 when doing a final run. this current value is for testing\n",
    "increment = 2\n",
    "\n",
    "\n",
    "param_grid = {\n",
    "    'max_depth': [41,45,49,53,57,61], \n",
    "    'min_samples_split': [12,16,20,24,28,32],\n",
    "    'min_samples_leaf' : [1,5,9,13,17,21],\n",
    "    'min_impurity_decrease': [0, 0.0005, 0.001, 0.005, 0.01],\n",
    "    'max_leaf_nodes' : [633,637,641,645,649,653],\n",
    "    'criterion':['entropy']\n",
    "}\n",
    "\n",
    "best_grid_search_model = GridSearchCV(estimator=DecisionTreeClassifier(random_state=random_seed), \n",
    "                                    scoring='accuracy', param_grid=param_grid, cv=10, verbose=0,  n_jobs = -1)\n",
    "best_grid_search_model = best_grid_search_model.fit(train_X, train_y)"
   ]
  },
  {
   "cell_type": "code",
   "execution_count": 154,
   "id": "Hg_xnZnugnIT",
   "metadata": {
    "colab": {
     "base_uri": "https://localhost:8080/"
    },
    "id": "Hg_xnZnugnIT",
    "outputId": "89858aa1-8368-4589-fe67-e8f5a67e827e"
   },
   "outputs": [
    {
     "name": "stdout",
     "output_type": "stream",
     "text": [
      "Best parameters found:  {'criterion': 'entropy', 'max_depth': 41, 'max_leaf_nodes': 633, 'min_impurity_decrease': 0.005, 'min_samples_leaf': 1, 'min_samples_split': 12}\n"
     ]
    }
   ],
   "source": [
    "print('Best parameters found: ', best_grid_search_model.best_params_)"
   ]
  },
  {
   "cell_type": "code",
   "execution_count": 155,
   "id": "kVvG710rgwTo",
   "metadata": {
    "colab": {
     "base_uri": "https://localhost:8080/"
    },
    "id": "kVvG710rgwTo",
    "outputId": "dd9d2202-0555-4240-9666-039feb1ca32f"
   },
   "outputs": [
    {
     "name": "stdout",
     "output_type": "stream",
     "text": [
      "************************************\n",
      "Accuracy Score:   0.5249896736885584\n"
     ]
    }
   ],
   "source": [
    "y_pred = best_grid_search_model.predict(valid_X)\n",
    "print(\"************************************\")\n",
    "print(f\"{'Accuracy Score: ':18}{accuracy_score(y_test, y_pred)}\")"
   ]
  },
  {
   "cell_type": "markdown",
   "id": "ruGtHqJS1aa7",
   "metadata": {
    "id": "ruGtHqJS1aa7"
   },
   "source": [
    "**For Random Forest, we got more accuracy in random search model with 54.15% than grid search model which has an accuracy of 52.49**"
   ]
  },
  {
   "cell_type": "markdown",
   "id": "aZix5-3cda4b",
   "metadata": {
    "id": "aZix5-3cda4b"
   },
   "source": [
    "## Step10: Hyperparamater Tuning with ADA BOOST"
   ]
  },
  {
   "cell_type": "code",
   "execution_count": null,
   "id": "-SvrofmgeCej",
   "metadata": {
    "id": "-SvrofmgeCej"
   },
   "outputs": [],
   "source": []
  },
  {
   "cell_type": "code",
   "execution_count": null,
   "id": "P8Q34TMPeCRT",
   "metadata": {
    "id": "P8Q34TMPeCRT"
   },
   "outputs": [],
   "source": [
    "# create the training set and the test set \n",
    "train_X, valid_X, train_y, y_test = train_test_split(X,y, test_size=0.3, random_state=1)"
   ]
  },
  {
   "cell_type": "code",
   "execution_count": 156,
   "id": "42ef480f-87de-4f8a-b3d6-9b5aec869bfd",
   "metadata": {
    "id": "42ef480f-87de-4f8a-b3d6-9b5aec869bfd"
   },
   "outputs": [],
   "source": [
    "grid = dict()\n",
    "grid['n_estimators'] = [45,46,47,48,49,50,51,52,53,54,55]\n",
    "grid['learning_rate'] =  [0.0001, 0.001, 0.01, 0.1, 1.0]\n",
    "grid['algorithm'] = ['SAMME', 'SAMME.R']\n",
    "\n",
    "# define the evaluation procedure\n",
    "cv = RepeatedStratifiedKFold(n_splits=10, n_repeats=3, random_state=1)\n",
    "\n",
    "# define the grid search procedure\n",
    "best_random_search_model = GridSearchCV(estimator=AdaBoostClassifier(), param_grid=grid, n_jobs=-1, cv=cv, scoring='accuracy')\n",
    "best_random_search_model = best_random_search_model.fit(train_X, train_y)"
   ]
  },
  {
   "cell_type": "code",
   "execution_count": 157,
   "id": "99a8ad60-ae9b-49bd-8d24-4f18309f5e47",
   "metadata": {
    "colab": {
     "base_uri": "https://localhost:8080/"
    },
    "id": "99a8ad60-ae9b-49bd-8d24-4f18309f5e47",
    "outputId": "59378311-7622-4d46-a464-2eeca613a4e7"
   },
   "outputs": [
    {
     "name": "stdout",
     "output_type": "stream",
     "text": [
      "Best parameters found:  {'criterion': 'entropy', 'max_depth': 41, 'max_leaf_nodes': 633, 'min_impurity_decrease': 0.005, 'min_samples_leaf': 1, 'min_samples_split': 12}\n"
     ]
    }
   ],
   "source": [
    "print('Best parameters found: ', best_grid_search_model.best_params_)"
   ]
  },
  {
   "cell_type": "code",
   "execution_count": 158,
   "id": "a8ad0acb-c860-4c8e-8e76-8d4aa5bea0c9",
   "metadata": {
    "colab": {
     "base_uri": "https://localhost:8080/"
    },
    "id": "a8ad0acb-c860-4c8e-8e76-8d4aa5bea0c9",
    "outputId": "c05d1e7d-9e5c-4e11-be45-cb22f67c66c9"
   },
   "outputs": [
    {
     "name": "stdout",
     "output_type": "stream",
     "text": [
      "************************************\n",
      "Accuracy Score:   0.5249896736885584\n"
     ]
    }
   ],
   "source": [
    "y_pred = best_grid_search_model.predict(valid_X)\n",
    "print(\"************************************\")\n",
    "print(f\"{'Accuracy Score: ':18}{accuracy_score(y_test, y_pred)}\")\n"
   ]
  },
  {
   "cell_type": "code",
   "execution_count": 164,
   "id": "7264422d-5fcc-4b28-b6ad-437d685349c6",
   "metadata": {
    "colab": {
     "base_uri": "https://localhost:8080/",
     "height": 269
    },
    "id": "7264422d-5fcc-4b28-b6ad-437d685349c6",
    "outputId": "946869b3-461c-4a1f-c872-1e36dbcc3e6b"
   },
   "outputs": [
    {
     "data": {
      "text/html": [
       "\n",
       "  <div id=\"df-e7720ad9-7180-4e07-ae0b-3b2731fc7d33\">\n",
       "    <div class=\"colab-df-container\">\n",
       "      <div>\n",
       "<style scoped>\n",
       "    .dataframe tbody tr th:only-of-type {\n",
       "        vertical-align: middle;\n",
       "    }\n",
       "\n",
       "    .dataframe tbody tr th {\n",
       "        vertical-align: top;\n",
       "    }\n",
       "\n",
       "    .dataframe thead th {\n",
       "        text-align: right;\n",
       "    }\n",
       "</style>\n",
       "<table border=\"1\" class=\"dataframe\">\n",
       "  <thead>\n",
       "    <tr style=\"text-align: right;\">\n",
       "      <th></th>\n",
       "      <th>precision</th>\n",
       "      <th>recall</th>\n",
       "      <th>f1-score</th>\n",
       "      <th>support</th>\n",
       "    </tr>\n",
       "  </thead>\n",
       "  <tbody>\n",
       "    <tr>\n",
       "      <th>0</th>\n",
       "      <td>0.508121</td>\n",
       "      <td>0.368687</td>\n",
       "      <td>0.427317</td>\n",
       "      <td>594.00000</td>\n",
       "    </tr>\n",
       "    <tr>\n",
       "      <th>1</th>\n",
       "      <td>0.358121</td>\n",
       "      <td>0.336397</td>\n",
       "      <td>0.346919</td>\n",
       "      <td>544.00000</td>\n",
       "    </tr>\n",
       "    <tr>\n",
       "      <th>2</th>\n",
       "      <td>0.552326</td>\n",
       "      <td>0.626030</td>\n",
       "      <td>0.586873</td>\n",
       "      <td>607.00000</td>\n",
       "    </tr>\n",
       "    <tr>\n",
       "      <th>3</th>\n",
       "      <td>0.618205</td>\n",
       "      <td>0.723373</td>\n",
       "      <td>0.666667</td>\n",
       "      <td>676.00000</td>\n",
       "    </tr>\n",
       "    <tr>\n",
       "      <th>accuracy</th>\n",
       "      <td>0.524990</td>\n",
       "      <td>0.524990</td>\n",
       "      <td>0.524990</td>\n",
       "      <td>0.52499</td>\n",
       "    </tr>\n",
       "    <tr>\n",
       "      <th>macro avg</th>\n",
       "      <td>0.509193</td>\n",
       "      <td>0.513622</td>\n",
       "      <td>0.506944</td>\n",
       "      <td>2421.00000</td>\n",
       "    </tr>\n",
       "    <tr>\n",
       "      <th>weighted avg</th>\n",
       "      <td>0.516237</td>\n",
       "      <td>0.524990</td>\n",
       "      <td>0.516088</td>\n",
       "      <td>2421.00000</td>\n",
       "    </tr>\n",
       "  </tbody>\n",
       "</table>\n",
       "</div>\n",
       "      <button class=\"colab-df-convert\" onclick=\"convertToInteractive('df-e7720ad9-7180-4e07-ae0b-3b2731fc7d33')\"\n",
       "              title=\"Convert this dataframe to an interactive table.\"\n",
       "              style=\"display:none;\">\n",
       "        \n",
       "  <svg xmlns=\"http://www.w3.org/2000/svg\" height=\"24px\"viewBox=\"0 0 24 24\"\n",
       "       width=\"24px\">\n",
       "    <path d=\"M0 0h24v24H0V0z\" fill=\"none\"/>\n",
       "    <path d=\"M18.56 5.44l.94 2.06.94-2.06 2.06-.94-2.06-.94-.94-2.06-.94 2.06-2.06.94zm-11 1L8.5 8.5l.94-2.06 2.06-.94-2.06-.94L8.5 2.5l-.94 2.06-2.06.94zm10 10l.94 2.06.94-2.06 2.06-.94-2.06-.94-.94-2.06-.94 2.06-2.06.94z\"/><path d=\"M17.41 7.96l-1.37-1.37c-.4-.4-.92-.59-1.43-.59-.52 0-1.04.2-1.43.59L10.3 9.45l-7.72 7.72c-.78.78-.78 2.05 0 2.83L4 21.41c.39.39.9.59 1.41.59.51 0 1.02-.2 1.41-.59l7.78-7.78 2.81-2.81c.8-.78.8-2.07 0-2.86zM5.41 20L4 18.59l7.72-7.72 1.47 1.35L5.41 20z\"/>\n",
       "  </svg>\n",
       "      </button>\n",
       "      \n",
       "  <style>\n",
       "    .colab-df-container {\n",
       "      display:flex;\n",
       "      flex-wrap:wrap;\n",
       "      gap: 12px;\n",
       "    }\n",
       "\n",
       "    .colab-df-convert {\n",
       "      background-color: #E8F0FE;\n",
       "      border: none;\n",
       "      border-radius: 50%;\n",
       "      cursor: pointer;\n",
       "      display: none;\n",
       "      fill: #1967D2;\n",
       "      height: 32px;\n",
       "      padding: 0 0 0 0;\n",
       "      width: 32px;\n",
       "    }\n",
       "\n",
       "    .colab-df-convert:hover {\n",
       "      background-color: #E2EBFA;\n",
       "      box-shadow: 0px 1px 2px rgba(60, 64, 67, 0.3), 0px 1px 3px 1px rgba(60, 64, 67, 0.15);\n",
       "      fill: #174EA6;\n",
       "    }\n",
       "\n",
       "    [theme=dark] .colab-df-convert {\n",
       "      background-color: #3B4455;\n",
       "      fill: #D2E3FC;\n",
       "    }\n",
       "\n",
       "    [theme=dark] .colab-df-convert:hover {\n",
       "      background-color: #434B5C;\n",
       "      box-shadow: 0px 1px 3px 1px rgba(0, 0, 0, 0.15);\n",
       "      filter: drop-shadow(0px 1px 2px rgba(0, 0, 0, 0.3));\n",
       "      fill: #FFFFFF;\n",
       "    }\n",
       "  </style>\n",
       "\n",
       "      <script>\n",
       "        const buttonEl =\n",
       "          document.querySelector('#df-e7720ad9-7180-4e07-ae0b-3b2731fc7d33 button.colab-df-convert');\n",
       "        buttonEl.style.display =\n",
       "          google.colab.kernel.accessAllowed ? 'block' : 'none';\n",
       "\n",
       "        async function convertToInteractive(key) {\n",
       "          const element = document.querySelector('#df-e7720ad9-7180-4e07-ae0b-3b2731fc7d33');\n",
       "          const dataTable =\n",
       "            await google.colab.kernel.invokeFunction('convertToInteractive',\n",
       "                                                     [key], {});\n",
       "          if (!dataTable) return;\n",
       "\n",
       "          const docLinkHtml = 'Like what you see? Visit the ' +\n",
       "            '<a target=\"_blank\" href=https://colab.research.google.com/notebooks/data_table.ipynb>data table notebook</a>'\n",
       "            + ' to learn more about interactive tables.';\n",
       "          element.innerHTML = '';\n",
       "          dataTable['output_type'] = 'display_data';\n",
       "          await google.colab.output.renderOutput(dataTable, element);\n",
       "          const docLink = document.createElement('div');\n",
       "          docLink.innerHTML = docLinkHtml;\n",
       "          element.appendChild(docLink);\n",
       "        }\n",
       "      </script>\n",
       "    </div>\n",
       "  </div>\n",
       "  "
      ],
      "text/plain": [
       "              precision    recall  f1-score     support\n",
       "0              0.508121  0.368687  0.427317   594.00000\n",
       "1              0.358121  0.336397  0.346919   544.00000\n",
       "2              0.552326  0.626030  0.586873   607.00000\n",
       "3              0.618205  0.723373  0.666667   676.00000\n",
       "accuracy       0.524990  0.524990  0.524990     0.52499\n",
       "macro avg      0.509193  0.513622  0.506944  2421.00000\n",
       "weighted avg   0.516237  0.524990  0.516088  2421.00000"
      ]
     },
     "execution_count": 164,
     "metadata": {},
     "output_type": "execute_result"
    }
   ],
   "source": [
    "ada_hypreport = classification_report(y_test,y_pred,output_dict=True)\n",
    "ada_df2 = pd.DataFrame(ada_hypreport).transpose()\n",
    "ada_df2"
   ]
  },
  {
   "cell_type": "code",
   "execution_count": 165,
   "id": "e54409b4-aede-46ef-98be-b56edc2176b7",
   "metadata": {
    "colab": {
     "base_uri": "https://localhost:8080/",
     "height": 295
    },
    "id": "e54409b4-aede-46ef-98be-b56edc2176b7",
    "outputId": "774f91ac-d634-4a7a-e2ba-d8bffdbe884e"
   },
   "outputs": [
    {
     "data": {
      "image/png": "[encoded data removed]",
      "text/plain": [
       "<Figure size 576x288 with 2 Axes>"
      ]
     },
     "metadata": {
      "needs_background": "light"
     },
     "output_type": "display_data"
    }
   ],
   "source": [
    "# Creating  a confusion matrix,which compares the y_test and y_pred\n",
    "cm = confusion_matrix(y_test, y_pred)\n",
    "# Creating a dataframe for a array-formatted Confusion matrix,so it will be easy for plotting.\n",
    "cm_df = pd.DataFrame(cm, index = ['A','B','C','D'], columns = ['A','B','C','D'])\n",
    "\n",
    "#Plotting the confusion matrix\n",
    "plt.figure(figsize=(8,4))\n",
    "sns.heatmap(cm_df, annot=True,cbar=True, fmt='g')\n",
    "\n",
    "plt.xlabel('Predicted Values')\n",
    "plt.ylabel('Actual Values')\n",
    "plt.title('Confusion Matrix')\n",
    "plt.show()"
   ]
  },
  {
   "cell_type": "markdown",
   "id": "d871214c-836c-4bb4-9321-f8a5bb186309",
   "metadata": {
    "id": "d871214c-836c-4bb4-9321-f8a5bb186309"
   },
   "source": [
    "## Step10: Hyperparamater Tuning with Gradient Boosting Classifier"
   ]
  },
  {
   "cell_type": "code",
   "execution_count": null,
   "id": "3euwMaednbzs",
   "metadata": {
    "id": "3euwMaednbzs"
   },
   "outputs": [],
   "source": [
    "# create the training set and the test set \n",
    "#train_X, valid_X, train_y, y_test = train_test_split(X,y, test_size=0.3, random_state=1)"
   ]
  },
  {
   "cell_type": "code",
   "execution_count": 171,
   "id": "x60En9hepyps",
   "metadata": {
    "id": "x60En9hepyps"
   },
   "outputs": [],
   "source": [
    "learning_rate =  [0.001, 0.01, 0.1, 1.0]\n",
    "\n",
    "n_estimators = [10,20,50,100]\n",
    "\n",
    "criterion = ['friedman_mse', 'squared_error', 'mse']\n",
    "\n",
    "# Minimum number of samples required to split a node\n",
    "# default is 2\n",
    "min_samples_split = [2,52,72,102,152,202,252,302,352,402,452]\n",
    "\n",
    "# Minimum number of samples required at each leaf node\n",
    "# default = 1 \n",
    "min_samples_leaf = [2,5,7,11,17,23,27,31,37,43,47]\n",
    "\n",
    "# Maximum number of levels in tree. If None, then nodes are expanded until all leaves are pure or until all \n",
    "# leaves contain less than min_samples_split samples.\n",
    "# default = None\n",
    "max_depth = [1,10,20,50,90,120,150,200,240,300,340,400,460,500]\n",
    "\n",
    "# min_impurity_decrease - A node will be split if this split induces a decrease of the impurity greater than or equal to this value.\n",
    "# default=0.0\n",
    "min_impurity_decrease = [0.0, 0.01, 0.0001]\n",
    "\n",
    "# max_leaf_nodes  - Grow trees with max_leaf_nodes in best-first fashion.\n",
    "# If None then unlimited number of leaf nodes.\n",
    "# default=None \n",
    "max_leaf_nodes = [2,10,20,30,50,80,100,150]\n",
    "\n",
    "# Create the random grid\n",
    "param_grid_random = {\n",
    "                      'learning_rate': learning_rate,\n",
    "                      'n_estimators': n_estimators,\n",
    "                      'criterion': criterion,\n",
    "                      'min_samples_split': min_samples_split,\n",
    "                      'min_samples_leaf': min_samples_leaf,\n",
    "                       'max_depth': max_depth,\n",
    "                     'min_impurity_decrease' : min_impurity_decrease,\n",
    "                      'max_leaf_nodes' : max_leaf_nodes }"
   ]
  },
  {
   "cell_type": "code",
   "execution_count": 204,
   "id": "FvVZga49-dem",
   "metadata": {
    "id": "FvVZga49-dem"
   },
   "outputs": [],
   "source": [
    "learning_rate =  [0.01, 0.1, 1.0]\n",
    "\n",
    "n_estimators = [10,20,50]\n",
    "\n",
    "criterion = ['friedman_mse', 'mse']\n",
    "\n",
    "# Minimum number of samples required to split a node\n",
    "# default is 2\n",
    "min_samples_split = [10,20,30]\n",
    "\n",
    "# Minimum number of samples required at each leaf node\n",
    "# default = 1 \n",
    "min_samples_leaf = [2,5,7,11]\n",
    "\n",
    "# Maximum number of levels in tree. If None, then nodes are expanded until all leaves are pure or until all \n",
    "# leaves contain less than min_samples_split samples.\n",
    "# default = None\n",
    "max_depth = [10,90,150]\n",
    "\n",
    "# min_impurity_decrease - A node will be split if this split induces a decrease of the impurity greater than or equal to this value.\n",
    "# default=0.0\n",
    "min_impurity_decrease = [0.0, 0.01, 0.001]\n",
    "\n",
    "# max_leaf_nodes  - Grow trees with max_leaf_nodes in best-first fashion.\n",
    "# If None then unlimited number of leaf nodes.\n",
    "# default=None \n",
    "max_leaf_nodes = [2,10,20]\n",
    "\n",
    "# Create the random grid\n",
    "param_grid_random = {\n",
    "                      'n_estimators': n_estimators,\n",
    "                      'criterion': criterion,\n",
    "                      'min_samples_split': min_samples_split,\n",
    "                      'min_samples_leaf': min_samples_leaf,\n",
    "                       'max_depth': max_depth,\n",
    "                     'min_impurity_decrease' : min_impurity_decrease,\n",
    "                      'max_leaf_nodes' : max_leaf_nodes }"
   ]
  },
  {
   "cell_type": "code",
   "execution_count": 205,
   "id": "odOIw6SowHo5",
   "metadata": {
    "id": "odOIw6SowHo5"
   },
   "outputs": [],
   "source": [
    "best_grid_search_model = GridSearchCV(estimator=GradientBoostingClassifier(random_state=random_seed), \n",
    "                                    scoring='accuracy', param_grid=param_grid_random, cv=10, verbose=0,  n_jobs = -1)\n",
    "best_grid_search_model = best_grid_search_model.fit(train_X, train_y)"
   ]
  },
  {
   "cell_type": "code",
   "execution_count": 206,
   "id": "0b3b31f3-ccbe-46a7-99c9-3e2482b12f64",
   "metadata": {
    "colab": {
     "base_uri": "https://localhost:8080/"
    },
    "id": "0b3b31f3-ccbe-46a7-99c9-3e2482b12f64",
    "outputId": "9e58c9cb-8339-46cb-9b94-c5939142d443"
   },
   "outputs": [
    {
     "name": "stdout",
     "output_type": "stream",
     "text": [
      "Best parameters found:  {'criterion': 'friedman_mse', 'max_depth': 10, 'max_leaf_nodes': 20, 'min_impurity_decrease': 0.0, 'min_samples_leaf': 7, 'min_samples_split': 30, 'n_estimators': 50}\n"
     ]
    }
   ],
   "source": [
    "print('Best parameters found: ', best_grid_search_model.best_params_)"
   ]
  },
  {
   "cell_type": "code",
   "execution_count": 207,
   "id": "68232dec-52df-494b-9d06-adc92cabe5d2",
   "metadata": {
    "colab": {
     "base_uri": "https://localhost:8080/"
    },
    "id": "68232dec-52df-494b-9d06-adc92cabe5d2",
    "outputId": "969e27a8-955b-4a0b-a322-31953ce20df4"
   },
   "outputs": [
    {
     "name": "stdout",
     "output_type": "stream",
     "text": [
      "************************************\n",
      "Accuracy Score:   0.5439900867410161\n"
     ]
    }
   ],
   "source": [
    "y_pred = best_grid_search_model.predict(valid_X)\n",
    "print(\"************************************\")\n",
    "print(f\"{'Accuracy Score: ':18}{accuracy_score(y_test, y_pred)}\")\n"
   ]
  },
  {
   "cell_type": "code",
   "execution_count": 208,
   "id": "HLrpp3lcRGgq",
   "metadata": {
    "colab": {
     "base_uri": "https://localhost:8080/",
     "height": 269
    },
    "id": "HLrpp3lcRGgq",
    "outputId": "38097327-7814-4f7d-d474-76d59e99530e"
   },
   "outputs": [
    {
     "data": {
      "text/html": [
       "\n",
       "  <div id=\"df-524deac7-27fe-4aa0-bada-b417941f8e19\">\n",
       "    <div class=\"colab-df-container\">\n",
       "      <div>\n",
       "<style scoped>\n",
       "    .dataframe tbody tr th:only-of-type {\n",
       "        vertical-align: middle;\n",
       "    }\n",
       "\n",
       "    .dataframe tbody tr th {\n",
       "        vertical-align: top;\n",
       "    }\n",
       "\n",
       "    .dataframe thead th {\n",
       "        text-align: right;\n",
       "    }\n",
       "</style>\n",
       "<table border=\"1\" class=\"dataframe\">\n",
       "  <thead>\n",
       "    <tr style=\"text-align: right;\">\n",
       "      <th></th>\n",
       "      <th>precision</th>\n",
       "      <th>recall</th>\n",
       "      <th>f1-score</th>\n",
       "      <th>support</th>\n",
       "    </tr>\n",
       "  </thead>\n",
       "  <tbody>\n",
       "    <tr>\n",
       "      <th>0</th>\n",
       "      <td>0.458466</td>\n",
       "      <td>0.483165</td>\n",
       "      <td>0.470492</td>\n",
       "      <td>594.00000</td>\n",
       "    </tr>\n",
       "    <tr>\n",
       "      <th>1</th>\n",
       "      <td>0.400835</td>\n",
       "      <td>0.352941</td>\n",
       "      <td>0.375367</td>\n",
       "      <td>544.00000</td>\n",
       "    </tr>\n",
       "    <tr>\n",
       "      <th>2</th>\n",
       "      <td>0.620451</td>\n",
       "      <td>0.589786</td>\n",
       "      <td>0.604730</td>\n",
       "      <td>607.00000</td>\n",
       "    </tr>\n",
       "    <tr>\n",
       "      <th>3</th>\n",
       "      <td>0.649526</td>\n",
       "      <td>0.710059</td>\n",
       "      <td>0.678445</td>\n",
       "      <td>676.00000</td>\n",
       "    </tr>\n",
       "    <tr>\n",
       "      <th>accuracy</th>\n",
       "      <td>0.543990</td>\n",
       "      <td>0.543990</td>\n",
       "      <td>0.543990</td>\n",
       "      <td>0.54399</td>\n",
       "    </tr>\n",
       "    <tr>\n",
       "      <th>macro avg</th>\n",
       "      <td>0.532320</td>\n",
       "      <td>0.533988</td>\n",
       "      <td>0.532258</td>\n",
       "      <td>2421.00000</td>\n",
       "    </tr>\n",
       "    <tr>\n",
       "      <th>weighted avg</th>\n",
       "      <td>0.539478</td>\n",
       "      <td>0.543990</td>\n",
       "      <td>0.540839</td>\n",
       "      <td>2421.00000</td>\n",
       "    </tr>\n",
       "  </tbody>\n",
       "</table>\n",
       "</div>\n",
       "      <button class=\"colab-df-convert\" onclick=\"convertToInteractive('df-524deac7-27fe-4aa0-bada-b417941f8e19')\"\n",
       "              title=\"Convert this dataframe to an interactive table.\"\n",
       "              style=\"display:none;\">\n",
       "        \n",
       "  <svg xmlns=\"http://www.w3.org/2000/svg\" height=\"24px\"viewBox=\"0 0 24 24\"\n",
       "       width=\"24px\">\n",
       "    <path d=\"M0 0h24v24H0V0z\" fill=\"none\"/>\n",
       "    <path d=\"M18.56 5.44l.94 2.06.94-2.06 2.06-.94-2.06-.94-.94-2.06-.94 2.06-2.06.94zm-11 1L8.5 8.5l.94-2.06 2.06-.94-2.06-.94L8.5 2.5l-.94 2.06-2.06.94zm10 10l.94 2.06.94-2.06 2.06-.94-2.06-.94-.94-2.06-.94 2.06-2.06.94z\"/><path d=\"M17.41 7.96l-1.37-1.37c-.4-.4-.92-.59-1.43-.59-.52 0-1.04.2-1.43.59L10.3 9.45l-7.72 7.72c-.78.78-.78 2.05 0 2.83L4 21.41c.39.39.9.59 1.41.59.51 0 1.02-.2 1.41-.59l7.78-7.78 2.81-2.81c.8-.78.8-2.07 0-2.86zM5.41 20L4 18.59l7.72-7.72 1.47 1.35L5.41 20z\"/>\n",
       "  </svg>\n",
       "      </button>\n",
       "      \n",
       "  <style>\n",
       "    .colab-df-container {\n",
       "      display:flex;\n",
       "      flex-wrap:wrap;\n",
       "      gap: 12px;\n",
       "    }\n",
       "\n",
       "    .colab-df-convert {\n",
       "      background-color: #E8F0FE;\n",
       "      border: none;\n",
       "      border-radius: 50%;\n",
       "      cursor: pointer;\n",
       "      display: none;\n",
       "      fill: #1967D2;\n",
       "      height: 32px;\n",
       "      padding: 0 0 0 0;\n",
       "      width: 32px;\n",
       "    }\n",
       "\n",
       "    .colab-df-convert:hover {\n",
       "      background-color: #E2EBFA;\n",
       "      box-shadow: 0px 1px 2px rgba(60, 64, 67, 0.3), 0px 1px 3px 1px rgba(60, 64, 67, 0.15);\n",
       "      fill: #174EA6;\n",
       "    }\n",
       "\n",
       "    [theme=dark] .colab-df-convert {\n",
       "      background-color: #3B4455;\n",
       "      fill: #D2E3FC;\n",
       "    }\n",
       "\n",
       "    [theme=dark] .colab-df-convert:hover {\n",
       "      background-color: #434B5C;\n",
       "      box-shadow: 0px 1px 3px 1px rgba(0, 0, 0, 0.15);\n",
       "      filter: drop-shadow(0px 1px 2px rgba(0, 0, 0, 0.3));\n",
       "      fill: #FFFFFF;\n",
       "    }\n",
       "  </style>\n",
       "\n",
       "      <script>\n",
       "        const buttonEl =\n",
       "          document.querySelector('#df-524deac7-27fe-4aa0-bada-b417941f8e19 button.colab-df-convert');\n",
       "        buttonEl.style.display =\n",
       "          google.colab.kernel.accessAllowed ? 'block' : 'none';\n",
       "\n",
       "        async function convertToInteractive(key) {\n",
       "          const element = document.querySelector('#df-524deac7-27fe-4aa0-bada-b417941f8e19');\n",
       "          const dataTable =\n",
       "            await google.colab.kernel.invokeFunction('convertToInteractive',\n",
       "                                                     [key], {});\n",
       "          if (!dataTable) return;\n",
       "\n",
       "          const docLinkHtml = 'Like what you see? Visit the ' +\n",
       "            '<a target=\"_blank\" href=https://colab.research.google.com/notebooks/data_table.ipynb>data table notebook</a>'\n",
       "            + ' to learn more about interactive tables.';\n",
       "          element.innerHTML = '';\n",
       "          dataTable['output_type'] = 'display_data';\n",
       "          await google.colab.output.renderOutput(dataTable, element);\n",
       "          const docLink = document.createElement('div');\n",
       "          docLink.innerHTML = docLinkHtml;\n",
       "          element.appendChild(docLink);\n",
       "        }\n",
       "      </script>\n",
       "    </div>\n",
       "  </div>\n",
       "  "
      ],
      "text/plain": [
       "              precision    recall  f1-score     support\n",
       "0              0.458466  0.483165  0.470492   594.00000\n",
       "1              0.400835  0.352941  0.375367   544.00000\n",
       "2              0.620451  0.589786  0.604730   607.00000\n",
       "3              0.649526  0.710059  0.678445   676.00000\n",
       "accuracy       0.543990  0.543990  0.543990     0.54399\n",
       "macro avg      0.532320  0.533988  0.532258  2421.00000\n",
       "weighted avg   0.539478  0.543990  0.540839  2421.00000"
      ]
     },
     "execution_count": 208,
     "metadata": {},
     "output_type": "execute_result"
    }
   ],
   "source": [
    "ada_hypreport = classification_report(y_test,y_pred,output_dict=True)\n",
    "ada_df2 = pd.DataFrame(ada_hypreport).transpose()\n",
    "ada_df2"
   ]
  },
  {
   "cell_type": "code",
   "execution_count": 209,
   "id": "kOJMX6v3RGcY",
   "metadata": {
    "colab": {
     "base_uri": "https://localhost:8080/",
     "height": 295
    },
    "id": "kOJMX6v3RGcY",
    "outputId": "40d2bf91-2b81-4122-f2c4-6c8affd30a8e"
   },
   "outputs": [
    {
     "data": {
      "image/png": "[encoded data removed]",
      "text/plain": [
       "<Figure size 576x288 with 2 Axes>"
      ]
     },
     "metadata": {
      "needs_background": "light"
     },
     "output_type": "display_data"
    }
   ],
   "source": [
    "# Creating  a confusion matrix,which compares the y_test and y_pred\n",
    "cm = confusion_matrix(y_test, y_pred)\n",
    "# Creating a dataframe for a array-formatted Confusion matrix,so it will be easy for plotting.\n",
    "cm_df = pd.DataFrame(cm, index = ['A','B','C','D'], columns = ['A','B','C','D'])\n",
    "\n",
    "#Plotting the confusion matrix\n",
    "plt.figure(figsize=(8,4))\n",
    "sns.heatmap(cm_df, annot=True,cbar=True, fmt='g')\n",
    "\n",
    "plt.xlabel('Predicted Values')\n",
    "plt.ylabel('Actual Values')\n",
    "plt.title('Confusion Matrix')\n",
    "plt.show()"
   ]
  },
  {
   "cell_type": "markdown",
   "id": "sgFsiBnQyr7Q",
   "metadata": {
    "id": "sgFsiBnQyr7Q"
   },
   "source": [
    "## Step11: Hyperparamater Tuning with XG BOOST CLASSIFIER"
   ]
  },
  {
   "cell_type": "code",
   "execution_count": 188,
   "id": "IWJJlKdByqvR",
   "metadata": {
    "id": "IWJJlKdByqvR"
   },
   "outputs": [],
   "source": [
    "params = {'max_depth': [3, 6, 10],\n",
    "              'learning_rate': [0.01, 0.1],\n",
    "              'subsample': [0.5,0.6,0.8],\n",
    "              'colsample_bytree': [0.5,0.6,0.8],\n",
    "              'colsample_bylevel': [0.5,0.6,0.8],\n",
    "              'n_estimators': [100, 250],\n",
    "              'num_class': [10]\n",
    "              }"
   ]
  },
  {
   "cell_type": "code",
   "execution_count": 189,
   "id": "2LGWkJuZyqrh",
   "metadata": {
    "id": "2LGWkJuZyqrh"
   },
   "outputs": [],
   "source": [
    "best_grid_search_model = GridSearchCV(estimator=XGBClassifier(random_state=random_seed), \n",
    "                                    scoring='accuracy', param_grid=params, cv=10, verbose=0,  n_jobs = -1)\n",
    "best_grid_search_model = best_grid_search_model.fit(train_X, train_y)"
   ]
  },
  {
   "cell_type": "code",
   "execution_count": 192,
   "id": "32ezVl14yqhe",
   "metadata": {
    "colab": {
     "base_uri": "https://localhost:8080/"
    },
    "id": "32ezVl14yqhe",
    "outputId": "e1d30c3a-4d5a-4040-9c7b-8e458a76111a"
   },
   "outputs": [
    {
     "name": "stdout",
     "output_type": "stream",
     "text": [
      "Best parameters found:  {'colsample_bylevel': 0.8, 'colsample_bytree': 0.5, 'learning_rate': 0.01, 'max_depth': 10, 'n_estimators': 250, 'num_class': 10, 'subsample': 0.8}\n"
     ]
    }
   ],
   "source": [
    "print('Best parameters found: ', best_grid_search_model.best_params_)"
   ]
  },
  {
   "cell_type": "code",
   "execution_count": 193,
   "id": "zoxQqGWzFaR9",
   "metadata": {
    "colab": {
     "base_uri": "https://localhost:8080/"
    },
    "id": "zoxQqGWzFaR9",
    "outputId": "4a4a0a91-33d6-45a6-d211-63bbe2389cde"
   },
   "outputs": [
    {
     "name": "stdout",
     "output_type": "stream",
     "text": [
      "************************************\n",
      "Accuracy Score:   0.5477075588599752\n"
     ]
    }
   ],
   "source": [
    "y_pred = best_grid_search_model.predict(valid_X)\n",
    "print(\"************************************\")\n",
    "print(f\"{'Accuracy Score: ':18}{accuracy_score(y_test, y_pred)}\")"
   ]
  },
  {
   "cell_type": "code",
   "execution_count": 196,
   "id": "CKdT0GBNHeeg",
   "metadata": {
    "colab": {
     "base_uri": "https://localhost:8080/",
     "height": 269
    },
    "id": "CKdT0GBNHeeg",
    "outputId": "af7e7cfd-9da7-4240-a738-481b33de5ad0"
   },
   "outputs": [
    {
     "data": {
      "text/html": [
       "\n",
       "  <div id=\"df-4a779646-03a8-4791-b69d-f964725f1e13\">\n",
       "    <div class=\"colab-df-container\">\n",
       "      <div>\n",
       "<style scoped>\n",
       "    .dataframe tbody tr th:only-of-type {\n",
       "        vertical-align: middle;\n",
       "    }\n",
       "\n",
       "    .dataframe tbody tr th {\n",
       "        vertical-align: top;\n",
       "    }\n",
       "\n",
       "    .dataframe thead th {\n",
       "        text-align: right;\n",
       "    }\n",
       "</style>\n",
       "<table border=\"1\" class=\"dataframe\">\n",
       "  <thead>\n",
       "    <tr style=\"text-align: right;\">\n",
       "      <th></th>\n",
       "      <th>precision</th>\n",
       "      <th>recall</th>\n",
       "      <th>f1-score</th>\n",
       "      <th>support</th>\n",
       "    </tr>\n",
       "  </thead>\n",
       "  <tbody>\n",
       "    <tr>\n",
       "      <th>0</th>\n",
       "      <td>0.478261</td>\n",
       "      <td>0.481481</td>\n",
       "      <td>0.479866</td>\n",
       "      <td>594.000000</td>\n",
       "    </tr>\n",
       "    <tr>\n",
       "      <th>1</th>\n",
       "      <td>0.407745</td>\n",
       "      <td>0.329044</td>\n",
       "      <td>0.364191</td>\n",
       "      <td>544.000000</td>\n",
       "    </tr>\n",
       "    <tr>\n",
       "      <th>2</th>\n",
       "      <td>0.608553</td>\n",
       "      <td>0.609555</td>\n",
       "      <td>0.609053</td>\n",
       "      <td>607.000000</td>\n",
       "    </tr>\n",
       "    <tr>\n",
       "      <th>3</th>\n",
       "      <td>0.632732</td>\n",
       "      <td>0.726331</td>\n",
       "      <td>0.676309</td>\n",
       "      <td>676.000000</td>\n",
       "    </tr>\n",
       "    <tr>\n",
       "      <th>accuracy</th>\n",
       "      <td>0.547708</td>\n",
       "      <td>0.547708</td>\n",
       "      <td>0.547708</td>\n",
       "      <td>0.547708</td>\n",
       "    </tr>\n",
       "    <tr>\n",
       "      <th>macro avg</th>\n",
       "      <td>0.531823</td>\n",
       "      <td>0.536603</td>\n",
       "      <td>0.532355</td>\n",
       "      <td>2421.000000</td>\n",
       "    </tr>\n",
       "    <tr>\n",
       "      <th>weighted avg</th>\n",
       "      <td>0.538215</td>\n",
       "      <td>0.547708</td>\n",
       "      <td>0.541115</td>\n",
       "      <td>2421.000000</td>\n",
       "    </tr>\n",
       "  </tbody>\n",
       "</table>\n",
       "</div>\n",
       "      <button class=\"colab-df-convert\" onclick=\"convertToInteractive('df-4a779646-03a8-4791-b69d-f964725f1e13')\"\n",
       "              title=\"Convert this dataframe to an interactive table.\"\n",
       "              style=\"display:none;\">\n",
       "        \n",
       "  <svg xmlns=\"http://www.w3.org/2000/svg\" height=\"24px\"viewBox=\"0 0 24 24\"\n",
       "       width=\"24px\">\n",
       "    <path d=\"M0 0h24v24H0V0z\" fill=\"none\"/>\n",
       "    <path d=\"M18.56 5.44l.94 2.06.94-2.06 2.06-.94-2.06-.94-.94-2.06-.94 2.06-2.06.94zm-11 1L8.5 8.5l.94-2.06 2.06-.94-2.06-.94L8.5 2.5l-.94 2.06-2.06.94zm10 10l.94 2.06.94-2.06 2.06-.94-2.06-.94-.94-2.06-.94 2.06-2.06.94z\"/><path d=\"M17.41 7.96l-1.37-1.37c-.4-.4-.92-.59-1.43-.59-.52 0-1.04.2-1.43.59L10.3 9.45l-7.72 7.72c-.78.78-.78 2.05 0 2.83L4 21.41c.39.39.9.59 1.41.59.51 0 1.02-.2 1.41-.59l7.78-7.78 2.81-2.81c.8-.78.8-2.07 0-2.86zM5.41 20L4 18.59l7.72-7.72 1.47 1.35L5.41 20z\"/>\n",
       "  </svg>\n",
       "      </button>\n",
       "      \n",
       "  <style>\n",
       "    .colab-df-container {\n",
       "      display:flex;\n",
       "      flex-wrap:wrap;\n",
       "      gap: 12px;\n",
       "    }\n",
       "\n",
       "    .colab-df-convert {\n",
       "      background-color: #E8F0FE;\n",
       "      border: none;\n",
       "      border-radius: 50%;\n",
       "      cursor: pointer;\n",
       "      display: none;\n",
       "      fill: #1967D2;\n",
       "      height: 32px;\n",
       "      padding: 0 0 0 0;\n",
       "      width: 32px;\n",
       "    }\n",
       "\n",
       "    .colab-df-convert:hover {\n",
       "      background-color: #E2EBFA;\n",
       "      box-shadow: 0px 1px 2px rgba(60, 64, 67, 0.3), 0px 1px 3px 1px rgba(60, 64, 67, 0.15);\n",
       "      fill: #174EA6;\n",
       "    }\n",
       "\n",
       "    [theme=dark] .colab-df-convert {\n",
       "      background-color: #3B4455;\n",
       "      fill: #D2E3FC;\n",
       "    }\n",
       "\n",
       "    [theme=dark] .colab-df-convert:hover {\n",
       "      background-color: #434B5C;\n",
       "      box-shadow: 0px 1px 3px 1px rgba(0, 0, 0, 0.15);\n",
       "      filter: drop-shadow(0px 1px 2px rgba(0, 0, 0, 0.3));\n",
       "      fill: #FFFFFF;\n",
       "    }\n",
       "  </style>\n",
       "\n",
       "      <script>\n",
       "        const buttonEl =\n",
       "          document.querySelector('#df-4a779646-03a8-4791-b69d-f964725f1e13 button.colab-df-convert');\n",
       "        buttonEl.style.display =\n",
       "          google.colab.kernel.accessAllowed ? 'block' : 'none';\n",
       "\n",
       "        async function convertToInteractive(key) {\n",
       "          const element = document.querySelector('#df-4a779646-03a8-4791-b69d-f964725f1e13');\n",
       "          const dataTable =\n",
       "            await google.colab.kernel.invokeFunction('convertToInteractive',\n",
       "                                                     [key], {});\n",
       "          if (!dataTable) return;\n",
       "\n",
       "          const docLinkHtml = 'Like what you see? Visit the ' +\n",
       "            '<a target=\"_blank\" href=https://colab.research.google.com/notebooks/data_table.ipynb>data table notebook</a>'\n",
       "            + ' to learn more about interactive tables.';\n",
       "          element.innerHTML = '';\n",
       "          dataTable['output_type'] = 'display_data';\n",
       "          await google.colab.output.renderOutput(dataTable, element);\n",
       "          const docLink = document.createElement('div');\n",
       "          docLink.innerHTML = docLinkHtml;\n",
       "          element.appendChild(docLink);\n",
       "        }\n",
       "      </script>\n",
       "    </div>\n",
       "  </div>\n",
       "  "
      ],
      "text/plain": [
       "              precision    recall  f1-score      support\n",
       "0              0.478261  0.481481  0.479866   594.000000\n",
       "1              0.407745  0.329044  0.364191   544.000000\n",
       "2              0.608553  0.609555  0.609053   607.000000\n",
       "3              0.632732  0.726331  0.676309   676.000000\n",
       "accuracy       0.547708  0.547708  0.547708     0.547708\n",
       "macro avg      0.531823  0.536603  0.532355  2421.000000\n",
       "weighted avg   0.538215  0.547708  0.541115  2421.000000"
      ]
     },
     "execution_count": 196,
     "metadata": {},
     "output_type": "execute_result"
    }
   ],
   "source": [
    "ada_hypreport = classification_report(y_test,y_pred,output_dict=True)\n",
    "ada_df2 = pd.DataFrame(ada_hypreport).transpose()\n",
    "ada_df2"
   ]
  },
  {
   "cell_type": "code",
   "execution_count": 197,
   "id": "Ord9ZLLxHeSz",
   "metadata": {
    "colab": {
     "base_uri": "https://localhost:8080/",
     "height": 295
    },
    "id": "Ord9ZLLxHeSz",
    "outputId": "8dcbc436-aa04-4f8b-94a1-afb5e75c6b93"
   },
   "outputs": [
    {
     "data": {
      "image/png": "[encoded data removed]",
      "text/plain": [
       "<Figure size 576x288 with 2 Axes>"
      ]
     },
     "metadata": {
      "needs_background": "light"
     },
     "output_type": "display_data"
    }
   ],
   "source": [
    "# Creating  a confusion matrix,which compares the y_test and y_pred\n",
    "cm = confusion_matrix(y_test, y_pred)\n",
    "# Creating a dataframe for a array-formatted Confusion matrix,so it will be easy for plotting.\n",
    "cm_df = pd.DataFrame(cm, index = ['A','B','C','D'], columns = ['A','B','C','D'])\n",
    "\n",
    "#Plotting the confusion matrix\n",
    "plt.figure(figsize=(8,4))\n",
    "sns.heatmap(cm_df, annot=True,cbar=True, fmt='g')\n",
    "\n",
    "plt.xlabel('Predicted Values')\n",
    "plt.ylabel('Actual Values')\n",
    "plt.title('Confusion Matrix')\n",
    "plt.show()"
   ]
  },
  {
   "cell_type": "markdown",
   "id": "SaUEddiTbKch",
   "metadata": {
    "id": "SaUEddiTbKch"
   },
   "source": [
    "We can see from below confusion matrix that,\n",
    "\n",
    "For example, if we take class A, then let’s see what are the values of the metrics from the confusion matrix.\n",
    "\n",
    "A) TP = 286\n",
    "\n",
    "B) TN = 1515\n",
    "\n",
    "C) FN = 127 + 47 + 138  \n",
    "\n",
    "D) FP = 120+58+130"
   ]
  },
  {
   "cell_type": "markdown",
   "id": "wdDuyi5L0DDx",
   "metadata": {
    "id": "wdDuyi5L0DDx"
   },
   "source": [
    "**Predicting the best accurate model on the test data provided**"
   ]
  },
  {
   "cell_type": "code",
   "execution_count": 194,
   "id": "1TPm7-5D0CnB",
   "metadata": {
    "id": "1TPm7-5D0CnB"
   },
   "outputs": [],
   "source": [
    "segment_predict = best_grid_search_model.predict(customer_test_df)"
   ]
  },
  {
   "cell_type": "code",
   "execution_count": 200,
   "id": "YzVsfrcu0BsI",
   "metadata": {
    "colab": {
     "base_uri": "https://localhost:8080/"
    },
    "id": "YzVsfrcu0BsI",
    "outputId": "e5cbdfdd-3db2-4427-be76-3680c3b4c9d8"
   },
   "outputs": [
    {
     "name": "stdout",
     "output_type": "stream",
     "text": [
      "************************************\n",
      "[3 2 0 ... 0 1 3]\n"
     ]
    }
   ],
   "source": [
    "print(\"************************************\")\n",
    "print(segment_predict)\n"
   ]
  },
  {
   "cell_type": "code",
   "execution_count": 201,
   "id": "gPpWUSRxS5f4",
   "metadata": {
    "colab": {
     "base_uri": "https://localhost:8080/"
    },
    "id": "gPpWUSRxS5f4",
    "outputId": "9635d118-c784-4f81-b752-bca54a23751a"
   },
   "outputs": [
    {
     "data": {
      "text/plain": [
       "(2627,)"
      ]
     },
     "execution_count": 201,
     "metadata": {},
     "output_type": "execute_result"
    }
   ],
   "source": [
    "segment_predict.shape"
   ]
  },
  {
   "cell_type": "markdown",
   "id": "2c2ea115",
   "metadata": {
    "id": "2c2ea115"
   },
   "source": [
    "### Step12: Analysis and Conclusion "
   ]
  },
  {
   "cell_type": "markdown",
   "id": "a02c6c85",
   "metadata": {
    "id": "a02c6c85"
   },
   "source": [
    "### Analysis of Hyper parameter tuning models"
   ]
  },
  {
   "cell_type": "markdown",
   "id": "a493e674",
   "metadata": {
    "id": "a493e674"
   },
   "source": [
    "**=============================================================================================================**"
   ]
  },
  {
   "cell_type": "markdown",
   "id": "d3317b08",
   "metadata": {
    "id": "d3317b08"
   },
   "source": [
    "Based on the above metric values such as accuracy,precision, f1 score and recall we can say that the Hyperparameter tuned XG BOOST CLASSIFIER outperformed all of the other classifiers.\n",
    "\n",
    "**Accuracy:** Accuracy from model also got increased from 52% to 54.7% in XG Boost Classifier.\n",
    "\n",
    "**Recall:** Recall value got increased in XG Boost Classifier. This is because of the reduce in number of False Negatives and increase in number of True Positives.\n",
    "\n",
    "**Precision:** Precision value also got increased in XG Boost Classifier because of the reduce in number of False positives and increase in number of True Positives\n",
    "\n",
    "\n",
    "\n"
   ]
  },
  {
   "cell_type": "markdown",
   "id": "3810feef",
   "metadata": {
    "id": "3810feef"
   },
   "source": [
    "***Predicting the customer segment for the customers provided in the test data using the highest accuracy model ***"
   ]
  },
  {
   "cell_type": "markdown",
   "id": "e10f00c8",
   "metadata": {
    "id": "e10f00c8"
   },
   "source": [
    "Accuracy of all the classifiers that we have tested in this document\n",
    "\n",
    "1. KNN Classifier - 52.2\n",
    "2. Decision Tree Classifier - 52.2 \n",
    "3. Random Forest Classifier - 54.15\n",
    "4. ADA Boost Classifier - 52.50\n",
    "5. Gradient Boosting Classifier - 54.30\n",
    "6. XG Boost Classifier - 54.77"
   ]
  },
  {
   "cell_type": "markdown",
   "id": "7d710923",
   "metadata": {
    "id": "7d710923"
   },
   "source": [
    "**Conclusion:**\n",
    "\n",
    "**From above metric results, we are selecting XG Boost Classifier in order to predict the customer segements that are stated in the problem statement as it has the highest accuracy across all the models.\n",
    "\n",
    "Based on the values above from \"segment_prediction\" np array, we can say that we are 55% confident on the predicted values using XG Boost Classifier. \n",
    "\n"
   ]
  },
  {
   "cell_type": "markdown",
   "id": "a19660b3",
   "metadata": {
    "id": "a19660b3"
   },
   "source": [
    "**==============================================================================================================**"
   ]
  }
 ],
 "metadata": {
  "accelerator": "TPU",
  "colab": {
   "collapsed_sections": [
    "dace54d7-8943-4623-8914-dc998b268c3c",
    "dbaeb073-300c-4896-a53e-7c7099c33ba0",
    "994eebeb",
    "12f65b6b",
    "7fe84fd1",
    "2677dc46",
    "969b7a14",
    "ab4c3b30",
    "6956aa30-4f67-48e6-aa3c-7a5288ed9bac",
    "1c89a1ed",
    "f41ae7fa",
    "cae8aaad",
    "5207e3c0",
    "a65d8d6b",
    "a90fd768-6177-4aaa-aa58-4c69ba302db7",
    "7dd603aa-4a78-4c0d-af2f-fc347ef4cbb1",
    "b143b509-b262-4a88-b5fb-80c5ec547e1f",
    "b51ffc7f-d5d5-4667-a770-68ebd765a274",
    "64f48d67",
    "23f5fcd7",
    "6d6f6283",
    "5ef4260f-258a-4b27-829f-fc3d64ae5267"
   ],
   "machine_shape": "hm",
   "provenance": []
  },
  "kernelspec": {
   "display_name": "Python 3 (ipykernel)",
   "language": "python",
   "name": "python3"
  },
  "language_info": {
   "codemirror_mode": {
    "name": "ipython",
    "version": 3
   },
   "file_extension": ".py",
   "mimetype": "text/x-python",
   "name": "python",
   "nbconvert_exporter": "python",
   "pygments_lexer": "ipython3",
   "version": "3.9.13"
  }
 },
 "nbformat": 4,
 "nbformat_minor": 5
}
